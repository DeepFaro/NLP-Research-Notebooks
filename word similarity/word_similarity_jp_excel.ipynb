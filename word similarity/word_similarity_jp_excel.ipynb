{
 "cells": [
  {
   "cell_type": "markdown",
   "metadata": {},
   "source": [
    "## Word similarity measure with spaCy\n",
    "\n",
    "#### Install required library"
   ]
  },
  {
   "cell_type": "code",
   "execution_count": null,
   "metadata": {},
   "outputs": [],
   "source": [
    "#!pip install spacy"
   ]
  },
  {
   "cell_type": "markdown",
   "metadata": {},
   "source": [
    "##### Compute similarity"
   ]
  },
  {
   "cell_type": "code",
   "execution_count": null,
   "metadata": {},
   "outputs": [],
   "source": [
    "def compare_word(nlp_model, w, words_vectors):\n",
    "    \"\"\"\n",
    "    Compares new word with those in the words vectors dictionary\n",
    "    \"\"\"\n",
    "    vec = nlp_model(w)\n",
    "    return {w1:vec.similarity(vec1) for w1,vec1 in words_vectors.items()}"
   ]
  },
  {
   "cell_type": "markdown",
   "metadata": {},
   "source": [
    "## For Japanese\n",
    "#### Download english models : https://spacy.io/models/ja"
   ]
  },
  {
   "cell_type": "code",
   "execution_count": null,
   "metadata": {},
   "outputs": [],
   "source": [
    "#!python -m spacy download ja_core_news_lg"
   ]
  },
  {
   "cell_type": "code",
   "execution_count": null,
   "metadata": {},
   "outputs": [],
   "source": [
    "import pandas as pd\n",
    "from xlwt import Workbook"
   ]
  },
  {
   "cell_type": "code",
   "execution_count": null,
   "metadata": {},
   "outputs": [],
   "source": [
    "df = pd.read_excel(r'dataset_keywords_ranking_reform.xlsx')\n",
    "data = pd.DataFrame(df)\n",
    "\n",
    "data.head()"
   ]
  },
  {
   "cell_type": "code",
   "execution_count": null,
   "metadata": {},
   "outputs": [],
   "source": [
    "first_n_column  = data.iloc[: , :9]\n",
    "first_n_column.head()"
   ]
  },
  {
   "cell_type": "code",
   "execution_count": null,
   "metadata": {},
   "outputs": [],
   "source": [
    "based_word_list = []\n",
    "shape = first_n_column.shape\n",
    "print('Number of columns :', shape[1])\n",
    "cols = [2,3,4,5,6,7,8,9,10]\n",
    "first_n_column['full_keyword'] = first_n_column[cols].fillna('').agg('|'.join, axis=1)\n",
    "\n",
    "first_n_column.head()"
   ]
  },
  {
   "cell_type": "code",
   "execution_count": null,
   "metadata": {},
   "outputs": [],
   "source": [
    "import spacy\n",
    "\n",
    "# load the language model\n",
    "ja_nlp_model = spacy.load('ja_core_news_lg')\n",
    "\n",
    "# set based keyword list\n",
    "word_list = []\n",
    "for index, sent in enumerate(first_n_column['full_keyword']):\n",
    "  key_list = sent.split(\"|\")\n",
    "  for keys in key_list:\n",
    "    if len(keys)>0:\n",
    "      word_list.append(keys.strip())\n",
    "\n",
    "\n",
    "\n",
    "# convert the strings to spaCy Token objects\n",
    "# work sample 50\n",
    "tokens_ = {}\n",
    "temp = word_list[:50]\n",
    "print(temp)\n",
    "for ww in temp:\n",
    "  tokens_[ww] = (ja_nlp_model(ww)[0])\n",
    "\n"
   ]
  },
  {
   "cell_type": "code",
   "execution_count": null,
   "metadata": {},
   "outputs": [],
   "source": [
    "print(len(word_list))"
   ]
  },
  {
   "cell_type": "code",
   "execution_count": null,
   "metadata": {},
   "outputs": [],
   "source": [
    "input_word = 'ファストフード'\n",
    "result = compare_word(ja_nlp_model, input_word, tokens_)"
   ]
  }
 ],
 "metadata": {
  "kernelspec": {
   "display_name": "Python 3.10.4 ('dev')",
   "language": "python",
   "name": "python3"
  },
  "language_info": {
   "codemirror_mode": {
    "name": "ipython",
    "version": 3
   },
   "file_extension": ".py",
   "mimetype": "text/x-python",
   "name": "python",
   "nbconvert_exporter": "python",
   "pygments_lexer": "ipython3",
   "version": "3.10.4"
  },
  "orig_nbformat": 4,
  "vscode": {
   "interpreter": {
    "hash": "84e0bb0f00aa32ad0c8860aa2a23ee550c90ac42a454942d75bec40d4ae650b1"
   }
  }
 },
 "nbformat": 4,
 "nbformat_minor": 2
}
