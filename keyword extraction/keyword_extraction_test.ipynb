{
 "cells": [
  {
   "cell_type": "markdown",
   "metadata": {},
   "source": [
    "#### mecab-python"
   ]
  },
  {
   "cell_type": "code",
   "execution_count": 1,
   "metadata": {},
   "outputs": [
    {
     "name": "stdout",
     "output_type": "stream",
     "text": [
      "92\n"
     ]
    }
   ],
   "source": [
    "import MeCab\n",
    "wakati = MeCab.Tagger(\"-Owakati\")\n",
    "text = \"杉山古墳（すぎやまこふん）は、奈良県奈良市大安寺にある古墳。形状は前方後円墳。大安寺古墳群を構成する古墳の1つ。国の史跡に指定されている（史跡「大安寺旧境内 附 石橋瓦窯跡」のうち）。\" \n",
    "words = wakati.parse(text).split()\n",
    "print(len(text)) "
   ]
  },
  {
   "cell_type": "code",
   "execution_count": null,
   "metadata": {},
   "outputs": [],
   "source": [
    "#!pip install mecab-python3==0.996.3"
   ]
  },
  {
   "cell_type": "markdown",
   "metadata": {},
   "source": [
    "## Rake"
   ]
  },
  {
   "cell_type": "code",
   "execution_count": 2,
   "metadata": {},
   "outputs": [],
   "source": [
    "from rake_nltk import Rake\n",
    "from xlwt import Workbook\n",
    "rake = Rake()"
   ]
  },
  {
   "cell_type": "code",
   "execution_count": 3,
   "metadata": {},
   "outputs": [
    {
     "name": "stdout",
     "output_type": "stream",
     "text": [
      "[(4.0, 'wide bangs'), (4.0, 'bangs style'), (4.0, 'attracting attention'), (1.0, 'temples'), (1.0, 'extend'), (1.0, 'days')]\n",
      "6\n"
     ]
    }
   ],
   "source": [
    "# Extraction given the text.\n",
    "input_str_jp = r\"こめかみまで幅があるワイドバングは、昨今注目を浴びている前髪スタイル\"\n",
    "input_str_eng = r\"Wide bangs that extend to the temples are a bangs style that is attracting attention these days.\"\n",
    "\n",
    "keywords = rake.extract_keywords_from_text(input_str_eng)\n",
    "\n",
    "# To get keyword phrases ranked highest to lowest.\n",
    "rake.get_ranked_phrases()\n",
    "\n",
    "# To get keyword phrases ranked highest to lowest with scores.\n",
    "keywords = rake.get_ranked_phrases_with_scores()\n",
    "print(keywords)\n",
    "print(len(keywords))"
   ]
  },
  {
   "cell_type": "code",
   "execution_count": 4,
   "metadata": {},
   "outputs": [],
   "source": [
    "input_str_jp = \"そんなワイドバングは、面長さんと特に相性が良いとされています。顔の縦幅が長めの面長さんがワイドバングで前髪を延長することで、横幅を作り顔のバランスを補正することができるためです。\""
   ]
  },
  {
   "cell_type": "code",
   "execution_count": 6,
   "metadata": {},
   "outputs": [
    {
     "name": "stdout",
     "output_type": "stream",
     "text": [
      "0.0009992122650146484\n",
      "{'バランス': 3.0, 'そんな': 2.0, 'ワイド': 2.0, 'バング': 2.0, '面長': 1.0, 'さん': 1.0, '相性': 1.0, '良い': 1.0, '縦幅': 1.0, '長め': 1.0, '前髪': 1.0, '延長': 1.0, '横幅': 1.0, '作り': 1.0, '補正': 1.0, '顔': 0.0}\n",
      "16\n"
     ]
    }
   ],
   "source": [
    "import time\n",
    "from RAKE_JPN.rake import Rake\n",
    "\n",
    "rake = Rake()\n",
    "\n",
    "start_time = time.time()\n",
    "extracted_keywords = rake.get_keywords(input_str_jp,0)\n",
    "print(time.time()-start_time)\n",
    "print(extracted_keywords)  # get_keywords takes two params: 1. Text, 2. Max number of keywords to return, if zero then returns all keywords.\n",
    "print(len(extracted_keywords))"
   ]
  },
  {
   "cell_type": "code",
   "execution_count": null,
   "metadata": {},
   "outputs": [],
   "source": []
  },
  {
   "cell_type": "markdown",
   "metadata": {},
   "source": []
  },
  {
   "cell_type": "markdown",
   "metadata": {},
   "source": []
  }
 ],
 "metadata": {
  "kernelspec": {
   "display_name": "Python 3.9.12 ('tharhtet')",
   "language": "python",
   "name": "python3"
  },
  "language_info": {
   "codemirror_mode": {
    "name": "ipython",
    "version": 3
   },
   "file_extension": ".py",
   "mimetype": "text/x-python",
   "name": "python",
   "nbconvert_exporter": "python",
   "pygments_lexer": "ipython3",
   "version": "3.9.12"
  },
  "orig_nbformat": 4,
  "vscode": {
   "interpreter": {
    "hash": "b46ff7e5b8b7911cfa9955e23e477c53e63d207f4b9ab3253a6a5ac7336ecbe5"
   }
  }
 },
 "nbformat": 4,
 "nbformat_minor": 2
}
