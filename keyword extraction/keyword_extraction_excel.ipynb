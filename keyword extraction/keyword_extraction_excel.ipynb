{
 "cells": [
  {
   "cell_type": "markdown",
   "metadata": {},
   "source": [
    "## Rake"
   ]
  },
  {
   "cell_type": "code",
   "execution_count": 10,
   "metadata": {},
   "outputs": [],
   "source": [
    "import pandas as pd\n",
    "import time\n",
    "from RAKE_JPN.rake import Rake\n",
    "from xlwt import Workbook"
   ]
  },
  {
   "cell_type": "code",
   "execution_count": 11,
   "metadata": {},
   "outputs": [],
   "source": [
    "def get_keywordlist(input_str_jp):\n",
    "    \n",
    "    rake = Rake()\n",
    "    start_time = time.time()\n",
    "    extracted_keywords = rake.get_keywords(input_str_jp,0)\n",
    "    #print(time.time()-start_time)\n",
    "    #print(extracted_keywords)  # get_keywords takes two params: 1. Text, 2. Max number of keywords to return, if zero then returns all keywords.\n",
    "    #print(len(extracted_keywords))\n",
    "    keyword_ = []\n",
    "    for key, value in extracted_keywords.items():\n",
    "\n",
    "        if value >= 2:\n",
    "            keyword_.append(key)\n",
    "\n",
    "    return keyword_\n",
    "\n"
   ]
  },
  {
   "cell_type": "code",
   "execution_count": 12,
   "metadata": {},
   "outputs": [],
   "source": [
    "df = pd.read_excel('dataset_4words.xlsx')\n",
    "data = pd.DataFrame(df, columns=['prefix', 'input_text', 'target_text'])"
   ]
  },
  {
   "cell_type": "code",
   "execution_count": 13,
   "metadata": {},
   "outputs": [
    {
     "data": {
      "text/html": [
       "<div>\n",
       "<style scoped>\n",
       "    .dataframe tbody tr th:only-of-type {\n",
       "        vertical-align: middle;\n",
       "    }\n",
       "\n",
       "    .dataframe tbody tr th {\n",
       "        vertical-align: top;\n",
       "    }\n",
       "\n",
       "    .dataframe thead th {\n",
       "        text-align: right;\n",
       "    }\n",
       "</style>\n",
       "<table border=\"1\" class=\"dataframe\">\n",
       "  <thead>\n",
       "    <tr style=\"text-align: right;\">\n",
       "      <th></th>\n",
       "      <th>prefix</th>\n",
       "      <th>input_text</th>\n",
       "      <th>target_text</th>\n",
       "    </tr>\n",
       "  </thead>\n",
       "  <tbody>\n",
       "    <tr>\n",
       "      <th>0</th>\n",
       "      <td>生成する</td>\n",
       "      <td>アレンジ | かわいく | 伸ばし | ヘア</td>\n",
       "      <td>ヘアアレンジ 伸ばしかけの髪も、かわいくアレンジしたい！</td>\n",
       "    </tr>\n",
       "    <tr>\n",
       "      <th>1</th>\n",
       "      <td>生成する</td>\n",
       "      <td>アレンジ | 叶える | ハーフ | アップ</td>\n",
       "      <td>願いを叶える旬のヘアアレンジ ハーフアップ ハーフアップ 伸ばしかけ 三つ編み 2019年1...</td>\n",
       "    </tr>\n",
       "    <tr>\n",
       "      <th>2</th>\n",
       "      <td>生成する</td>\n",
       "      <td>とびきり | キュート | アレンジ | 見慣れ</td>\n",
       "      <td>見慣れた髪にいつもと違う印象をプラスするなら…とびきりキュートなヘアアレンジを参考にしてみて！</td>\n",
       "    </tr>\n",
       "    <tr>\n",
       "      <th>3</th>\n",
       "      <td>生成する</td>\n",
       "      <td>アレンジ | でかけ | 試し | たい</td>\n",
       "      <td>おでかけのときに試したい、旬なアレンジを集めてみました。</td>\n",
       "    </tr>\n",
       "    <tr>\n",
       "      <th>4</th>\n",
       "      <td>生成する</td>\n",
       "      <td>さみしい | 伸ばし | いつも | 目次</td>\n",
       "      <td>目次 伸ばしかけの髪はいつも同じ印象…じゃ、さみしい！</td>\n",
       "    </tr>\n",
       "  </tbody>\n",
       "</table>\n",
       "</div>"
      ],
      "text/plain": [
       "  prefix                input_text  \\\n",
       "0   生成する    アレンジ | かわいく | 伸ばし | ヘア   \n",
       "1   生成する    アレンジ | 叶える | ハーフ | アップ   \n",
       "2   生成する  とびきり | キュート | アレンジ | 見慣れ   \n",
       "3   生成する      アレンジ | でかけ | 試し | たい   \n",
       "4   生成する     さみしい | 伸ばし | いつも | 目次   \n",
       "\n",
       "                                         target_text  \n",
       "0                       ヘアアレンジ 伸ばしかけの髪も、かわいくアレンジしたい！  \n",
       "1  願いを叶える旬のヘアアレンジ ハーフアップ ハーフアップ 伸ばしかけ 三つ編み 2019年1...  \n",
       "2    見慣れた髪にいつもと違う印象をプラスするなら…とびきりキュートなヘアアレンジを参考にしてみて！  \n",
       "3                       おでかけのときに試したい、旬なアレンジを集めてみました。  \n",
       "4                        目次 伸ばしかけの髪はいつも同じ印象…じゃ、さみしい！  "
      ]
     },
     "execution_count": 13,
     "metadata": {},
     "output_type": "execute_result"
    }
   ],
   "source": [
    "data.head()"
   ]
  },
  {
   "cell_type": "code",
   "execution_count": 14,
   "metadata": {},
   "outputs": [
    {
     "data": {
      "text/plain": [
       "(97304, 3)"
      ]
     },
     "execution_count": 14,
     "metadata": {},
     "output_type": "execute_result"
    }
   ],
   "source": [
    "data.shape"
   ]
  },
  {
   "cell_type": "code",
   "execution_count": 15,
   "metadata": {},
   "outputs": [],
   "source": [
    "wb = Workbook()\n",
    "sheet1 = wb.add_sheet(str(1))\n",
    "sheet1.write(0, 0, \"prefix\")\n",
    "sheet1.write(0, 1, \"keywords\")\n",
    "sheet1.write(0, 2, \"target_text\")\n"
   ]
  },
  {
   "cell_type": "code",
   "execution_count": 16,
   "metadata": {},
   "outputs": [
    {
     "name": "stdout",
     "output_type": "stream",
     "text": [
      "悩み解消のおすすめスタイル参考集 ヘアスタイル 逆三角形顔さんに似合う、2022年最新髪型特集！\n"
     ]
    }
   ],
   "source": [
    "\n",
    "for index, sent in enumerate(data['target_text']):\n",
    "    try:\n",
    "        keyword_str = \" | \".join(get_keywordlist(sent))\n",
    "        sheet1.write(index+1, 0, \"生成する\")\n",
    "        sheet1.write(index+1, 1, keyword_str)\n",
    "        sheet1.write(index+1, 2, sent)\n",
    "    except:\n",
    "        print(index)\n",
    "        print(sent)\n",
    "    \n",
    "wb.save('dataset_keywords.xls')    \n",
    "print(sent)"
   ]
  }
 ],
 "metadata": {
  "kernelspec": {
   "display_name": "Python 3.9.12 ('base')",
   "language": "python",
   "name": "python3"
  },
  "language_info": {
   "codemirror_mode": {
    "name": "ipython",
    "version": 3
   },
   "file_extension": ".py",
   "mimetype": "text/x-python",
   "name": "python",
   "nbconvert_exporter": "python",
   "pygments_lexer": "ipython3",
   "version": "3.9.12"
  },
  "orig_nbformat": 4,
  "vscode": {
   "interpreter": {
    "hash": "ffdbdde1c7f3cb0c6e4302d47b8b69bbc9567b6e444b9944e0284485fba4246d"
   }
  }
 },
 "nbformat": 4,
 "nbformat_minor": 2
}
