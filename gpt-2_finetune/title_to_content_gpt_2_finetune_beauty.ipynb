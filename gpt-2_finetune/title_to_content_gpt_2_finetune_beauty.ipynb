{
  "cells": [
    {
      "cell_type": "code",
      "execution_count": null,
      "metadata": {
        "id": "9W-LhzSlkVQ0",
        "colab": {
          "base_uri": "https://localhost:8080/"
        },
        "outputId": "5b470de3-d512-4d58-917a-dffd7ae997ed"
      },
      "outputs": [
        {
          "output_type": "stream",
          "name": "stdout",
          "text": [
            "Drive already mounted at /content/drive; to attempt to forcibly remount, call drive.mount(\"/content/drive\", force_remount=True).\n"
          ]
        }
      ],
      "source": [
        "from google.colab import drive\n",
        "drive.mount('/content/drive')"
      ]
    },
    {
      "cell_type": "code",
      "execution_count": null,
      "metadata": {
        "id": "Grwf_qpExalj",
        "colab": {
          "base_uri": "https://localhost:8080/"
        },
        "outputId": "7f0977f4-8605-46a4-ac63-1c024c200334"
      },
      "outputs": [
        {
          "output_type": "stream",
          "name": "stdout",
          "text": [
            "Looking in indexes: https://pypi.org/simple, https://us-python.pkg.dev/colab-wheels/public/simple/\n",
            "Requirement already satisfied: transformers in /usr/local/lib/python3.7/dist-packages (4.24.0)\n",
            "Requirement already satisfied: pyyaml>=5.1 in /usr/local/lib/python3.7/dist-packages (from transformers) (6.0)\n",
            "Requirement already satisfied: packaging>=20.0 in /usr/local/lib/python3.7/dist-packages (from transformers) (21.3)\n",
            "Requirement already satisfied: huggingface-hub<1.0,>=0.10.0 in /usr/local/lib/python3.7/dist-packages (from transformers) (0.11.0)\n",
            "Requirement already satisfied: importlib-metadata in /usr/local/lib/python3.7/dist-packages (from transformers) (4.13.0)\n",
            "Requirement already satisfied: requests in /usr/local/lib/python3.7/dist-packages (from transformers) (2.23.0)\n",
            "Requirement already satisfied: tqdm>=4.27 in /usr/local/lib/python3.7/dist-packages (from transformers) (4.64.1)\n",
            "Requirement already satisfied: tokenizers!=0.11.3,<0.14,>=0.11.1 in /usr/local/lib/python3.7/dist-packages (from transformers) (0.13.2)\n",
            "Requirement already satisfied: filelock in /usr/local/lib/python3.7/dist-packages (from transformers) (3.8.0)\n",
            "Requirement already satisfied: regex!=2019.12.17 in /usr/local/lib/python3.7/dist-packages (from transformers) (2022.6.2)\n",
            "Requirement already satisfied: numpy>=1.17 in /usr/local/lib/python3.7/dist-packages (from transformers) (1.21.6)\n",
            "Requirement already satisfied: typing-extensions>=3.7.4.3 in /usr/local/lib/python3.7/dist-packages (from huggingface-hub<1.0,>=0.10.0->transformers) (4.1.1)\n",
            "Requirement already satisfied: pyparsing!=3.0.5,>=2.0.2 in /usr/local/lib/python3.7/dist-packages (from packaging>=20.0->transformers) (3.0.9)\n",
            "Requirement already satisfied: zipp>=0.5 in /usr/local/lib/python3.7/dist-packages (from importlib-metadata->transformers) (3.10.0)\n",
            "Requirement already satisfied: chardet<4,>=3.0.2 in /usr/local/lib/python3.7/dist-packages (from requests->transformers) (3.0.4)\n",
            "Requirement already satisfied: idna<3,>=2.5 in /usr/local/lib/python3.7/dist-packages (from requests->transformers) (2.10)\n",
            "Requirement already satisfied: urllib3!=1.25.0,!=1.25.1,<1.26,>=1.21.1 in /usr/local/lib/python3.7/dist-packages (from requests->transformers) (1.24.3)\n",
            "Requirement already satisfied: certifi>=2017.4.17 in /usr/local/lib/python3.7/dist-packages (from requests->transformers) (2022.9.24)\n"
          ]
        }
      ],
      "source": [
        "!pip install transformers"
      ]
    },
    {
      "cell_type": "code",
      "source": [
        "!pip install sentencepiece"
      ],
      "metadata": {
        "id": "_dihpG4pemT7",
        "colab": {
          "base_uri": "https://localhost:8080/"
        },
        "outputId": "8cb5baf9-6f42-4263-d72b-fafd3c9db6f1"
      },
      "execution_count": null,
      "outputs": [
        {
          "output_type": "stream",
          "name": "stdout",
          "text": [
            "Looking in indexes: https://pypi.org/simple, https://us-python.pkg.dev/colab-wheels/public/simple/\n",
            "Requirement already satisfied: sentencepiece in /usr/local/lib/python3.7/dist-packages (0.1.97)\n"
          ]
        }
      ]
    },
    {
      "cell_type": "code",
      "source": [
        "# import\n",
        "import re\n",
        "import json\n",
        "import torch\n",
        "import random\n",
        "import pandas as pd\n",
        "from tqdm import tqdm\n",
        "from torch.utils.data import Dataset, random_split\n",
        "from sklearn.metrics import f1_score\n",
        "from sklearn.model_selection import train_test_split\n",
        "from transformers import GPT2Tokenizer, TrainingArguments, Trainer, GPT2LMHeadModel\n"
      ],
      "metadata": {
        "id": "r1-ME6ADT2lm"
      },
      "execution_count": null,
      "outputs": []
    },
    {
      "cell_type": "markdown",
      "source": [
        "## Dataset"
      ],
      "metadata": {
        "id": "DRi2aNLSTslr"
      }
    },
    {
      "cell_type": "code",
      "source": [
        "# Dataset class\n",
        "class BeautyDataset(Dataset):\n",
        "    def __init__(self, txt_list, label_list, tokenizer, max_length):\n",
        "        # define variables    \n",
        "        self.input_ids = []\n",
        "        self.attn_masks = []\n",
        "        #self.labels = []\n",
        "        \n",
        "        # iterate through the dataset\n",
        "        for txt, label in zip(txt_list, label_list):\n",
        "            txt= txt.replace(\"\\n\", \"\")\n",
        "            #txt_ = (txt[:256]) if len(txt) > 256 else txt\n",
        "\n",
        "            # prepare the text\n",
        "            prep_txt = f'<s> Title: {label} [SEP] Content: {txt}</s>'\n",
        "            # tokenize\n",
        "            encodings_dict = tokenizer(prep_txt, truncation=True,\n",
        "                                       max_length=max_length, padding=\"max_length\")\n",
        "            # append to list\n",
        "            self.input_ids.append(torch.tensor(encodings_dict['input_ids']))\n",
        "            self.attn_masks.append(torch.tensor(encodings_dict['attention_mask']))\n",
        "            #self.labels.append(label)\n",
        "\n",
        "    def __len__(self):\n",
        "        return len(self.input_ids)\n",
        "\n",
        "    def __getitem__(self, idx):\n",
        "        return self.input_ids[idx], self.attn_masks[idx]\n"
      ],
      "metadata": {
        "id": "2Q8JdyLwTqbj"
      },
      "execution_count": null,
      "outputs": []
    },
    {
      "cell_type": "code",
      "source": [
        "def read_content_title():\n",
        "  import glob\n",
        "\n",
        "  path = r'/content/drive/MyDrive/General Purpose Web Scraping Tool/rinna_testing/Corpus/beauty_newdataset/all' # folder\n",
        "  all_files = glob.glob(path + \"/*.csv\")\n",
        "\n",
        "  list_ = []\n",
        "\n",
        "  for filename in all_files:\n",
        "    try:\n",
        "      #print(filename)\n",
        "      df_t = pd.read_csv(filename, index_col=None, header=None, skiprows=1, encoding='utf-8')\n",
        "      list_.append(df_t)\n",
        "    except:\n",
        "      print(f\"reading error in{filename}\")\n",
        "\n",
        "\n",
        "\n",
        "  frame = pd.concat(list_, axis=0, ignore_index=True)\n",
        "  print(f\"length of data frame: {len(frame)}\")\n",
        "  return frame"
      ],
      "metadata": {
        "id": "DiXgVOxzYWjC"
      },
      "execution_count": null,
      "outputs": []
    },
    {
      "cell_type": "code",
      "source": [
        "# Data load function\n",
        "def load_beauty_dataset(tokenizer, random_seed = 1):\n",
        "    # load dataset and sample.\n",
        "    #df = pd.read_csv(file_path, encoding='ISO-8859-1', header=None)\n",
        "    df = read_content_title()\n",
        "    df = df[[0, 1]]\n",
        "    df.columns = ['content', 'title']\n",
        "    df = df.sample(5000, random_state=1)\n",
        "    \n",
        "    max_length = max([len(tokenizer.encode(description)) for description in df['content']])\n",
        "    print(\"Max length: {}\".format(max_length))\n",
        "\n",
        "    dataset = BeautyDataset(df['content'].tolist(), df['title'].tolist(), tokenizer, max_length=512)\n",
        "    dataset.__getitem__(5)\n",
        "\n",
        "    \n",
        "    train_size = int(0.9 * len(dataset))\n",
        "    train_dataset, val_dataset = random_split(dataset, [train_size, len(dataset) - train_size])\n",
        "    print(len(dataset))\n",
        "\n",
        "    # return\n",
        "    return train_dataset, val_dataset"
      ],
      "metadata": {
        "id": "yUfT0J7_YAcC"
      },
      "execution_count": null,
      "outputs": []
    },
    {
      "cell_type": "code",
      "execution_count": null,
      "metadata": {
        "colab": {
          "base_uri": "https://localhost:8080/"
        },
        "id": "Ypo_dRLADD-t",
        "outputId": "db0a83f6-1bfc-4b6f-992d-4e46041e3475"
      },
      "outputs": [
        {
          "output_type": "stream",
          "name": "stderr",
          "text": [
            "Special tokens have been added in the vocabulary, make sure the associated word embeddings are fine-tuned or trained.\n"
          ]
        }
      ],
      "source": [
        "from transformers import T5Tokenizer, AutoModelForCausalLM, GPT2LMHeadModel\n",
        "  \n",
        "tokenizer = T5Tokenizer.from_pretrained(\"rinna/japanese-gpt2-medium\", bos_token='<s>', eos_token='</s>', pad_token='<pad>')\n",
        "\n",
        "\n",
        "model = AutoModelForCausalLM.from_pretrained(\"rinna/japanese-gpt2-medium\")"
      ]
    },
    {
      "cell_type": "code",
      "execution_count": null,
      "metadata": {
        "colab": {
          "base_uri": "https://localhost:8080/"
        },
        "id": "T4veFbFBxz54",
        "outputId": "e0814772-2b27-4613-f91e-00398d3fa0d0"
      },
      "outputs": [
        {
          "output_type": "execute_result",
          "data": {
            "text/plain": [
              "Embedding(32001, 1024)"
            ]
          },
          "metadata": {},
          "execution_count": 9
        }
      ],
      "source": [
        "model.resize_token_embeddings(len(tokenizer))"
      ]
    },
    {
      "cell_type": "code",
      "source": [
        "for trial_no in range(1):\n",
        "  print(\"Loading dataset...\")\n",
        "  train_dataset, val_dataset = load_beauty_dataset(tokenizer, trial_no)"
      ],
      "metadata": {
        "id": "vsCoyVnJV--E",
        "colab": {
          "base_uri": "https://localhost:8080/"
        },
        "outputId": "256b32fa-c04b-467b-e86a-7c56298ab3a1"
      },
      "execution_count": null,
      "outputs": [
        {
          "output_type": "stream",
          "name": "stdout",
          "text": [
            "Loading dataset...\n",
            "reading error in/content/drive/MyDrive/General Purpose Web Scraping Tool/rinna_testing/Corpus/beauty_newdataset/all/beauty_490820.csv\n",
            "reading error in/content/drive/MyDrive/General Purpose Web Scraping Tool/rinna_testing/Corpus/beauty_newdataset/all/beauty_442040.csv\n",
            "reading error in/content/drive/MyDrive/General Purpose Web Scraping Tool/rinna_testing/Corpus/beauty_newdataset/all/beauty_513726.csv\n",
            "reading error in/content/drive/MyDrive/General Purpose Web Scraping Tool/rinna_testing/Corpus/beauty_newdataset/all/beauty_283249.csv\n",
            "reading error in/content/drive/MyDrive/General Purpose Web Scraping Tool/rinna_testing/Corpus/beauty_newdataset/all/beauty_693263.csv\n",
            "reading error in/content/drive/MyDrive/General Purpose Web Scraping Tool/rinna_testing/Corpus/beauty_newdataset/all/beauty_895475.csv\n",
            "reading error in/content/drive/MyDrive/General Purpose Web Scraping Tool/rinna_testing/Corpus/beauty_newdataset/all/beauty_742192.csv\n",
            "reading error in/content/drive/MyDrive/General Purpose Web Scraping Tool/rinna_testing/Corpus/beauty_newdataset/all/beauty_119386.csv\n",
            "reading error in/content/drive/MyDrive/General Purpose Web Scraping Tool/rinna_testing/Corpus/beauty_newdataset/all/beauty_289909.csv\n",
            "reading error in/content/drive/MyDrive/General Purpose Web Scraping Tool/rinna_testing/Corpus/beauty_newdataset/all/beauty_367175.csv\n",
            "reading error in/content/drive/MyDrive/General Purpose Web Scraping Tool/rinna_testing/Corpus/beauty_newdataset/all/beauty_387699.csv\n",
            "reading error in/content/drive/MyDrive/General Purpose Web Scraping Tool/rinna_testing/Corpus/beauty_newdataset/all/beauty_875082.csv\n",
            "reading error in/content/drive/MyDrive/General Purpose Web Scraping Tool/rinna_testing/Corpus/beauty_newdataset/all/beauty_225760.csv\n",
            "reading error in/content/drive/MyDrive/General Purpose Web Scraping Tool/rinna_testing/Corpus/beauty_newdataset/all/beauty_022481.csv\n",
            "reading error in/content/drive/MyDrive/General Purpose Web Scraping Tool/rinna_testing/Corpus/beauty_newdataset/all/beauty_267064.csv\n",
            "reading error in/content/drive/MyDrive/General Purpose Web Scraping Tool/rinna_testing/Corpus/beauty_newdataset/all/beauty_986764.csv\n",
            "reading error in/content/drive/MyDrive/General Purpose Web Scraping Tool/rinna_testing/Corpus/beauty_newdataset/all/beauty_810296.csv\n",
            "reading error in/content/drive/MyDrive/General Purpose Web Scraping Tool/rinna_testing/Corpus/beauty_newdataset/all/beauty_959645.csv\n",
            "reading error in/content/drive/MyDrive/General Purpose Web Scraping Tool/rinna_testing/Corpus/beauty_newdataset/all/beauty_653723.csv\n",
            "reading error in/content/drive/MyDrive/General Purpose Web Scraping Tool/rinna_testing/Corpus/beauty_newdataset/all/beauty_706262.csv\n",
            "reading error in/content/drive/MyDrive/General Purpose Web Scraping Tool/rinna_testing/Corpus/beauty_newdataset/all/beauty_207670.csv\n",
            "reading error in/content/drive/MyDrive/General Purpose Web Scraping Tool/rinna_testing/Corpus/beauty_newdataset/all/beauty_704916.csv\n",
            "reading error in/content/drive/MyDrive/General Purpose Web Scraping Tool/rinna_testing/Corpus/beauty_newdataset/all/beauty_874495.csv\n",
            "reading error in/content/drive/MyDrive/General Purpose Web Scraping Tool/rinna_testing/Corpus/beauty_newdataset/all/beauty_946259.csv\n",
            "reading error in/content/drive/MyDrive/General Purpose Web Scraping Tool/rinna_testing/Corpus/beauty_newdataset/all/beauty_685999.csv\n",
            "reading error in/content/drive/MyDrive/General Purpose Web Scraping Tool/rinna_testing/Corpus/beauty_newdataset/all/beauty_441922.csv\n",
            "reading error in/content/drive/MyDrive/General Purpose Web Scraping Tool/rinna_testing/Corpus/beauty_newdataset/all/beauty_532755.csv\n",
            "reading error in/content/drive/MyDrive/General Purpose Web Scraping Tool/rinna_testing/Corpus/beauty_newdataset/all/beauty_511990.csv\n",
            "reading error in/content/drive/MyDrive/General Purpose Web Scraping Tool/rinna_testing/Corpus/beauty_newdataset/all/beauty_416592.csv\n",
            "reading error in/content/drive/MyDrive/General Purpose Web Scraping Tool/rinna_testing/Corpus/beauty_newdataset/all/beauty_737907.csv\n",
            "reading error in/content/drive/MyDrive/General Purpose Web Scraping Tool/rinna_testing/Corpus/beauty_newdataset/all/beauty_723492.csv\n",
            "reading error in/content/drive/MyDrive/General Purpose Web Scraping Tool/rinna_testing/Corpus/beauty_newdataset/all/beauty_606357.csv\n",
            "reading error in/content/drive/MyDrive/General Purpose Web Scraping Tool/rinna_testing/Corpus/beauty_newdataset/all/beauty_604327.csv\n",
            "reading error in/content/drive/MyDrive/General Purpose Web Scraping Tool/rinna_testing/Corpus/beauty_newdataset/all/beauty_628059.csv\n",
            "reading error in/content/drive/MyDrive/General Purpose Web Scraping Tool/rinna_testing/Corpus/beauty_newdataset/all/beauty_468037.csv\n",
            "reading error in/content/drive/MyDrive/General Purpose Web Scraping Tool/rinna_testing/Corpus/beauty_newdataset/all/beauty_471948.csv\n",
            "reading error in/content/drive/MyDrive/General Purpose Web Scraping Tool/rinna_testing/Corpus/beauty_newdataset/all/beauty_601170.csv\n",
            "reading error in/content/drive/MyDrive/General Purpose Web Scraping Tool/rinna_testing/Corpus/beauty_newdataset/all/beauty_453131.csv\n",
            "reading error in/content/drive/MyDrive/General Purpose Web Scraping Tool/rinna_testing/Corpus/beauty_newdataset/all/beauty_566080.csv\n",
            "reading error in/content/drive/MyDrive/General Purpose Web Scraping Tool/rinna_testing/Corpus/beauty_newdataset/all/beauty_451525.csv\n",
            "reading error in/content/drive/MyDrive/General Purpose Web Scraping Tool/rinna_testing/Corpus/beauty_newdataset/all/beauty_645071.csv\n",
            "reading error in/content/drive/MyDrive/General Purpose Web Scraping Tool/rinna_testing/Corpus/beauty_newdataset/all/beauty_655856.csv\n",
            "reading error in/content/drive/MyDrive/General Purpose Web Scraping Tool/rinna_testing/Corpus/beauty_newdataset/all/beauty_566882.csv\n",
            "reading error in/content/drive/MyDrive/General Purpose Web Scraping Tool/rinna_testing/Corpus/beauty_newdataset/all/beauty_611969.csv\n",
            "reading error in/content/drive/MyDrive/General Purpose Web Scraping Tool/rinna_testing/Corpus/beauty_newdataset/all/beauty_425431.csv\n",
            "reading error in/content/drive/MyDrive/General Purpose Web Scraping Tool/rinna_testing/Corpus/beauty_newdataset/all/beauty_449118.csv\n",
            "reading error in/content/drive/MyDrive/General Purpose Web Scraping Tool/rinna_testing/Corpus/beauty_newdataset/all/beauty_615497.csv\n",
            "reading error in/content/drive/MyDrive/General Purpose Web Scraping Tool/rinna_testing/Corpus/beauty_newdataset/all/beauty_493322.csv\n",
            "reading error in/content/drive/MyDrive/General Purpose Web Scraping Tool/rinna_testing/Corpus/beauty_newdataset/all/beauty_642477.csv\n",
            "reading error in/content/drive/MyDrive/General Purpose Web Scraping Tool/rinna_testing/Corpus/beauty_newdataset/all/beauty_598555.csv\n",
            "reading error in/content/drive/MyDrive/General Purpose Web Scraping Tool/rinna_testing/Corpus/beauty_newdataset/all/beauty_462095.csv\n",
            "reading error in/content/drive/MyDrive/General Purpose Web Scraping Tool/rinna_testing/Corpus/beauty_newdataset/all/beauty_432938.csv\n",
            "reading error in/content/drive/MyDrive/General Purpose Web Scraping Tool/rinna_testing/Corpus/beauty_newdataset/all/beauty_644005.csv\n",
            "reading error in/content/drive/MyDrive/General Purpose Web Scraping Tool/rinna_testing/Corpus/beauty_newdataset/all/beauty_477400.csv\n",
            "reading error in/content/drive/MyDrive/General Purpose Web Scraping Tool/rinna_testing/Corpus/beauty_newdataset/all/beauty_485962.csv\n",
            "reading error in/content/drive/MyDrive/General Purpose Web Scraping Tool/rinna_testing/Corpus/beauty_newdataset/all/beauty_432373.csv\n",
            "reading error in/content/drive/MyDrive/General Purpose Web Scraping Tool/rinna_testing/Corpus/beauty_newdataset/all/beauty_499127.csv\n",
            "reading error in/content/drive/MyDrive/General Purpose Web Scraping Tool/rinna_testing/Corpus/beauty_newdataset/all/beauty_584894.csv\n",
            "reading error in/content/drive/MyDrive/General Purpose Web Scraping Tool/rinna_testing/Corpus/beauty_newdataset/all/beauty_492060.csv\n",
            "reading error in/content/drive/MyDrive/General Purpose Web Scraping Tool/rinna_testing/Corpus/beauty_newdataset/all/beauty_657314.csv\n",
            "reading error in/content/drive/MyDrive/General Purpose Web Scraping Tool/rinna_testing/Corpus/beauty_newdataset/all/beauty_572339.csv\n",
            "reading error in/content/drive/MyDrive/General Purpose Web Scraping Tool/rinna_testing/Corpus/beauty_newdataset/all/beauty_742967.csv\n",
            "reading error in/content/drive/MyDrive/General Purpose Web Scraping Tool/rinna_testing/Corpus/beauty_newdataset/all/beauty_485270.csv\n",
            "reading error in/content/drive/MyDrive/General Purpose Web Scraping Tool/rinna_testing/Corpus/beauty_newdataset/all/beauty_541467.csv\n",
            "reading error in/content/drive/MyDrive/General Purpose Web Scraping Tool/rinna_testing/Corpus/beauty_newdataset/all/beauty_735801.csv\n",
            "reading error in/content/drive/MyDrive/General Purpose Web Scraping Tool/rinna_testing/Corpus/beauty_newdataset/all/beauty_594887.csv\n",
            "reading error in/content/drive/MyDrive/General Purpose Web Scraping Tool/rinna_testing/Corpus/beauty_newdataset/all/beauty_484913.csv\n",
            "reading error in/content/drive/MyDrive/General Purpose Web Scraping Tool/rinna_testing/Corpus/beauty_newdataset/all/beauty_720435.csv\n",
            "reading error in/content/drive/MyDrive/General Purpose Web Scraping Tool/rinna_testing/Corpus/beauty_newdataset/all/beauty_466093.csv\n",
            "reading error in/content/drive/MyDrive/General Purpose Web Scraping Tool/rinna_testing/Corpus/beauty_newdataset/all/beauty_650311.csv\n",
            "reading error in/content/drive/MyDrive/General Purpose Web Scraping Tool/rinna_testing/Corpus/beauty_newdataset/all/beauty_417252.csv\n",
            "reading error in/content/drive/MyDrive/General Purpose Web Scraping Tool/rinna_testing/Corpus/beauty_newdataset/all/beauty_711638.csv\n",
            "reading error in/content/drive/MyDrive/General Purpose Web Scraping Tool/rinna_testing/Corpus/beauty_newdataset/all/beauty_436393.csv\n",
            "reading error in/content/drive/MyDrive/General Purpose Web Scraping Tool/rinna_testing/Corpus/beauty_newdataset/all/beauty_537040.csv\n",
            "reading error in/content/drive/MyDrive/General Purpose Web Scraping Tool/rinna_testing/Corpus/beauty_newdataset/all/beauty_544785.csv\n",
            "reading error in/content/drive/MyDrive/General Purpose Web Scraping Tool/rinna_testing/Corpus/beauty_newdataset/all/beauty_420139.csv\n",
            "reading error in/content/drive/MyDrive/General Purpose Web Scraping Tool/rinna_testing/Corpus/beauty_newdataset/all/beauty_508860.csv\n",
            "reading error in/content/drive/MyDrive/General Purpose Web Scraping Tool/rinna_testing/Corpus/beauty_newdataset/all/beauty_531370.csv\n",
            "reading error in/content/drive/MyDrive/General Purpose Web Scraping Tool/rinna_testing/Corpus/beauty_newdataset/all/beauty_537797.csv\n",
            "reading error in/content/drive/MyDrive/General Purpose Web Scraping Tool/rinna_testing/Corpus/beauty_newdataset/all/beauty_636773.csv\n",
            "reading error in/content/drive/MyDrive/General Purpose Web Scraping Tool/rinna_testing/Corpus/beauty_newdataset/all/beauty_432091.csv\n",
            "reading error in/content/drive/MyDrive/General Purpose Web Scraping Tool/rinna_testing/Corpus/beauty_newdataset/all/beauty_504042.csv\n",
            "reading error in/content/drive/MyDrive/General Purpose Web Scraping Tool/rinna_testing/Corpus/beauty_newdataset/all/beauty_452273.csv\n",
            "reading error in/content/drive/MyDrive/General Purpose Web Scraping Tool/rinna_testing/Corpus/beauty_newdataset/all/beauty_472777.csv\n",
            "reading error in/content/drive/MyDrive/General Purpose Web Scraping Tool/rinna_testing/Corpus/beauty_newdataset/all/beauty_514378.csv\n",
            "reading error in/content/drive/MyDrive/General Purpose Web Scraping Tool/rinna_testing/Corpus/beauty_newdataset/all/beauty_530634.csv\n",
            "reading error in/content/drive/MyDrive/General Purpose Web Scraping Tool/rinna_testing/Corpus/beauty_newdataset/all/beauty_549087.csv\n",
            "reading error in/content/drive/MyDrive/General Purpose Web Scraping Tool/rinna_testing/Corpus/beauty_newdataset/all/beauty_488574.csv\n",
            "reading error in/content/drive/MyDrive/General Purpose Web Scraping Tool/rinna_testing/Corpus/beauty_newdataset/all/beauty_512871.csv\n",
            "reading error in/content/drive/MyDrive/General Purpose Web Scraping Tool/rinna_testing/Corpus/beauty_newdataset/all/beauty_509634.csv\n",
            "reading error in/content/drive/MyDrive/General Purpose Web Scraping Tool/rinna_testing/Corpus/beauty_newdataset/all/beauty_464814.csv\n",
            "reading error in/content/drive/MyDrive/General Purpose Web Scraping Tool/rinna_testing/Corpus/beauty_newdataset/all/beauty_580047.csv\n",
            "reading error in/content/drive/MyDrive/General Purpose Web Scraping Tool/rinna_testing/Corpus/beauty_newdataset/all/beauty_557780.csv\n",
            "reading error in/content/drive/MyDrive/General Purpose Web Scraping Tool/rinna_testing/Corpus/beauty_newdataset/all/beauty_491710.csv\n",
            "reading error in/content/drive/MyDrive/General Purpose Web Scraping Tool/rinna_testing/Corpus/beauty_newdataset/all/beauty_557586.csv\n",
            "reading error in/content/drive/MyDrive/General Purpose Web Scraping Tool/rinna_testing/Corpus/beauty_newdataset/all/beauty_415746.csv\n",
            "reading error in/content/drive/MyDrive/General Purpose Web Scraping Tool/rinna_testing/Corpus/beauty_newdataset/all/beauty_659033.csv\n",
            "reading error in/content/drive/MyDrive/General Purpose Web Scraping Tool/rinna_testing/Corpus/beauty_newdataset/all/beauty_564981.csv\n",
            "reading error in/content/drive/MyDrive/General Purpose Web Scraping Tool/rinna_testing/Corpus/beauty_newdataset/all/beauty_684960.csv\n",
            "reading error in/content/drive/MyDrive/General Purpose Web Scraping Tool/rinna_testing/Corpus/beauty_newdataset/all/beauty_661482.csv\n",
            "reading error in/content/drive/MyDrive/General Purpose Web Scraping Tool/rinna_testing/Corpus/beauty_newdataset/all/beauty_596820.csv\n",
            "reading error in/content/drive/MyDrive/General Purpose Web Scraping Tool/rinna_testing/Corpus/beauty_newdataset/all/beauty_601453.csv\n",
            "reading error in/content/drive/MyDrive/General Purpose Web Scraping Tool/rinna_testing/Corpus/beauty_newdataset/all/beauty_628404.csv\n",
            "reading error in/content/drive/MyDrive/General Purpose Web Scraping Tool/rinna_testing/Corpus/beauty_newdataset/all/beauty_413393.csv\n",
            "reading error in/content/drive/MyDrive/General Purpose Web Scraping Tool/rinna_testing/Corpus/beauty_newdataset/all/beauty_698902.csv\n",
            "reading error in/content/drive/MyDrive/General Purpose Web Scraping Tool/rinna_testing/Corpus/beauty_newdataset/all/beauty_488569.csv\n",
            "reading error in/content/drive/MyDrive/General Purpose Web Scraping Tool/rinna_testing/Corpus/beauty_newdataset/all/beauty_735246.csv\n",
            "reading error in/content/drive/MyDrive/General Purpose Web Scraping Tool/rinna_testing/Corpus/beauty_newdataset/all/beauty_701271.csv\n",
            "reading error in/content/drive/MyDrive/General Purpose Web Scraping Tool/rinna_testing/Corpus/beauty_newdataset/all/beauty_687498.csv\n",
            "reading error in/content/drive/MyDrive/General Purpose Web Scraping Tool/rinna_testing/Corpus/beauty_newdataset/all/beauty_665064.csv\n",
            "reading error in/content/drive/MyDrive/General Purpose Web Scraping Tool/rinna_testing/Corpus/beauty_newdataset/all/beauty_685595.csv\n",
            "reading error in/content/drive/MyDrive/General Purpose Web Scraping Tool/rinna_testing/Corpus/beauty_newdataset/all/beauty_506219.csv\n",
            "reading error in/content/drive/MyDrive/General Purpose Web Scraping Tool/rinna_testing/Corpus/beauty_newdataset/all/beauty_663880.csv\n",
            "reading error in/content/drive/MyDrive/General Purpose Web Scraping Tool/rinna_testing/Corpus/beauty_newdataset/all/beauty_726531.csv\n",
            "reading error in/content/drive/MyDrive/General Purpose Web Scraping Tool/rinna_testing/Corpus/beauty_newdataset/all/beauty_700544.csv\n",
            "reading error in/content/drive/MyDrive/General Purpose Web Scraping Tool/rinna_testing/Corpus/beauty_newdataset/all/beauty_605091.csv\n",
            "reading error in/content/drive/MyDrive/General Purpose Web Scraping Tool/rinna_testing/Corpus/beauty_newdataset/all/beauty_643452.csv\n",
            "reading error in/content/drive/MyDrive/General Purpose Web Scraping Tool/rinna_testing/Corpus/beauty_newdataset/all/beauty_423789.csv\n",
            "reading error in/content/drive/MyDrive/General Purpose Web Scraping Tool/rinna_testing/Corpus/beauty_newdataset/all/beauty_507976.csv\n",
            "reading error in/content/drive/MyDrive/General Purpose Web Scraping Tool/rinna_testing/Corpus/beauty_newdataset/all/beauty_572614.csv\n",
            "reading error in/content/drive/MyDrive/General Purpose Web Scraping Tool/rinna_testing/Corpus/beauty_newdataset/all/beauty_450957.csv\n",
            "reading error in/content/drive/MyDrive/General Purpose Web Scraping Tool/rinna_testing/Corpus/beauty_newdataset/all/beauty_462342.csv\n",
            "reading error in/content/drive/MyDrive/General Purpose Web Scraping Tool/rinna_testing/Corpus/beauty_newdataset/all/beauty_655096.csv\n",
            "reading error in/content/drive/MyDrive/General Purpose Web Scraping Tool/rinna_testing/Corpus/beauty_newdataset/all/beauty_460053.csv\n",
            "reading error in/content/drive/MyDrive/General Purpose Web Scraping Tool/rinna_testing/Corpus/beauty_newdataset/all/beauty_534574.csv\n",
            "reading error in/content/drive/MyDrive/General Purpose Web Scraping Tool/rinna_testing/Corpus/beauty_newdataset/all/beauty_492622.csv\n",
            "reading error in/content/drive/MyDrive/General Purpose Web Scraping Tool/rinna_testing/Corpus/beauty_newdataset/all/beauty_444884.csv\n",
            "reading error in/content/drive/MyDrive/General Purpose Web Scraping Tool/rinna_testing/Corpus/beauty_newdataset/all/beauty_644764.csv\n",
            "reading error in/content/drive/MyDrive/General Purpose Web Scraping Tool/rinna_testing/Corpus/beauty_newdataset/all/beauty_437656.csv\n",
            "reading error in/content/drive/MyDrive/General Purpose Web Scraping Tool/rinna_testing/Corpus/beauty_newdataset/all/beauty_466609.csv\n",
            "reading error in/content/drive/MyDrive/General Purpose Web Scraping Tool/rinna_testing/Corpus/beauty_newdataset/all/beauty_478740.csv\n",
            "reading error in/content/drive/MyDrive/General Purpose Web Scraping Tool/rinna_testing/Corpus/beauty_newdataset/all/beauty_545471.csv\n",
            "reading error in/content/drive/MyDrive/General Purpose Web Scraping Tool/rinna_testing/Corpus/beauty_newdataset/all/beauty_663022.csv\n",
            "reading error in/content/drive/MyDrive/General Purpose Web Scraping Tool/rinna_testing/Corpus/beauty_newdataset/all/beauty_444940.csv\n",
            "reading error in/content/drive/MyDrive/General Purpose Web Scraping Tool/rinna_testing/Corpus/beauty_newdataset/all/beauty_518621.csv\n",
            "reading error in/content/drive/MyDrive/General Purpose Web Scraping Tool/rinna_testing/Corpus/beauty_newdataset/all/beauty_556756.csv\n",
            "reading error in/content/drive/MyDrive/General Purpose Web Scraping Tool/rinna_testing/Corpus/beauty_newdataset/all/beauty_644965.csv\n",
            "reading error in/content/drive/MyDrive/General Purpose Web Scraping Tool/rinna_testing/Corpus/beauty_newdataset/all/beauty_671147.csv\n",
            "reading error in/content/drive/MyDrive/General Purpose Web Scraping Tool/rinna_testing/Corpus/beauty_newdataset/all/beauty_641183.csv\n",
            "reading error in/content/drive/MyDrive/General Purpose Web Scraping Tool/rinna_testing/Corpus/beauty_newdataset/all/beauty_621981.csv\n",
            "reading error in/content/drive/MyDrive/General Purpose Web Scraping Tool/rinna_testing/Corpus/beauty_newdataset/all/beauty_745713.csv\n",
            "reading error in/content/drive/MyDrive/General Purpose Web Scraping Tool/rinna_testing/Corpus/beauty_newdataset/all/beauty_704258.csv\n",
            "reading error in/content/drive/MyDrive/General Purpose Web Scraping Tool/rinna_testing/Corpus/beauty_newdataset/all/beauty_523490.csv\n",
            "reading error in/content/drive/MyDrive/General Purpose Web Scraping Tool/rinna_testing/Corpus/beauty_newdataset/all/beauty_606184.csv\n",
            "reading error in/content/drive/MyDrive/General Purpose Web Scraping Tool/rinna_testing/Corpus/beauty_newdataset/all/beauty_466105.csv\n",
            "reading error in/content/drive/MyDrive/General Purpose Web Scraping Tool/rinna_testing/Corpus/beauty_newdataset/all/beauty_591882.csv\n",
            "reading error in/content/drive/MyDrive/General Purpose Web Scraping Tool/rinna_testing/Corpus/beauty_newdataset/all/beauty_441897.csv\n",
            "reading error in/content/drive/MyDrive/General Purpose Web Scraping Tool/rinna_testing/Corpus/beauty_newdataset/all/beauty_672107.csv\n",
            "reading error in/content/drive/MyDrive/General Purpose Web Scraping Tool/rinna_testing/Corpus/beauty_newdataset/all/beauty_740006.csv\n",
            "reading error in/content/drive/MyDrive/General Purpose Web Scraping Tool/rinna_testing/Corpus/beauty_newdataset/all/beauty_415177.csv\n",
            "reading error in/content/drive/MyDrive/General Purpose Web Scraping Tool/rinna_testing/Corpus/beauty_newdataset/all/beauty_631197.csv\n",
            "reading error in/content/drive/MyDrive/General Purpose Web Scraping Tool/rinna_testing/Corpus/beauty_newdataset/all/beauty_557648.csv\n",
            "reading error in/content/drive/MyDrive/General Purpose Web Scraping Tool/rinna_testing/Corpus/beauty_newdataset/all/beauty_522015.csv\n",
            "reading error in/content/drive/MyDrive/General Purpose Web Scraping Tool/rinna_testing/Corpus/beauty_newdataset/all/beauty_489494.csv\n",
            "reading error in/content/drive/MyDrive/General Purpose Web Scraping Tool/rinna_testing/Corpus/beauty_newdataset/all/beauty_548097.csv\n",
            "reading error in/content/drive/MyDrive/General Purpose Web Scraping Tool/rinna_testing/Corpus/beauty_newdataset/all/beauty_517214.csv\n",
            "reading error in/content/drive/MyDrive/General Purpose Web Scraping Tool/rinna_testing/Corpus/beauty_newdataset/all/beauty_641895.csv\n",
            "reading error in/content/drive/MyDrive/General Purpose Web Scraping Tool/rinna_testing/Corpus/beauty_newdataset/all/beauty_628038.csv\n",
            "reading error in/content/drive/MyDrive/General Purpose Web Scraping Tool/rinna_testing/Corpus/beauty_newdataset/all/beauty_480912.csv\n",
            "reading error in/content/drive/MyDrive/General Purpose Web Scraping Tool/rinna_testing/Corpus/beauty_newdataset/all/beauty_516918.csv\n",
            "reading error in/content/drive/MyDrive/General Purpose Web Scraping Tool/rinna_testing/Corpus/beauty_newdataset/all/beauty_425054.csv\n",
            "reading error in/content/drive/MyDrive/General Purpose Web Scraping Tool/rinna_testing/Corpus/beauty_newdataset/all/beauty_433631.csv\n",
            "reading error in/content/drive/MyDrive/General Purpose Web Scraping Tool/rinna_testing/Corpus/beauty_newdataset/all/beauty_735412.csv\n",
            "reading error in/content/drive/MyDrive/General Purpose Web Scraping Tool/rinna_testing/Corpus/beauty_newdataset/all/beauty_684990.csv\n",
            "reading error in/content/drive/MyDrive/General Purpose Web Scraping Tool/rinna_testing/Corpus/beauty_newdataset/all/beauty_573315.csv\n",
            "reading error in/content/drive/MyDrive/General Purpose Web Scraping Tool/rinna_testing/Corpus/beauty_newdataset/all/beauty_446248.csv\n",
            "reading error in/content/drive/MyDrive/General Purpose Web Scraping Tool/rinna_testing/Corpus/beauty_newdataset/all/beauty_742658.csv\n",
            "reading error in/content/drive/MyDrive/General Purpose Web Scraping Tool/rinna_testing/Corpus/beauty_newdataset/all/beauty_706242.csv\n",
            "reading error in/content/drive/MyDrive/General Purpose Web Scraping Tool/rinna_testing/Corpus/beauty_newdataset/all/beauty_714031.csv\n",
            "reading error in/content/drive/MyDrive/General Purpose Web Scraping Tool/rinna_testing/Corpus/beauty_newdataset/all/beauty_718402.csv\n",
            "reading error in/content/drive/MyDrive/General Purpose Web Scraping Tool/rinna_testing/Corpus/beauty_newdataset/all/beauty_742365.csv\n",
            "reading error in/content/drive/MyDrive/General Purpose Web Scraping Tool/rinna_testing/Corpus/beauty_newdataset/all/beauty_658235.csv\n",
            "reading error in/content/drive/MyDrive/General Purpose Web Scraping Tool/rinna_testing/Corpus/beauty_newdataset/all/beauty_638314.csv\n",
            "reading error in/content/drive/MyDrive/General Purpose Web Scraping Tool/rinna_testing/Corpus/beauty_newdataset/all/beauty_473739.csv\n",
            "reading error in/content/drive/MyDrive/General Purpose Web Scraping Tool/rinna_testing/Corpus/beauty_newdataset/all/beauty_566120.csv\n",
            "reading error in/content/drive/MyDrive/General Purpose Web Scraping Tool/rinna_testing/Corpus/beauty_newdataset/all/beauty_685066.csv\n",
            "reading error in/content/drive/MyDrive/General Purpose Web Scraping Tool/rinna_testing/Corpus/beauty_newdataset/all/beauty_518650.csv\n",
            "reading error in/content/drive/MyDrive/General Purpose Web Scraping Tool/rinna_testing/Corpus/beauty_newdataset/all/beauty_735475.csv\n",
            "reading error in/content/drive/MyDrive/General Purpose Web Scraping Tool/rinna_testing/Corpus/beauty_newdataset/all/beauty_493377.csv\n",
            "reading error in/content/drive/MyDrive/General Purpose Web Scraping Tool/rinna_testing/Corpus/beauty_newdataset/all/beauty_648161.csv\n",
            "reading error in/content/drive/MyDrive/General Purpose Web Scraping Tool/rinna_testing/Corpus/beauty_newdataset/all/beauty_745114.csv\n",
            "reading error in/content/drive/MyDrive/General Purpose Web Scraping Tool/rinna_testing/Corpus/beauty_newdataset/all/beauty_660506.csv\n",
            "reading error in/content/drive/MyDrive/General Purpose Web Scraping Tool/rinna_testing/Corpus/beauty_newdataset/all/beauty_699011.csv\n",
            "reading error in/content/drive/MyDrive/General Purpose Web Scraping Tool/rinna_testing/Corpus/beauty_newdataset/all/beauty_605427.csv\n",
            "reading error in/content/drive/MyDrive/General Purpose Web Scraping Tool/rinna_testing/Corpus/beauty_newdataset/all/beauty_548637.csv\n",
            "reading error in/content/drive/MyDrive/General Purpose Web Scraping Tool/rinna_testing/Corpus/beauty_newdataset/all/beauty_667202.csv\n",
            "reading error in/content/drive/MyDrive/General Purpose Web Scraping Tool/rinna_testing/Corpus/beauty_newdataset/all/beauty_533999.csv\n",
            "reading error in/content/drive/MyDrive/General Purpose Web Scraping Tool/rinna_testing/Corpus/beauty_newdataset/all/beauty_549730.csv\n",
            "reading error in/content/drive/MyDrive/General Purpose Web Scraping Tool/rinna_testing/Corpus/beauty_newdataset/all/beauty_723753.csv\n",
            "reading error in/content/drive/MyDrive/General Purpose Web Scraping Tool/rinna_testing/Corpus/beauty_newdataset/all/beauty_564078.csv\n",
            "reading error in/content/drive/MyDrive/General Purpose Web Scraping Tool/rinna_testing/Corpus/beauty_newdataset/all/beauty_740750.csv\n",
            "reading error in/content/drive/MyDrive/General Purpose Web Scraping Tool/rinna_testing/Corpus/beauty_newdataset/all/beauty_607174.csv\n",
            "reading error in/content/drive/MyDrive/General Purpose Web Scraping Tool/rinna_testing/Corpus/beauty_newdataset/all/beauty_548137.csv\n",
            "reading error in/content/drive/MyDrive/General Purpose Web Scraping Tool/rinna_testing/Corpus/beauty_newdataset/all/beauty_511568.csv\n",
            "reading error in/content/drive/MyDrive/General Purpose Web Scraping Tool/rinna_testing/Corpus/beauty_newdataset/all/beauty_693538.csv\n",
            "reading error in/content/drive/MyDrive/General Purpose Web Scraping Tool/rinna_testing/Corpus/beauty_newdataset/all/beauty_550704.csv\n",
            "reading error in/content/drive/MyDrive/General Purpose Web Scraping Tool/rinna_testing/Corpus/beauty_newdataset/all/beauty_662112.csv\n",
            "reading error in/content/drive/MyDrive/General Purpose Web Scraping Tool/rinna_testing/Corpus/beauty_newdataset/all/beauty_711011.csv\n",
            "reading error in/content/drive/MyDrive/General Purpose Web Scraping Tool/rinna_testing/Corpus/beauty_newdataset/all/beauty_430404.csv\n",
            "reading error in/content/drive/MyDrive/General Purpose Web Scraping Tool/rinna_testing/Corpus/beauty_newdataset/all/beauty_436634.csv\n",
            "reading error in/content/drive/MyDrive/General Purpose Web Scraping Tool/rinna_testing/Corpus/beauty_newdataset/all/beauty_730628.csv\n",
            "reading error in/content/drive/MyDrive/General Purpose Web Scraping Tool/rinna_testing/Corpus/beauty_newdataset/all/beauty_711390.csv\n",
            "reading error in/content/drive/MyDrive/General Purpose Web Scraping Tool/rinna_testing/Corpus/beauty_newdataset/all/beauty_543839.csv\n",
            "reading error in/content/drive/MyDrive/General Purpose Web Scraping Tool/rinna_testing/Corpus/beauty_newdataset/all/beauty_558784.csv\n",
            "reading error in/content/drive/MyDrive/General Purpose Web Scraping Tool/rinna_testing/Corpus/beauty_newdataset/all/beauty_668823.csv\n",
            "reading error in/content/drive/MyDrive/General Purpose Web Scraping Tool/rinna_testing/Corpus/beauty_newdataset/all/beauty_412047.csv\n",
            "reading error in/content/drive/MyDrive/General Purpose Web Scraping Tool/rinna_testing/Corpus/beauty_newdataset/all/beauty_667566.csv\n",
            "reading error in/content/drive/MyDrive/General Purpose Web Scraping Tool/rinna_testing/Corpus/beauty_newdataset/all/beauty_523613.csv\n",
            "reading error in/content/drive/MyDrive/General Purpose Web Scraping Tool/rinna_testing/Corpus/beauty_newdataset/all/beauty_582911.csv\n",
            "reading error in/content/drive/MyDrive/General Purpose Web Scraping Tool/rinna_testing/Corpus/beauty_newdataset/all/beauty_669074.csv\n",
            "reading error in/content/drive/MyDrive/General Purpose Web Scraping Tool/rinna_testing/Corpus/beauty_newdataset/all/beauty_514667.csv\n",
            "reading error in/content/drive/MyDrive/General Purpose Web Scraping Tool/rinna_testing/Corpus/beauty_newdataset/all/beauty_431313.csv\n",
            "reading error in/content/drive/MyDrive/General Purpose Web Scraping Tool/rinna_testing/Corpus/beauty_newdataset/all/beauty_733460.csv\n",
            "reading error in/content/drive/MyDrive/General Purpose Web Scraping Tool/rinna_testing/Corpus/beauty_newdataset/all/beauty_601935.csv\n",
            "reading error in/content/drive/MyDrive/General Purpose Web Scraping Tool/rinna_testing/Corpus/beauty_newdataset/all/beauty_475268.csv\n",
            "reading error in/content/drive/MyDrive/General Purpose Web Scraping Tool/rinna_testing/Corpus/beauty_newdataset/all/beauty_498420.csv\n",
            "reading error in/content/drive/MyDrive/General Purpose Web Scraping Tool/rinna_testing/Corpus/beauty_newdataset/all/beauty_730122.csv\n",
            "reading error in/content/drive/MyDrive/General Purpose Web Scraping Tool/rinna_testing/Corpus/beauty_newdataset/all/beauty_674425.csv\n",
            "reading error in/content/drive/MyDrive/General Purpose Web Scraping Tool/rinna_testing/Corpus/beauty_newdataset/all/beauty_465616.csv\n",
            "reading error in/content/drive/MyDrive/General Purpose Web Scraping Tool/rinna_testing/Corpus/beauty_newdataset/all/beauty_654533.csv\n",
            "reading error in/content/drive/MyDrive/General Purpose Web Scraping Tool/rinna_testing/Corpus/beauty_newdataset/all/beauty_423145.csv\n",
            "reading error in/content/drive/MyDrive/General Purpose Web Scraping Tool/rinna_testing/Corpus/beauty_newdataset/all/beauty_523588.csv\n",
            "reading error in/content/drive/MyDrive/General Purpose Web Scraping Tool/rinna_testing/Corpus/beauty_newdataset/all/beauty_608148.csv\n",
            "reading error in/content/drive/MyDrive/General Purpose Web Scraping Tool/rinna_testing/Corpus/beauty_newdataset/all/beauty_461512.csv\n",
            "reading error in/content/drive/MyDrive/General Purpose Web Scraping Tool/rinna_testing/Corpus/beauty_newdataset/all/beauty_587151.csv\n",
            "reading error in/content/drive/MyDrive/General Purpose Web Scraping Tool/rinna_testing/Corpus/beauty_newdataset/all/beauty_607478.csv\n",
            "reading error in/content/drive/MyDrive/General Purpose Web Scraping Tool/rinna_testing/Corpus/beauty_newdataset/all/beauty_523099.csv\n",
            "reading error in/content/drive/MyDrive/General Purpose Web Scraping Tool/rinna_testing/Corpus/beauty_newdataset/all/beauty_671302.csv\n",
            "reading error in/content/drive/MyDrive/General Purpose Web Scraping Tool/rinna_testing/Corpus/beauty_newdataset/all/beauty_542275.csv\n",
            "reading error in/content/drive/MyDrive/General Purpose Web Scraping Tool/rinna_testing/Corpus/beauty_newdataset/all/beauty_435656.csv\n",
            "reading error in/content/drive/MyDrive/General Purpose Web Scraping Tool/rinna_testing/Corpus/beauty_newdataset/all/beauty_427210.csv\n",
            "reading error in/content/drive/MyDrive/General Purpose Web Scraping Tool/rinna_testing/Corpus/beauty_newdataset/all/beauty_442761.csv\n",
            "reading error in/content/drive/MyDrive/General Purpose Web Scraping Tool/rinna_testing/Corpus/beauty_newdataset/all/beauty_527698.csv\n",
            "reading error in/content/drive/MyDrive/General Purpose Web Scraping Tool/rinna_testing/Corpus/beauty_newdataset/all/beauty_551268.csv\n",
            "reading error in/content/drive/MyDrive/General Purpose Web Scraping Tool/rinna_testing/Corpus/beauty_newdataset/all/beauty_726665.csv\n",
            "reading error in/content/drive/MyDrive/General Purpose Web Scraping Tool/rinna_testing/Corpus/beauty_newdataset/all/beauty_727131.csv\n",
            "reading error in/content/drive/MyDrive/General Purpose Web Scraping Tool/rinna_testing/Corpus/beauty_newdataset/all/beauty_496290.csv\n",
            "reading error in/content/drive/MyDrive/General Purpose Web Scraping Tool/rinna_testing/Corpus/beauty_newdataset/all/beauty_602246.csv\n",
            "reading error in/content/drive/MyDrive/General Purpose Web Scraping Tool/rinna_testing/Corpus/beauty_newdataset/all/beauty_559009.csv\n",
            "reading error in/content/drive/MyDrive/General Purpose Web Scraping Tool/rinna_testing/Corpus/beauty_newdataset/all/beauty_676631.csv\n",
            "reading error in/content/drive/MyDrive/General Purpose Web Scraping Tool/rinna_testing/Corpus/beauty_newdataset/all/beauty_709051.csv\n",
            "reading error in/content/drive/MyDrive/General Purpose Web Scraping Tool/rinna_testing/Corpus/beauty_newdataset/all/beauty_589392.csv\n",
            "reading error in/content/drive/MyDrive/General Purpose Web Scraping Tool/rinna_testing/Corpus/beauty_newdataset/all/beauty_426099.csv\n",
            "reading error in/content/drive/MyDrive/General Purpose Web Scraping Tool/rinna_testing/Corpus/beauty_newdataset/all/beauty_684051.csv\n",
            "reading error in/content/drive/MyDrive/General Purpose Web Scraping Tool/rinna_testing/Corpus/beauty_newdataset/all/beauty_554617.csv\n",
            "reading error in/content/drive/MyDrive/General Purpose Web Scraping Tool/rinna_testing/Corpus/beauty_newdataset/all/beauty_738199.csv\n",
            "reading error in/content/drive/MyDrive/General Purpose Web Scraping Tool/rinna_testing/Corpus/beauty_newdataset/all/beauty_679932.csv\n",
            "reading error in/content/drive/MyDrive/General Purpose Web Scraping Tool/rinna_testing/Corpus/beauty_newdataset/all/beauty_630123.csv\n",
            "reading error in/content/drive/MyDrive/General Purpose Web Scraping Tool/rinna_testing/Corpus/beauty_newdataset/all/beauty_426296.csv\n",
            "reading error in/content/drive/MyDrive/General Purpose Web Scraping Tool/rinna_testing/Corpus/beauty_newdataset/all/beauty_699062.csv\n",
            "reading error in/content/drive/MyDrive/General Purpose Web Scraping Tool/rinna_testing/Corpus/beauty_newdataset/all/beauty_609733.csv\n",
            "reading error in/content/drive/MyDrive/General Purpose Web Scraping Tool/rinna_testing/Corpus/beauty_newdataset/all/beauty_563603.csv\n",
            "reading error in/content/drive/MyDrive/General Purpose Web Scraping Tool/rinna_testing/Corpus/beauty_newdataset/all/beauty_735038.csv\n",
            "reading error in/content/drive/MyDrive/General Purpose Web Scraping Tool/rinna_testing/Corpus/beauty_newdataset/all/beauty_454334.csv\n",
            "reading error in/content/drive/MyDrive/General Purpose Web Scraping Tool/rinna_testing/Corpus/beauty_newdataset/all/beauty_499713.csv\n",
            "reading error in/content/drive/MyDrive/General Purpose Web Scraping Tool/rinna_testing/Corpus/beauty_newdataset/all/beauty_550979.csv\n",
            "reading error in/content/drive/MyDrive/General Purpose Web Scraping Tool/rinna_testing/Corpus/beauty_newdataset/all/beauty_415140.csv\n",
            "reading error in/content/drive/MyDrive/General Purpose Web Scraping Tool/rinna_testing/Corpus/beauty_newdataset/all/beauty_455838.csv\n",
            "reading error in/content/drive/MyDrive/General Purpose Web Scraping Tool/rinna_testing/Corpus/beauty_newdataset/all/beauty_504880.csv\n",
            "reading error in/content/drive/MyDrive/General Purpose Web Scraping Tool/rinna_testing/Corpus/beauty_newdataset/all/beauty_434544.csv\n",
            "reading error in/content/drive/MyDrive/General Purpose Web Scraping Tool/rinna_testing/Corpus/beauty_newdataset/all/beauty_740942.csv\n",
            "reading error in/content/drive/MyDrive/General Purpose Web Scraping Tool/rinna_testing/Corpus/beauty_newdataset/all/beauty_711975.csv\n",
            "reading error in/content/drive/MyDrive/General Purpose Web Scraping Tool/rinna_testing/Corpus/beauty_newdataset/all/beauty_570869.csv\n",
            "reading error in/content/drive/MyDrive/General Purpose Web Scraping Tool/rinna_testing/Corpus/beauty_newdataset/all/beauty_421405.csv\n",
            "reading error in/content/drive/MyDrive/General Purpose Web Scraping Tool/rinna_testing/Corpus/beauty_newdataset/all/beauty_675178.csv\n",
            "reading error in/content/drive/MyDrive/General Purpose Web Scraping Tool/rinna_testing/Corpus/beauty_newdataset/all/beauty_504323.csv\n",
            "reading error in/content/drive/MyDrive/General Purpose Web Scraping Tool/rinna_testing/Corpus/beauty_newdataset/all/beauty_489830.csv\n",
            "reading error in/content/drive/MyDrive/General Purpose Web Scraping Tool/rinna_testing/Corpus/beauty_newdataset/all/beauty_461402.csv\n",
            "reading error in/content/drive/MyDrive/General Purpose Web Scraping Tool/rinna_testing/Corpus/beauty_newdataset/all/beauty_692476.csv\n",
            "reading error in/content/drive/MyDrive/General Purpose Web Scraping Tool/rinna_testing/Corpus/beauty_newdataset/all/beauty_431816.csv\n",
            "reading error in/content/drive/MyDrive/General Purpose Web Scraping Tool/rinna_testing/Corpus/beauty_newdataset/all/beauty_510331.csv\n",
            "reading error in/content/drive/MyDrive/General Purpose Web Scraping Tool/rinna_testing/Corpus/beauty_newdataset/all/beauty_531022.csv\n",
            "reading error in/content/drive/MyDrive/General Purpose Web Scraping Tool/rinna_testing/Corpus/beauty_newdataset/all/beauty_597257.csv\n",
            "reading error in/content/drive/MyDrive/General Purpose Web Scraping Tool/rinna_testing/Corpus/beauty_newdataset/all/beauty_700448.csv\n",
            "reading error in/content/drive/MyDrive/General Purpose Web Scraping Tool/rinna_testing/Corpus/beauty_newdataset/all/beauty_504636.csv\n",
            "reading error in/content/drive/MyDrive/General Purpose Web Scraping Tool/rinna_testing/Corpus/beauty_newdataset/all/beauty_558963.csv\n",
            "reading error in/content/drive/MyDrive/General Purpose Web Scraping Tool/rinna_testing/Corpus/beauty_newdataset/all/beauty_489743.csv\n",
            "reading error in/content/drive/MyDrive/General Purpose Web Scraping Tool/rinna_testing/Corpus/beauty_newdataset/all/beauty_536252.csv\n",
            "reading error in/content/drive/MyDrive/General Purpose Web Scraping Tool/rinna_testing/Corpus/beauty_newdataset/all/beauty_477392.csv\n",
            "reading error in/content/drive/MyDrive/General Purpose Web Scraping Tool/rinna_testing/Corpus/beauty_newdataset/all/beauty_630634.csv\n",
            "reading error in/content/drive/MyDrive/General Purpose Web Scraping Tool/rinna_testing/Corpus/beauty_newdataset/all/beauty_696084.csv\n",
            "reading error in/content/drive/MyDrive/General Purpose Web Scraping Tool/rinna_testing/Corpus/beauty_newdataset/all/beauty_410930.csv\n",
            "reading error in/content/drive/MyDrive/General Purpose Web Scraping Tool/rinna_testing/Corpus/beauty_newdataset/all/beauty_565287.csv\n",
            "reading error in/content/drive/MyDrive/General Purpose Web Scraping Tool/rinna_testing/Corpus/beauty_newdataset/all/beauty_411749.csv\n",
            "reading error in/content/drive/MyDrive/General Purpose Web Scraping Tool/rinna_testing/Corpus/beauty_newdataset/all/beauty_650365.csv\n",
            "reading error in/content/drive/MyDrive/General Purpose Web Scraping Tool/rinna_testing/Corpus/beauty_newdataset/all/beauty_532939.csv\n",
            "reading error in/content/drive/MyDrive/General Purpose Web Scraping Tool/rinna_testing/Corpus/beauty_newdataset/all/beauty_695976.csv\n",
            "reading error in/content/drive/MyDrive/General Purpose Web Scraping Tool/rinna_testing/Corpus/beauty_newdataset/all/beauty_672264.csv\n",
            "reading error in/content/drive/MyDrive/General Purpose Web Scraping Tool/rinna_testing/Corpus/beauty_newdataset/all/beauty_657232.csv\n",
            "reading error in/content/drive/MyDrive/General Purpose Web Scraping Tool/rinna_testing/Corpus/beauty_newdataset/all/beauty_733449.csv\n",
            "reading error in/content/drive/MyDrive/General Purpose Web Scraping Tool/rinna_testing/Corpus/beauty_newdataset/all/beauty_431604.csv\n",
            "reading error in/content/drive/MyDrive/General Purpose Web Scraping Tool/rinna_testing/Corpus/beauty_newdataset/all/beauty_670461.csv\n",
            "reading error in/content/drive/MyDrive/General Purpose Web Scraping Tool/rinna_testing/Corpus/beauty_newdataset/all/beauty_564800.csv\n",
            "reading error in/content/drive/MyDrive/General Purpose Web Scraping Tool/rinna_testing/Corpus/beauty_newdataset/all/beauty_699766.csv\n",
            "reading error in/content/drive/MyDrive/General Purpose Web Scraping Tool/rinna_testing/Corpus/beauty_newdataset/all/beauty_605304.csv\n",
            "reading error in/content/drive/MyDrive/General Purpose Web Scraping Tool/rinna_testing/Corpus/beauty_newdataset/all/beauty_586435.csv\n",
            "reading error in/content/drive/MyDrive/General Purpose Web Scraping Tool/rinna_testing/Corpus/beauty_newdataset/all/beauty_505580.csv\n",
            "reading error in/content/drive/MyDrive/General Purpose Web Scraping Tool/rinna_testing/Corpus/beauty_newdataset/all/beauty_440584.csv\n",
            "reading error in/content/drive/MyDrive/General Purpose Web Scraping Tool/rinna_testing/Corpus/beauty_newdataset/all/beauty_594485.csv\n",
            "reading error in/content/drive/MyDrive/General Purpose Web Scraping Tool/rinna_testing/Corpus/beauty_newdataset/all/beauty_592512.csv\n",
            "reading error in/content/drive/MyDrive/General Purpose Web Scraping Tool/rinna_testing/Corpus/beauty_newdataset/all/beauty_506600.csv\n",
            "reading error in/content/drive/MyDrive/General Purpose Web Scraping Tool/rinna_testing/Corpus/beauty_newdataset/all/beauty_676887.csv\n",
            "reading error in/content/drive/MyDrive/General Purpose Web Scraping Tool/rinna_testing/Corpus/beauty_newdataset/all/beauty_515389.csv\n",
            "reading error in/content/drive/MyDrive/General Purpose Web Scraping Tool/rinna_testing/Corpus/beauty_newdataset/all/beauty_420269.csv\n",
            "reading error in/content/drive/MyDrive/General Purpose Web Scraping Tool/rinna_testing/Corpus/beauty_newdataset/all/beauty_473927.csv\n",
            "reading error in/content/drive/MyDrive/General Purpose Web Scraping Tool/rinna_testing/Corpus/beauty_newdataset/all/beauty_552564.csv\n",
            "reading error in/content/drive/MyDrive/General Purpose Web Scraping Tool/rinna_testing/Corpus/beauty_newdataset/all/beauty_885282.csv\n",
            "reading error in/content/drive/MyDrive/General Purpose Web Scraping Tool/rinna_testing/Corpus/beauty_newdataset/all/beauty_909931.csv\n",
            "reading error in/content/drive/MyDrive/General Purpose Web Scraping Tool/rinna_testing/Corpus/beauty_newdataset/all/beauty_778811.csv\n",
            "reading error in/content/drive/MyDrive/General Purpose Web Scraping Tool/rinna_testing/Corpus/beauty_newdataset/all/beauty_905749.csv\n",
            "reading error in/content/drive/MyDrive/General Purpose Web Scraping Tool/rinna_testing/Corpus/beauty_newdataset/all/beauty_820667.csv\n",
            "reading error in/content/drive/MyDrive/General Purpose Web Scraping Tool/rinna_testing/Corpus/beauty_newdataset/all/beauty_832871.csv\n",
            "reading error in/content/drive/MyDrive/General Purpose Web Scraping Tool/rinna_testing/Corpus/beauty_newdataset/all/beauty_914840.csv\n",
            "reading error in/content/drive/MyDrive/General Purpose Web Scraping Tool/rinna_testing/Corpus/beauty_newdataset/all/beauty_790470.csv\n",
            "reading error in/content/drive/MyDrive/General Purpose Web Scraping Tool/rinna_testing/Corpus/beauty_newdataset/all/beauty_859029.csv\n",
            "reading error in/content/drive/MyDrive/General Purpose Web Scraping Tool/rinna_testing/Corpus/beauty_newdataset/all/beauty_828671.csv\n",
            "reading error in/content/drive/MyDrive/General Purpose Web Scraping Tool/rinna_testing/Corpus/beauty_newdataset/all/beauty_853435.csv\n",
            "reading error in/content/drive/MyDrive/General Purpose Web Scraping Tool/rinna_testing/Corpus/beauty_newdataset/all/beauty_927244.csv\n",
            "reading error in/content/drive/MyDrive/General Purpose Web Scraping Tool/rinna_testing/Corpus/beauty_newdataset/all/beauty_807504.csv\n",
            "reading error in/content/drive/MyDrive/General Purpose Web Scraping Tool/rinna_testing/Corpus/beauty_newdataset/all/beauty_773465.csv\n",
            "reading error in/content/drive/MyDrive/General Purpose Web Scraping Tool/rinna_testing/Corpus/beauty_newdataset/all/beauty_873329.csv\n",
            "reading error in/content/drive/MyDrive/General Purpose Web Scraping Tool/rinna_testing/Corpus/beauty_newdataset/all/beauty_776846.csv\n",
            "reading error in/content/drive/MyDrive/General Purpose Web Scraping Tool/rinna_testing/Corpus/beauty_newdataset/all/beauty_988639.csv\n",
            "reading error in/content/drive/MyDrive/General Purpose Web Scraping Tool/rinna_testing/Corpus/beauty_newdataset/all/beauty_866299.csv\n",
            "reading error in/content/drive/MyDrive/General Purpose Web Scraping Tool/rinna_testing/Corpus/beauty_newdataset/all/beauty_836206.csv\n",
            "reading error in/content/drive/MyDrive/General Purpose Web Scraping Tool/rinna_testing/Corpus/beauty_newdataset/all/beauty_831453.csv\n",
            "reading error in/content/drive/MyDrive/General Purpose Web Scraping Tool/rinna_testing/Corpus/beauty_newdataset/all/beauty_856853.csv\n",
            "reading error in/content/drive/MyDrive/General Purpose Web Scraping Tool/rinna_testing/Corpus/beauty_newdataset/all/beauty_876569.csv\n",
            "reading error in/content/drive/MyDrive/General Purpose Web Scraping Tool/rinna_testing/Corpus/beauty_newdataset/all/beauty_991280.csv\n",
            "reading error in/content/drive/MyDrive/General Purpose Web Scraping Tool/rinna_testing/Corpus/beauty_newdataset/all/beauty_889864.csv\n",
            "reading error in/content/drive/MyDrive/General Purpose Web Scraping Tool/rinna_testing/Corpus/beauty_newdataset/all/beauty_860607.csv\n",
            "reading error in/content/drive/MyDrive/General Purpose Web Scraping Tool/rinna_testing/Corpus/beauty_newdataset/all/beauty_886132.csv\n",
            "reading error in/content/drive/MyDrive/General Purpose Web Scraping Tool/rinna_testing/Corpus/beauty_newdataset/all/beauty_973158.csv\n",
            "reading error in/content/drive/MyDrive/General Purpose Web Scraping Tool/rinna_testing/Corpus/beauty_newdataset/all/beauty_927863.csv\n",
            "reading error in/content/drive/MyDrive/General Purpose Web Scraping Tool/rinna_testing/Corpus/beauty_newdataset/all/beauty_970695.csv\n",
            "reading error in/content/drive/MyDrive/General Purpose Web Scraping Tool/rinna_testing/Corpus/beauty_newdataset/all/beauty_899707.csv\n",
            "reading error in/content/drive/MyDrive/General Purpose Web Scraping Tool/rinna_testing/Corpus/beauty_newdataset/all/beauty_944755.csv\n",
            "reading error in/content/drive/MyDrive/General Purpose Web Scraping Tool/rinna_testing/Corpus/beauty_newdataset/all/beauty_947894.csv\n",
            "reading error in/content/drive/MyDrive/General Purpose Web Scraping Tool/rinna_testing/Corpus/beauty_newdataset/all/beauty_972733.csv\n",
            "reading error in/content/drive/MyDrive/General Purpose Web Scraping Tool/rinna_testing/Corpus/beauty_newdataset/all/beauty_820989.csv\n",
            "reading error in/content/drive/MyDrive/General Purpose Web Scraping Tool/rinna_testing/Corpus/beauty_newdataset/all/beauty_903740.csv\n",
            "reading error in/content/drive/MyDrive/General Purpose Web Scraping Tool/rinna_testing/Corpus/beauty_newdataset/all/beauty_847448.csv\n",
            "reading error in/content/drive/MyDrive/General Purpose Web Scraping Tool/rinna_testing/Corpus/beauty_newdataset/all/beauty_953049.csv\n",
            "reading error in/content/drive/MyDrive/General Purpose Web Scraping Tool/rinna_testing/Corpus/beauty_newdataset/all/beauty_943521.csv\n",
            "reading error in/content/drive/MyDrive/General Purpose Web Scraping Tool/rinna_testing/Corpus/beauty_newdataset/all/beauty_779154.csv\n",
            "reading error in/content/drive/MyDrive/General Purpose Web Scraping Tool/rinna_testing/Corpus/beauty_newdataset/all/beauty_959723.csv\n",
            "reading error in/content/drive/MyDrive/General Purpose Web Scraping Tool/rinna_testing/Corpus/beauty_newdataset/all/beauty_848555.csv\n",
            "reading error in/content/drive/MyDrive/General Purpose Web Scraping Tool/rinna_testing/Corpus/beauty_newdataset/all/beauty_771235.csv\n",
            "reading error in/content/drive/MyDrive/General Purpose Web Scraping Tool/rinna_testing/Corpus/beauty_newdataset/all/beauty_937438.csv\n",
            "reading error in/content/drive/MyDrive/General Purpose Web Scraping Tool/rinna_testing/Corpus/beauty_newdataset/all/beauty_971833.csv\n",
            "reading error in/content/drive/MyDrive/General Purpose Web Scraping Tool/rinna_testing/Corpus/beauty_newdataset/all/beauty_783535.csv\n",
            "reading error in/content/drive/MyDrive/General Purpose Web Scraping Tool/rinna_testing/Corpus/beauty_newdataset/all/beauty_985851.csv\n",
            "reading error in/content/drive/MyDrive/General Purpose Web Scraping Tool/rinna_testing/Corpus/beauty_newdataset/all/beauty_951976.csv\n",
            "reading error in/content/drive/MyDrive/General Purpose Web Scraping Tool/rinna_testing/Corpus/beauty_newdataset/all/beauty_918435.csv\n",
            "reading error in/content/drive/MyDrive/General Purpose Web Scraping Tool/rinna_testing/Corpus/beauty_newdataset/all/beauty_803291.csv\n",
            "reading error in/content/drive/MyDrive/General Purpose Web Scraping Tool/rinna_testing/Corpus/beauty_newdataset/all/beauty_811997.csv\n",
            "reading error in/content/drive/MyDrive/General Purpose Web Scraping Tool/rinna_testing/Corpus/beauty_newdataset/all/beauty_891784.csv\n",
            "reading error in/content/drive/MyDrive/General Purpose Web Scraping Tool/rinna_testing/Corpus/beauty_newdataset/all/beauty_875375.csv\n",
            "reading error in/content/drive/MyDrive/General Purpose Web Scraping Tool/rinna_testing/Corpus/beauty_newdataset/all/beauty_884209.csv\n",
            "reading error in/content/drive/MyDrive/General Purpose Web Scraping Tool/rinna_testing/Corpus/beauty_newdataset/all/beauty_781170.csv\n",
            "reading error in/content/drive/MyDrive/General Purpose Web Scraping Tool/rinna_testing/Corpus/beauty_newdataset/all/beauty_896288.csv\n",
            "reading error in/content/drive/MyDrive/General Purpose Web Scraping Tool/rinna_testing/Corpus/beauty_newdataset/all/beauty_869554.csv\n",
            "reading error in/content/drive/MyDrive/General Purpose Web Scraping Tool/rinna_testing/Corpus/beauty_newdataset/all/beauty_986754.csv\n",
            "reading error in/content/drive/MyDrive/General Purpose Web Scraping Tool/rinna_testing/Corpus/beauty_newdataset/all/beauty_952414.csv\n",
            "reading error in/content/drive/MyDrive/General Purpose Web Scraping Tool/rinna_testing/Corpus/beauty_newdataset/all/beauty_806855.csv\n",
            "reading error in/content/drive/MyDrive/General Purpose Web Scraping Tool/rinna_testing/Corpus/beauty_newdataset/all/beauty_855799.csv\n",
            "reading error in/content/drive/MyDrive/General Purpose Web Scraping Tool/rinna_testing/Corpus/beauty_newdataset/all/beauty_820232.csv\n",
            "reading error in/content/drive/MyDrive/General Purpose Web Scraping Tool/rinna_testing/Corpus/beauty_newdataset/all/beauty_947569.csv\n",
            "reading error in/content/drive/MyDrive/General Purpose Web Scraping Tool/rinna_testing/Corpus/beauty_newdataset/all/beauty_970113.csv\n",
            "reading error in/content/drive/MyDrive/General Purpose Web Scraping Tool/rinna_testing/Corpus/beauty_newdataset/all/beauty_948326.csv\n",
            "reading error in/content/drive/MyDrive/General Purpose Web Scraping Tool/rinna_testing/Corpus/beauty_newdataset/all/beauty_835044.csv\n",
            "reading error in/content/drive/MyDrive/General Purpose Web Scraping Tool/rinna_testing/Corpus/beauty_newdataset/all/beauty_766454.csv\n",
            "reading error in/content/drive/MyDrive/General Purpose Web Scraping Tool/rinna_testing/Corpus/beauty_newdataset/all/beauty_809322.csv\n",
            "reading error in/content/drive/MyDrive/General Purpose Web Scraping Tool/rinna_testing/Corpus/beauty_newdataset/all/beauty_830257.csv\n",
            "reading error in/content/drive/MyDrive/General Purpose Web Scraping Tool/rinna_testing/Corpus/beauty_newdataset/all/beauty_916661.csv\n",
            "reading error in/content/drive/MyDrive/General Purpose Web Scraping Tool/rinna_testing/Corpus/beauty_newdataset/all/beauty_923866.csv\n",
            "reading error in/content/drive/MyDrive/General Purpose Web Scraping Tool/rinna_testing/Corpus/beauty_newdataset/all/beauty_810498.csv\n",
            "reading error in/content/drive/MyDrive/General Purpose Web Scraping Tool/rinna_testing/Corpus/beauty_newdataset/all/beauty_871044.csv\n",
            "reading error in/content/drive/MyDrive/General Purpose Web Scraping Tool/rinna_testing/Corpus/beauty_newdataset/all/beauty_778964.csv\n",
            "reading error in/content/drive/MyDrive/General Purpose Web Scraping Tool/rinna_testing/Corpus/beauty_newdataset/all/beauty_853380.csv\n",
            "reading error in/content/drive/MyDrive/General Purpose Web Scraping Tool/rinna_testing/Corpus/beauty_newdataset/all/beauty_827832.csv\n",
            "reading error in/content/drive/MyDrive/General Purpose Web Scraping Tool/rinna_testing/Corpus/beauty_newdataset/all/beauty_989999.csv\n",
            "reading error in/content/drive/MyDrive/General Purpose Web Scraping Tool/rinna_testing/Corpus/beauty_newdataset/all/beauty_814048.csv\n",
            "reading error in/content/drive/MyDrive/General Purpose Web Scraping Tool/rinna_testing/Corpus/beauty_newdataset/all/beauty_965237.csv\n",
            "reading error in/content/drive/MyDrive/General Purpose Web Scraping Tool/rinna_testing/Corpus/beauty_newdataset/all/beauty_978668.csv\n",
            "reading error in/content/drive/MyDrive/General Purpose Web Scraping Tool/rinna_testing/Corpus/beauty_newdataset/all/beauty_976671.csv\n",
            "reading error in/content/drive/MyDrive/General Purpose Web Scraping Tool/rinna_testing/Corpus/beauty_newdataset/all/beauty_856990.csv\n",
            "reading error in/content/drive/MyDrive/General Purpose Web Scraping Tool/rinna_testing/Corpus/beauty_newdataset/all/beauty_935435.csv\n",
            "reading error in/content/drive/MyDrive/General Purpose Web Scraping Tool/rinna_testing/Corpus/beauty_newdataset/all/beauty_948818.csv\n",
            "reading error in/content/drive/MyDrive/General Purpose Web Scraping Tool/rinna_testing/Corpus/beauty_newdataset/all/beauty_870678.csv\n",
            "reading error in/content/drive/MyDrive/General Purpose Web Scraping Tool/rinna_testing/Corpus/beauty_newdataset/all/beauty_997207.csv\n",
            "reading error in/content/drive/MyDrive/General Purpose Web Scraping Tool/rinna_testing/Corpus/beauty_newdataset/all/beauty_773540.csv\n",
            "reading error in/content/drive/MyDrive/General Purpose Web Scraping Tool/rinna_testing/Corpus/beauty_newdataset/all/beauty_986625.csv\n",
            "reading error in/content/drive/MyDrive/General Purpose Web Scraping Tool/rinna_testing/Corpus/beauty_newdataset/all/beauty_881679.csv\n",
            "reading error in/content/drive/MyDrive/General Purpose Web Scraping Tool/rinna_testing/Corpus/beauty_newdataset/all/beauty_894319.csv\n",
            "reading error in/content/drive/MyDrive/General Purpose Web Scraping Tool/rinna_testing/Corpus/beauty_newdataset/all/beauty_838887.csv\n",
            "reading error in/content/drive/MyDrive/General Purpose Web Scraping Tool/rinna_testing/Corpus/beauty_newdataset/all/beauty_804681.csv\n",
            "reading error in/content/drive/MyDrive/General Purpose Web Scraping Tool/rinna_testing/Corpus/beauty_newdataset/all/beauty_897646.csv\n",
            "reading error in/content/drive/MyDrive/General Purpose Web Scraping Tool/rinna_testing/Corpus/beauty_newdataset/all/beauty_829853.csv\n",
            "reading error in/content/drive/MyDrive/General Purpose Web Scraping Tool/rinna_testing/Corpus/beauty_newdataset/all/beauty_774780.csv\n",
            "reading error in/content/drive/MyDrive/General Purpose Web Scraping Tool/rinna_testing/Corpus/beauty_newdataset/all/beauty_746807.csv\n",
            "reading error in/content/drive/MyDrive/General Purpose Web Scraping Tool/rinna_testing/Corpus/beauty_newdataset/all/beauty_841558.csv\n",
            "reading error in/content/drive/MyDrive/General Purpose Web Scraping Tool/rinna_testing/Corpus/beauty_newdataset/all/beauty_872483.csv\n",
            "reading error in/content/drive/MyDrive/General Purpose Web Scraping Tool/rinna_testing/Corpus/beauty_newdataset/all/beauty_788665.csv\n",
            "reading error in/content/drive/MyDrive/General Purpose Web Scraping Tool/rinna_testing/Corpus/beauty_newdataset/all/beauty_902306.csv\n",
            "reading error in/content/drive/MyDrive/General Purpose Web Scraping Tool/rinna_testing/Corpus/beauty_newdataset/all/beauty_971075.csv\n",
            "reading error in/content/drive/MyDrive/General Purpose Web Scraping Tool/rinna_testing/Corpus/beauty_newdataset/all/beauty_912263.csv\n",
            "reading error in/content/drive/MyDrive/General Purpose Web Scraping Tool/rinna_testing/Corpus/beauty_newdataset/all/beauty_778694.csv\n",
            "reading error in/content/drive/MyDrive/General Purpose Web Scraping Tool/rinna_testing/Corpus/beauty_newdataset/all/beauty_945284.csv\n",
            "reading error in/content/drive/MyDrive/General Purpose Web Scraping Tool/rinna_testing/Corpus/beauty_newdataset/all/beauty_759824.csv\n",
            "reading error in/content/drive/MyDrive/General Purpose Web Scraping Tool/rinna_testing/Corpus/beauty_newdataset/all/beauty_828239.csv\n",
            "reading error in/content/drive/MyDrive/General Purpose Web Scraping Tool/rinna_testing/Corpus/beauty_newdataset/all/beauty_917677.csv\n",
            "reading error in/content/drive/MyDrive/General Purpose Web Scraping Tool/rinna_testing/Corpus/beauty_newdataset/all/beauty_810039.csv\n",
            "reading error in/content/drive/MyDrive/General Purpose Web Scraping Tool/rinna_testing/Corpus/beauty_newdataset/all/beauty_906946.csv\n",
            "reading error in/content/drive/MyDrive/General Purpose Web Scraping Tool/rinna_testing/Corpus/beauty_newdataset/all/beauty_911049.csv\n",
            "reading error in/content/drive/MyDrive/General Purpose Web Scraping Tool/rinna_testing/Corpus/beauty_newdataset/all/beauty_921106.csv\n",
            "reading error in/content/drive/MyDrive/General Purpose Web Scraping Tool/rinna_testing/Corpus/beauty_newdataset/all/beauty_897369.csv\n",
            "reading error in/content/drive/MyDrive/General Purpose Web Scraping Tool/rinna_testing/Corpus/beauty_newdataset/all/beauty_996211.csv\n",
            "reading error in/content/drive/MyDrive/General Purpose Web Scraping Tool/rinna_testing/Corpus/beauty_newdataset/all/beauty_879043.csv\n",
            "reading error in/content/drive/MyDrive/General Purpose Web Scraping Tool/rinna_testing/Corpus/beauty_newdataset/all/beauty_977275.csv\n",
            "reading error in/content/drive/MyDrive/General Purpose Web Scraping Tool/rinna_testing/Corpus/beauty_newdataset/all/beauty_945640.csv\n",
            "reading error in/content/drive/MyDrive/General Purpose Web Scraping Tool/rinna_testing/Corpus/beauty_newdataset/all/beauty_915098.csv\n",
            "reading error in/content/drive/MyDrive/General Purpose Web Scraping Tool/rinna_testing/Corpus/beauty_newdataset/all/beauty_924225.csv\n",
            "reading error in/content/drive/MyDrive/General Purpose Web Scraping Tool/rinna_testing/Corpus/beauty_newdataset/all/beauty_790702.csv\n",
            "reading error in/content/drive/MyDrive/General Purpose Web Scraping Tool/rinna_testing/Corpus/beauty_newdataset/all/beauty_941030.csv\n",
            "reading error in/content/drive/MyDrive/General Purpose Web Scraping Tool/rinna_testing/Corpus/beauty_newdataset/all/beauty_988224.csv\n",
            "reading error in/content/drive/MyDrive/General Purpose Web Scraping Tool/rinna_testing/Corpus/beauty_newdataset/all/beauty_875494.csv\n",
            "reading error in/content/drive/MyDrive/General Purpose Web Scraping Tool/rinna_testing/Corpus/beauty_newdataset/all/beauty_883612.csv\n",
            "reading error in/content/drive/MyDrive/General Purpose Web Scraping Tool/rinna_testing/Corpus/beauty_newdataset/all/beauty_776789.csv\n",
            "reading error in/content/drive/MyDrive/General Purpose Web Scraping Tool/rinna_testing/Corpus/beauty_newdataset/all/beauty_855302.csv\n",
            "reading error in/content/drive/MyDrive/General Purpose Web Scraping Tool/rinna_testing/Corpus/beauty_newdataset/all/beauty_955713.csv\n",
            "reading error in/content/drive/MyDrive/General Purpose Web Scraping Tool/rinna_testing/Corpus/beauty_newdataset/all/beauty_846990.csv\n",
            "reading error in/content/drive/MyDrive/General Purpose Web Scraping Tool/rinna_testing/Corpus/beauty_newdataset/all/beauty_815155.csv\n",
            "reading error in/content/drive/MyDrive/General Purpose Web Scraping Tool/rinna_testing/Corpus/beauty_newdataset/all/beauty_899131.csv\n",
            "reading error in/content/drive/MyDrive/General Purpose Web Scraping Tool/rinna_testing/Corpus/beauty_newdataset/all/beauty_853171.csv\n",
            "reading error in/content/drive/MyDrive/General Purpose Web Scraping Tool/rinna_testing/Corpus/beauty_newdataset/all/beauty_977560.csv\n",
            "reading error in/content/drive/MyDrive/General Purpose Web Scraping Tool/rinna_testing/Corpus/beauty_newdataset/all/beauty_917361.csv\n",
            "reading error in/content/drive/MyDrive/General Purpose Web Scraping Tool/rinna_testing/Corpus/beauty_newdataset/all/beauty_931295.csv\n",
            "reading error in/content/drive/MyDrive/General Purpose Web Scraping Tool/rinna_testing/Corpus/beauty_newdataset/all/beauty_922942.csv\n",
            "reading error in/content/drive/MyDrive/General Purpose Web Scraping Tool/rinna_testing/Corpus/beauty_newdataset/all/beauty_918667.csv\n",
            "reading error in/content/drive/MyDrive/General Purpose Web Scraping Tool/rinna_testing/Corpus/beauty_newdataset/all/beauty_870078.csv\n",
            "reading error in/content/drive/MyDrive/General Purpose Web Scraping Tool/rinna_testing/Corpus/beauty_newdataset/all/beauty_768901.csv\n",
            "reading error in/content/drive/MyDrive/General Purpose Web Scraping Tool/rinna_testing/Corpus/beauty_newdataset/all/beauty_962749.csv\n",
            "reading error in/content/drive/MyDrive/General Purpose Web Scraping Tool/rinna_testing/Corpus/beauty_newdataset/all/beauty_947137.csv\n",
            "reading error in/content/drive/MyDrive/General Purpose Web Scraping Tool/rinna_testing/Corpus/beauty_newdataset/all/beauty_987190.csv\n",
            "reading error in/content/drive/MyDrive/General Purpose Web Scraping Tool/rinna_testing/Corpus/beauty_newdataset/all/beauty_854254.csv\n",
            "reading error in/content/drive/MyDrive/General Purpose Web Scraping Tool/rinna_testing/Corpus/beauty_newdataset/all/beauty_917679.csv\n",
            "reading error in/content/drive/MyDrive/General Purpose Web Scraping Tool/rinna_testing/Corpus/beauty_newdataset/all/beauty_805978.csv\n",
            "reading error in/content/drive/MyDrive/General Purpose Web Scraping Tool/rinna_testing/Corpus/beauty_newdataset/all/beauty_776394.csv\n",
            "reading error in/content/drive/MyDrive/General Purpose Web Scraping Tool/rinna_testing/Corpus/beauty_newdataset/all/beauty_887422.csv\n",
            "reading error in/content/drive/MyDrive/General Purpose Web Scraping Tool/rinna_testing/Corpus/beauty_newdataset/all/beauty_863001.csv\n",
            "reading error in/content/drive/MyDrive/General Purpose Web Scraping Tool/rinna_testing/Corpus/beauty_newdataset/all/beauty_994138.csv\n",
            "reading error in/content/drive/MyDrive/General Purpose Web Scraping Tool/rinna_testing/Corpus/beauty_newdataset/all/beauty_789064.csv\n",
            "reading error in/content/drive/MyDrive/General Purpose Web Scraping Tool/rinna_testing/Corpus/beauty_newdataset/all/beauty_995642.csv\n",
            "reading error in/content/drive/MyDrive/General Purpose Web Scraping Tool/rinna_testing/Corpus/beauty_newdataset/all/beauty_866750.csv\n",
            "reading error in/content/drive/MyDrive/General Purpose Web Scraping Tool/rinna_testing/Corpus/beauty_newdataset/all/beauty_852585.csv\n",
            "reading error in/content/drive/MyDrive/General Purpose Web Scraping Tool/rinna_testing/Corpus/beauty_newdataset/all/beauty_778235.csv\n",
            "reading error in/content/drive/MyDrive/General Purpose Web Scraping Tool/rinna_testing/Corpus/beauty_newdataset/all/beauty_859680.csv\n",
            "reading error in/content/drive/MyDrive/General Purpose Web Scraping Tool/rinna_testing/Corpus/beauty_newdataset/all/beauty_861117.csv\n",
            "reading error in/content/drive/MyDrive/General Purpose Web Scraping Tool/rinna_testing/Corpus/beauty_newdataset/all/beauty_860874.csv\n",
            "reading error in/content/drive/MyDrive/General Purpose Web Scraping Tool/rinna_testing/Corpus/beauty_newdataset/all/beauty_827106.csv\n",
            "reading error in/content/drive/MyDrive/General Purpose Web Scraping Tool/rinna_testing/Corpus/beauty_newdataset/all/beauty_804534.csv\n",
            "reading error in/content/drive/MyDrive/General Purpose Web Scraping Tool/rinna_testing/Corpus/beauty_newdataset/all/beauty_748814.csv\n",
            "reading error in/content/drive/MyDrive/General Purpose Web Scraping Tool/rinna_testing/Corpus/beauty_newdataset/all/beauty_747274.csv\n",
            "reading error in/content/drive/MyDrive/General Purpose Web Scraping Tool/rinna_testing/Corpus/beauty_newdataset/all/beauty_780899.csv\n",
            "reading error in/content/drive/MyDrive/General Purpose Web Scraping Tool/rinna_testing/Corpus/beauty_newdataset/all/beauty_976740.csv\n",
            "reading error in/content/drive/MyDrive/General Purpose Web Scraping Tool/rinna_testing/Corpus/beauty_newdataset/all/beauty_891566.csv\n",
            "reading error in/content/drive/MyDrive/General Purpose Web Scraping Tool/rinna_testing/Corpus/beauty_newdataset/all/beauty_783953.csv\n",
            "reading error in/content/drive/MyDrive/General Purpose Web Scraping Tool/rinna_testing/Corpus/beauty_newdataset/all/beauty_801679.csv\n",
            "reading error in/content/drive/MyDrive/General Purpose Web Scraping Tool/rinna_testing/Corpus/beauty_newdataset/all/beauty_982092.csv\n",
            "reading error in/content/drive/MyDrive/General Purpose Web Scraping Tool/rinna_testing/Corpus/beauty_newdataset/all/beauty_846681.csv\n",
            "reading error in/content/drive/MyDrive/General Purpose Web Scraping Tool/rinna_testing/Corpus/beauty_newdataset/all/beauty_779632.csv\n",
            "reading error in/content/drive/MyDrive/General Purpose Web Scraping Tool/rinna_testing/Corpus/beauty_newdataset/all/beauty_900883.csv\n",
            "reading error in/content/drive/MyDrive/General Purpose Web Scraping Tool/rinna_testing/Corpus/beauty_newdataset/all/beauty_892661.csv\n",
            "reading error in/content/drive/MyDrive/General Purpose Web Scraping Tool/rinna_testing/Corpus/beauty_newdataset/all/beauty_795017.csv\n",
            "reading error in/content/drive/MyDrive/General Purpose Web Scraping Tool/rinna_testing/Corpus/beauty_newdataset/all/beauty_989591.csv\n",
            "reading error in/content/drive/MyDrive/General Purpose Web Scraping Tool/rinna_testing/Corpus/beauty_newdataset/all/beauty_838409.csv\n",
            "reading error in/content/drive/MyDrive/General Purpose Web Scraping Tool/rinna_testing/Corpus/beauty_newdataset/all/beauty_901821.csv\n",
            "reading error in/content/drive/MyDrive/General Purpose Web Scraping Tool/rinna_testing/Corpus/beauty_newdataset/all/beauty_783861.csv\n",
            "reading error in/content/drive/MyDrive/General Purpose Web Scraping Tool/rinna_testing/Corpus/beauty_newdataset/all/beauty_933405.csv\n",
            "reading error in/content/drive/MyDrive/General Purpose Web Scraping Tool/rinna_testing/Corpus/beauty_newdataset/all/beauty_863778.csv\n",
            "reading error in/content/drive/MyDrive/General Purpose Web Scraping Tool/rinna_testing/Corpus/beauty_newdataset/all/beauty_749796.csv\n",
            "reading error in/content/drive/MyDrive/General Purpose Web Scraping Tool/rinna_testing/Corpus/beauty_newdataset/all/beauty_857602.csv\n",
            "reading error in/content/drive/MyDrive/General Purpose Web Scraping Tool/rinna_testing/Corpus/beauty_newdataset/all/beauty_864671.csv\n",
            "reading error in/content/drive/MyDrive/General Purpose Web Scraping Tool/rinna_testing/Corpus/beauty_newdataset/all/beauty_981447.csv\n",
            "reading error in/content/drive/MyDrive/General Purpose Web Scraping Tool/rinna_testing/Corpus/beauty_newdataset/all/beauty_962354.csv\n",
            "reading error in/content/drive/MyDrive/General Purpose Web Scraping Tool/rinna_testing/Corpus/beauty_newdataset/all/beauty_833496.csv\n",
            "reading error in/content/drive/MyDrive/General Purpose Web Scraping Tool/rinna_testing/Corpus/beauty_newdataset/all/beauty_925802.csv\n",
            "reading error in/content/drive/MyDrive/General Purpose Web Scraping Tool/rinna_testing/Corpus/beauty_newdataset/all/beauty_879335.csv\n",
            "reading error in/content/drive/MyDrive/General Purpose Web Scraping Tool/rinna_testing/Corpus/beauty_newdataset/all/beauty_745367.csv\n",
            "reading error in/content/drive/MyDrive/General Purpose Web Scraping Tool/rinna_testing/Corpus/beauty_newdataset/all/beauty_962220.csv\n",
            "reading error in/content/drive/MyDrive/General Purpose Web Scraping Tool/rinna_testing/Corpus/beauty_newdataset/all/beauty_929685.csv\n",
            "reading error in/content/drive/MyDrive/General Purpose Web Scraping Tool/rinna_testing/Corpus/beauty_newdataset/all/beauty_990012.csv\n",
            "reading error in/content/drive/MyDrive/General Purpose Web Scraping Tool/rinna_testing/Corpus/beauty_newdataset/all/beauty_990820.csv\n",
            "reading error in/content/drive/MyDrive/General Purpose Web Scraping Tool/rinna_testing/Corpus/beauty_newdataset/all/beauty_916501.csv\n",
            "reading error in/content/drive/MyDrive/General Purpose Web Scraping Tool/rinna_testing/Corpus/beauty_newdataset/all/beauty_860474.csv\n",
            "reading error in/content/drive/MyDrive/General Purpose Web Scraping Tool/rinna_testing/Corpus/beauty_newdataset/all/beauty_796718.csv\n",
            "reading error in/content/drive/MyDrive/General Purpose Web Scraping Tool/rinna_testing/Corpus/beauty_newdataset/all/beauty_842242.csv\n",
            "reading error in/content/drive/MyDrive/General Purpose Web Scraping Tool/rinna_testing/Corpus/beauty_newdataset/all/beauty_994525.csv\n",
            "reading error in/content/drive/MyDrive/General Purpose Web Scraping Tool/rinna_testing/Corpus/beauty_newdataset/all/beauty_761047.csv\n",
            "reading error in/content/drive/MyDrive/General Purpose Web Scraping Tool/rinna_testing/Corpus/beauty_newdataset/all/beauty_888724.csv\n",
            "reading error in/content/drive/MyDrive/General Purpose Web Scraping Tool/rinna_testing/Corpus/beauty_newdataset/all/beauty_851124.csv\n",
            "reading error in/content/drive/MyDrive/General Purpose Web Scraping Tool/rinna_testing/Corpus/beauty_newdataset/all/beauty_926755.csv\n",
            "reading error in/content/drive/MyDrive/General Purpose Web Scraping Tool/rinna_testing/Corpus/beauty_newdataset/all/beauty_766218.csv\n",
            "reading error in/content/drive/MyDrive/General Purpose Web Scraping Tool/rinna_testing/Corpus/beauty_newdataset/all/beauty_862710.csv\n",
            "reading error in/content/drive/MyDrive/General Purpose Web Scraping Tool/rinna_testing/Corpus/beauty_newdataset/all/beauty_768433.csv\n",
            "reading error in/content/drive/MyDrive/General Purpose Web Scraping Tool/rinna_testing/Corpus/beauty_newdataset/all/beauty_804042.csv\n",
            "reading error in/content/drive/MyDrive/General Purpose Web Scraping Tool/rinna_testing/Corpus/beauty_newdataset/all/beauty_855647.csv\n",
            "reading error in/content/drive/MyDrive/General Purpose Web Scraping Tool/rinna_testing/Corpus/beauty_newdataset/all/beauty_863328.csv\n",
            "reading error in/content/drive/MyDrive/General Purpose Web Scraping Tool/rinna_testing/Corpus/beauty_newdataset/all/beauty_958399.csv\n",
            "reading error in/content/drive/MyDrive/General Purpose Web Scraping Tool/rinna_testing/Corpus/beauty_newdataset/all/beauty_901881.csv\n",
            "reading error in/content/drive/MyDrive/General Purpose Web Scraping Tool/rinna_testing/Corpus/beauty_newdataset/all/beauty_895076.csv\n",
            "reading error in/content/drive/MyDrive/General Purpose Web Scraping Tool/rinna_testing/Corpus/beauty_newdataset/all/beauty_946696.csv\n",
            "reading error in/content/drive/MyDrive/General Purpose Web Scraping Tool/rinna_testing/Corpus/beauty_newdataset/all/beauty_891439.csv\n",
            "reading error in/content/drive/MyDrive/General Purpose Web Scraping Tool/rinna_testing/Corpus/beauty_newdataset/all/beauty_853225.csv\n",
            "reading error in/content/drive/MyDrive/General Purpose Web Scraping Tool/rinna_testing/Corpus/beauty_newdataset/all/beauty_943370.csv\n",
            "reading error in/content/drive/MyDrive/General Purpose Web Scraping Tool/rinna_testing/Corpus/beauty_newdataset/all/beauty_757155.csv\n",
            "reading error in/content/drive/MyDrive/General Purpose Web Scraping Tool/rinna_testing/Corpus/beauty_newdataset/all/beauty_984165.csv\n",
            "reading error in/content/drive/MyDrive/General Purpose Web Scraping Tool/rinna_testing/Corpus/beauty_newdataset/all/beauty_237374.csv\n",
            "reading error in/content/drive/MyDrive/General Purpose Web Scraping Tool/rinna_testing/Corpus/beauty_newdataset/all/beauty_275924.csv\n",
            "reading error in/content/drive/MyDrive/General Purpose Web Scraping Tool/rinna_testing/Corpus/beauty_newdataset/all/beauty_308484.csv\n",
            "reading error in/content/drive/MyDrive/General Purpose Web Scraping Tool/rinna_testing/Corpus/beauty_newdataset/all/beauty_174421.csv\n",
            "reading error in/content/drive/MyDrive/General Purpose Web Scraping Tool/rinna_testing/Corpus/beauty_newdataset/all/beauty_687553.csv\n",
            "reading error in/content/drive/MyDrive/General Purpose Web Scraping Tool/rinna_testing/Corpus/beauty_newdataset/all/beauty_327371.csv\n",
            "reading error in/content/drive/MyDrive/General Purpose Web Scraping Tool/rinna_testing/Corpus/beauty_newdataset/all/beauty_084130.csv\n",
            "reading error in/content/drive/MyDrive/General Purpose Web Scraping Tool/rinna_testing/Corpus/beauty_newdataset/all/beauty_309495.csv\n",
            "reading error in/content/drive/MyDrive/General Purpose Web Scraping Tool/rinna_testing/Corpus/beauty_newdataset/all/beauty_072981.csv\n",
            "reading error in/content/drive/MyDrive/General Purpose Web Scraping Tool/rinna_testing/Corpus/beauty_newdataset/all/beauty_152467.csv\n",
            "reading error in/content/drive/MyDrive/General Purpose Web Scraping Tool/rinna_testing/Corpus/beauty_newdataset/all/beauty_958664.csv\n",
            "reading error in/content/drive/MyDrive/General Purpose Web Scraping Tool/rinna_testing/Corpus/beauty_newdataset/all/beauty_654257.csv\n",
            "reading error in/content/drive/MyDrive/General Purpose Web Scraping Tool/rinna_testing/Corpus/beauty_newdataset/all/beauty_665417.csv\n",
            "reading error in/content/drive/MyDrive/General Purpose Web Scraping Tool/rinna_testing/Corpus/beauty_newdataset/all/beauty_938797.csv\n",
            "reading error in/content/drive/MyDrive/General Purpose Web Scraping Tool/rinna_testing/Corpus/beauty_newdataset/all/beauty_975009.csv\n",
            "length of data frame: 37366\n",
            "Max length: 2167\n"
          ]
        },
        {
          "output_type": "stream",
          "name": "stderr",
          "text": [
            "/usr/local/lib/python3.7/dist-packages/transformers/models/t5/tokenization_t5.py:220: UserWarning: This sequence already has </s>. In future versions this behavior may lead to duplicated eos tokens being added.\n",
            "  f\"This sequence already has {self.eos_token}. In future versions this behavior may lead to duplicated\"\n"
          ]
        },
        {
          "output_type": "stream",
          "name": "stdout",
          "text": [
            "5000\n"
          ]
        }
      ]
    },
    {
      "cell_type": "code",
      "source": [
        "print(\"Start training...\")\n",
        "training_args = TrainingArguments(output_dir=r'/content/drive/MyDrive/Models/title_to_text_generation/gpt2_rinna_epoch_5_data_20000', num_train_epochs=5, \n",
        "                                logging_steps=5000, load_best_model_at_end=True,\n",
        "                                save_strategy='steps',\n",
        "                                evaluation_strategy=\"steps\",\n",
        "                                save_steps=5000,\n",
        "                                per_device_train_batch_size=3, per_device_eval_batch_size=3,\n",
        "                                learning_rate=0.001,\n",
        "                                warmup_steps=1, weight_decay=0.0001, logging_dir='logs')\n",
        "\n",
        "\n",
        "trainer = Trainer(model=model, args=training_args, train_dataset=train_dataset,\n",
        "          eval_dataset=val_dataset, data_collator=lambda data: {'input_ids': torch.stack([f[0] for f in data]),\n",
        "                                                                'attention_mask': torch.stack([f[1] for f in data]),\n",
        "                                                                'labels': torch.stack([f[0] for f in data])})\n",
        "trainer.train()                                                  "
      ],
      "metadata": {
        "colab": {
          "base_uri": "https://localhost:8080/",
          "height": 561
        },
        "id": "D2TEfiLhzYEv",
        "outputId": "f3846f2f-d583-42c7-cf35-037ed62981e8"
      },
      "execution_count": null,
      "outputs": [
        {
          "output_type": "stream",
          "name": "stdout",
          "text": [
            "Start training...\n"
          ]
        },
        {
          "output_type": "stream",
          "name": "stderr",
          "text": [
            "/usr/local/lib/python3.7/dist-packages/transformers/optimization.py:310: FutureWarning: This implementation of AdamW is deprecated and will be removed in a future version. Use the PyTorch implementation torch.optim.AdamW instead, or set `no_deprecation_warning=True` to disable this warning\n",
            "  FutureWarning,\n",
            "***** Running training *****\n",
            "  Num examples = 4500\n",
            "  Num Epochs = 5\n",
            "  Instantaneous batch size per device = 3\n",
            "  Total train batch size (w. parallel, distributed & accumulation) = 3\n",
            "  Gradient Accumulation steps = 1\n",
            "  Total optimization steps = 7500\n",
            "  Number of trainable parameters = 336129024\n"
          ]
        },
        {
          "output_type": "display_data",
          "data": {
            "text/plain": [
              "<IPython.core.display.HTML object>"
            ],
            "text/html": [
              "\n",
              "    <div>\n",
              "      \n",
              "      <progress value='7500' max='7500' style='width:300px; height:20px; vertical-align: middle;'></progress>\n",
              "      [7500/7500 2:33:16, Epoch 5/5]\n",
              "    </div>\n",
              "    <table border=\"1\" class=\"dataframe\">\n",
              "  <thead>\n",
              " <tr style=\"text-align: left;\">\n",
              "      <th>Step</th>\n",
              "      <th>Training Loss</th>\n",
              "      <th>Validation Loss</th>\n",
              "    </tr>\n",
              "  </thead>\n",
              "  <tbody>\n",
              "    <tr>\n",
              "      <td>5000</td>\n",
              "      <td>0.623700</td>\n",
              "      <td>0.827514</td>\n",
              "    </tr>\n",
              "  </tbody>\n",
              "</table><p>"
            ]
          },
          "metadata": {}
        },
        {
          "output_type": "stream",
          "name": "stderr",
          "text": [
            "***** Running Evaluation *****\n",
            "  Num examples = 500\n",
            "  Batch size = 3\n",
            "Saving model checkpoint to /content/drive/MyDrive/Models/title_to_text_generation/gpt2_rinna_epoch_5_data_20000/checkpoint-5000\n",
            "Configuration saved in /content/drive/MyDrive/Models/title_to_text_generation/gpt2_rinna_epoch_5_data_20000/checkpoint-5000/config.json\n",
            "Model weights saved in /content/drive/MyDrive/Models/title_to_text_generation/gpt2_rinna_epoch_5_data_20000/checkpoint-5000/pytorch_model.bin\n",
            "\n",
            "\n",
            "Training completed. Do not forget to share your model on huggingface.co/models =)\n",
            "\n",
            "\n",
            "Loading best model from /content/drive/MyDrive/Models/title_to_text_generation/gpt2_rinna_epoch_5_data_20000/checkpoint-5000 (score: 0.8275141716003418).\n"
          ]
        },
        {
          "output_type": "execute_result",
          "data": {
            "text/plain": [
              "TrainOutput(global_step=7500, training_loss=0.47258819580078126, metrics={'train_runtime': 9198.2277, 'train_samples_per_second': 2.446, 'train_steps_per_second': 0.815, 'total_flos': 2.089576562688e+16, 'train_loss': 0.47258819580078126, 'epoch': 5.0})"
            ]
          },
          "metadata": {},
          "execution_count": 11
        }
      ]
    },
    {
      "cell_type": "code",
      "source": [
        "                                "
      ],
      "metadata": {
        "id": "MLIpCRpCpmmx"
      },
      "execution_count": null,
      "outputs": []
    },
    {
      "cell_type": "code",
      "source": [
        "import os\n",
        "\n",
        "output_dir = '/content/drive/MyDrive/Models/title_to_text_generation/gpt2_rinna_epoch_5_data_20000'\n",
        "\n",
        "# Save a trained model, configuration and tokenizer using `save_pretrained()`.\n",
        "# They can then be reloaded using `from_pretrained()`\n",
        "\n",
        "model_to_save = model.module if hasattr(model, 'module') else model\n",
        "model_to_save.save_pretrained(output_dir)\n",
        "tokenizer.save_pretrained(output_dir)"
      ],
      "metadata": {
        "id": "ltybeRh_WdvM",
        "colab": {
          "base_uri": "https://localhost:8080/"
        },
        "outputId": "6ec962f5-759a-4882-faef-c258d9588f7f"
      },
      "execution_count": null,
      "outputs": [
        {
          "output_type": "stream",
          "name": "stderr",
          "text": [
            "Configuration saved in /content/drive/MyDrive/Models/title_to_text_generation/gpt2_rinna_epoch_5_data_20000/config.json\n",
            "Model weights saved in /content/drive/MyDrive/Models/title_to_text_generation/gpt2_rinna_epoch_5_data_20000/pytorch_model.bin\n",
            "tokenizer config file saved in /content/drive/MyDrive/Models/title_to_text_generation/gpt2_rinna_epoch_5_data_20000/tokenizer_config.json\n",
            "Special tokens file saved in /content/drive/MyDrive/Models/title_to_text_generation/gpt2_rinna_epoch_5_data_20000/special_tokens_map.json\n",
            "added tokens file saved in /content/drive/MyDrive/Models/title_to_text_generation/gpt2_rinna_epoch_5_data_20000/added_tokens.json\n"
          ]
        },
        {
          "output_type": "execute_result",
          "data": {
            "text/plain": [
              "('/content/drive/MyDrive/Models/title_to_text_generation/gpt2_rinna_epoch_5_data_20000/tokenizer_config.json',\n",
              " '/content/drive/MyDrive/Models/title_to_text_generation/gpt2_rinna_epoch_5_data_20000/special_tokens_map.json',\n",
              " '/content/drive/MyDrive/Models/title_to_text_generation/gpt2_rinna_epoch_5_data_20000/spiece.model',\n",
              " '/content/drive/MyDrive/Models/title_to_text_generation/gpt2_rinna_epoch_5_data_20000/added_tokens.json')"
            ]
          },
          "metadata": {},
          "execution_count": 14
        }
      ]
    },
    {
      "cell_type": "code",
      "source": [
        "model = AutoModelForCausalLM.from_pretrained(\"/content/drive/MyDrive/Models/title_to_text_generation/gpt2_rinna_epoch_5_data_20000\")"
      ],
      "metadata": {
        "colab": {
          "base_uri": "https://localhost:8080/"
        },
        "id": "tT76TT3DIJB7",
        "outputId": "64ee3804-deb7-4abf-bfd3-478ebcfa9f38"
      },
      "execution_count": null,
      "outputs": [
        {
          "output_type": "stream",
          "name": "stderr",
          "text": [
            "loading configuration file /content/drive/MyDrive/Models/title_to_text_generation/gpt2_rinna_epoch_5_data_20000/config.json\n",
            "Model config GPT2Config {\n",
            "  \"_name_or_path\": \"/content/drive/MyDrive/Models/title_to_text_generation/gpt2_rinna_epoch_5_data_20000\",\n",
            "  \"activation_function\": \"gelu_new\",\n",
            "  \"architectures\": [\n",
            "    \"GPT2LMHeadModel\"\n",
            "  ],\n",
            "  \"attn_pdrop\": 0.1,\n",
            "  \"bos_token_id\": 1,\n",
            "  \"embd_pdrop\": 0.1,\n",
            "  \"eos_token_id\": 2,\n",
            "  \"gradient_checkpointing\": false,\n",
            "  \"initializer_range\": 0.02,\n",
            "  \"layer_norm_epsilon\": 1e-05,\n",
            "  \"model_type\": \"gpt2\",\n",
            "  \"n_ctx\": 1024,\n",
            "  \"n_embd\": 1024,\n",
            "  \"n_head\": 16,\n",
            "  \"n_inner\": 4096,\n",
            "  \"n_layer\": 24,\n",
            "  \"n_positions\": 1024,\n",
            "  \"reorder_and_upcast_attn\": false,\n",
            "  \"resid_pdrop\": 0.1,\n",
            "  \"scale_attn_by_inverse_layer_idx\": false,\n",
            "  \"scale_attn_weights\": true,\n",
            "  \"summary_activation\": null,\n",
            "  \"summary_first_dropout\": 0.1,\n",
            "  \"summary_proj_to_labels\": true,\n",
            "  \"summary_type\": \"cls_index\",\n",
            "  \"summary_use_proj\": true,\n",
            "  \"task_specific_params\": {\n",
            "    \"text-generation\": {\n",
            "      \"do_sample\": true,\n",
            "      \"max_length\": 50\n",
            "    }\n",
            "  },\n",
            "  \"torch_dtype\": \"float32\",\n",
            "  \"transformers_version\": \"4.24.0\",\n",
            "  \"use_cache\": true,\n",
            "  \"vocab_size\": 32001\n",
            "}\n",
            "\n",
            "loading weights file /content/drive/MyDrive/Models/title_to_text_generation/gpt2_rinna_epoch_5_data_20000/pytorch_model.bin\n",
            "All model checkpoint weights were used when initializing GPT2LMHeadModel.\n",
            "\n",
            "All the weights of GPT2LMHeadModel were initialized from the model checkpoint at /content/drive/MyDrive/Models/title_to_text_generation/gpt2_rinna_epoch_5_data_20000.\n",
            "If your task is similar to the task the model of the checkpoint was trained on, you can already use GPT2LMHeadModel for predictions without further training.\n"
          ]
        }
      ]
    },
    {
      "cell_type": "code",
      "execution_count": null,
      "metadata": {
        "id": "Hdl2A1H3gSTf",
        "colab": {
          "base_uri": "https://localhost:8080/"
        },
        "outputId": "47168c34-47af-41b6-ba05-660aa759fe03"
      },
      "outputs": [
        {
          "output_type": "stream",
          "name": "stderr",
          "text": [
            "The attention mask and the pad token id were not set. As a consequence, you may observe unexpected behavior. Please pass your input's `attention_mask` to obtain reliable results.\n",
            "Setting `pad_token_id` to `eos_token_id`:2 for open-end generation.\n",
            "A decoder-only architecture is being used, but right-padding was detected! For correct generation results, please set `padding_side='left'` when initializing the tokenizer.\n"
          ]
        }
      ],
      "source": [
        "text = '【ブローチェ　アヴェダ】また、ピンクブラウンにはメリットが多いのも魅力の一つ。'\n",
        "prompt = f' Title: {text}\\n Content:'\n",
        "generated = tokenizer(f\"<s> {prompt}\", return_tensors=\"pt\").input_ids\n",
        "sample_outputs = model.generate(generated, do_sample=False, top_k=50, max_length=512, top_p=0.90, \n",
        "            temperature=0, num_return_sequences=1)\n",
        "pred_text = tokenizer.decode(sample_outputs[0], skip_special_tokens=True)\n",
        "           "
      ]
    },
    {
      "cell_type": "code",
      "source": [
        "print(pred_text)"
      ],
      "metadata": {
        "colab": {
          "base_uri": "https://localhost:8080/"
        },
        "id": "OW5v8hZlIQYq",
        "outputId": "ee084bb4-6712-4de6-cfe0-863cfded9d9e"
      },
      "execution_count": null,
      "outputs": [
        {
          "output_type": "stream",
          "name": "stdout",
          "text": [
            "itle: 【ブローチェ アヴェダ】また、ピンクブラウンにはメリットが多いのも魅力の一つ。 Content:】ブリーチなしでも発色しやすいピンクブラウンカラー。 ブリーチなしでも発色しやすいピンクブラウンは、ミルクティーのようなカラーに色味が変わります。 また、ピンクブラウンは赤みがかったり、透明感がでたりと、色味がマイルドなのが特徴です。 ブリーチなしでも発色しやすいピンクブラウンは、以下の記事で確認してみましょう!関連記事はこちらブリーチなしで作る?取り入れたいピンクカラーのオーダー方法とおすすめスタイル集ピンクカラーは、ピンクとベージュの定番色。 ブリーチなしでも発色しやすいピンクカラーは、今季のトレンドカラーなんです♡ 今回はそんなピンクカラーのレングス別・明るさ別に大特集!色決め手したいブリーチいらずのおすすめスタイルを紹介していきます。\n"
          ]
        }
      ]
    },
    {
      "cell_type": "markdown",
      "source": [
        "ref: https://qiita.com/m__k/items/36875fedf8ad1842b729"
      ],
      "metadata": {
        "id": "RlUqOSY-fkSL"
      }
    },
    {
      "cell_type": "code",
      "source": [],
      "metadata": {
        "id": "kLVXKLimflMR"
      },
      "execution_count": null,
      "outputs": []
    }
  ],
  "metadata": {
    "colab": {
      "provenance": []
    },
    "gpuClass": "standard",
    "kernelspec": {
      "display_name": "Python 3",
      "name": "python3"
    },
    "language_info": {
      "name": "python"
    },
    "accelerator": "GPU"
  },
  "nbformat": 4,
  "nbformat_minor": 0
}