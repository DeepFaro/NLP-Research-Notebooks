{
 "cells": [
  {
   "cell_type": "code",
   "execution_count": null,
   "metadata": {
    "colab": {
     "base_uri": "https://localhost:8080/"
    },
    "executionInfo": {
     "elapsed": 9721,
     "status": "ok",
     "timestamp": 1669012893424,
     "user": {
      "displayName": "KHIN KHANT KHANT HLAING",
      "userId": "10342000142729790877"
     },
     "user_tz": -390
    },
    "id": "Grwf_qpExalj",
    "outputId": "f2817213-97b2-4b87-fe6c-316d6bfee376"
   },
   "outputs": [],
   "source": [
    "!pip install transformers"
   ]
  },
  {
   "cell_type": "code",
   "execution_count": null,
   "metadata": {
    "colab": {
     "base_uri": "https://localhost:8080/"
    },
    "executionInfo": {
     "elapsed": 5189,
     "status": "ok",
     "timestamp": 1669012898610,
     "user": {
      "displayName": "KHIN KHANT KHANT HLAING",
      "userId": "10342000142729790877"
     },
     "user_tz": -390
    },
    "id": "_dihpG4pemT7",
    "outputId": "7879a079-9faa-48ea-e402-09309b74a50e"
   },
   "outputs": [],
   "source": [
    "!pip install sentencepiece"
   ]
  },
  {
   "cell_type": "code",
   "execution_count": 1,
   "metadata": {
    "executionInfo": {
     "elapsed": 3538,
     "status": "ok",
     "timestamp": 1669013260710,
     "user": {
      "displayName": "KHIN KHANT KHANT HLAING",
      "userId": "10342000142729790877"
     },
     "user_tz": -390
    },
    "id": "r1-ME6ADT2lm"
   },
   "outputs": [
    {
     "name": "stderr",
     "output_type": "stream",
     "text": [
      "/opt/conda/lib/python3.7/site-packages/tqdm/auto.py:22: TqdmWarning: IProgress not found. Please update jupyter and ipywidgets. See https://ipywidgets.readthedocs.io/en/stable/user_install.html\n",
      "  from .autonotebook import tqdm as notebook_tqdm\n"
     ]
    }
   ],
   "source": [
    "# import\n",
    "import re\n",
    "import json\n",
    "import torch\n",
    "import random\n",
    "import pandas as pd\n",
    "from tqdm import tqdm\n",
    "from torch.utils.data import Dataset, random_split\n",
    "from sklearn.metrics import f1_score\n",
    "from sklearn.model_selection import train_test_split\n",
    "from transformers import GPT2Tokenizer, TrainingArguments, Trainer, GPT2LMHeadModel\n"
   ]
  },
  {
   "cell_type": "markdown",
   "metadata": {
    "id": "DRi2aNLSTslr"
   },
   "source": [
    "## Dataset"
   ]
  },
  {
   "cell_type": "code",
   "execution_count": 2,
   "metadata": {
    "executionInfo": {
     "elapsed": 4,
     "status": "ok",
     "timestamp": 1669013260711,
     "user": {
      "displayName": "KHIN KHANT KHANT HLAING",
      "userId": "10342000142729790877"
     },
     "user_tz": -390
    },
    "id": "2Q8JdyLwTqbj"
   },
   "outputs": [],
   "source": [
    "# Dataset class\n",
    "class BeautyDataset(Dataset):\n",
    "    def __init__(self, txt_list, label_list, tokenizer, max_length):\n",
    "        # define variables    \n",
    "        self.input_ids = []\n",
    "        self.attn_masks = []\n",
    "        #self.labels = []\n",
    "        \n",
    "        # iterate through the dataset\n",
    "        # truncate long content > 256\n",
    "        count = 1\n",
    "        for txt, label in zip(txt_list, label_list):\n",
    "            txt= txt.replace(\"\\n\", \"\")\n",
    "            txt_ = (txt[:256]) if len(txt) > 256 else txt\n",
    "            if count ==1:\n",
    "                print(\"label : \", label)\n",
    "                count = 0\n",
    "            # prepare the text\n",
    "            prep_txt = f'<s>Content: {txt_}[SEP] Title: {label}</s>'\n",
    "            # tokenize\n",
    "            encodings_dict = tokenizer(prep_txt, truncation=True,\n",
    "                                       max_length=max_length, padding=\"max_length\")\n",
    "            # append to list\n",
    "            self.input_ids.append(torch.tensor(encodings_dict['input_ids']))\n",
    "            self.attn_masks.append(torch.tensor(encodings_dict['attention_mask']))\n",
    "            #self.labels.append(label)\n",
    "\n",
    "    def __len__(self):\n",
    "        return len(self.input_ids)\n",
    "\n",
    "    def __getitem__(self, idx):\n",
    "        return self.input_ids[idx], self.attn_masks[idx]\n"
   ]
  },
  {
   "cell_type": "code",
   "execution_count": 3,
   "metadata": {
    "executionInfo": {
     "elapsed": 408,
     "status": "ok",
     "timestamp": 1669013281145,
     "user": {
      "displayName": "KHIN KHANT KHANT HLAING",
      "userId": "10342000142729790877"
     },
     "user_tz": -390
    },
    "id": "DiXgVOxzYWjC"
   },
   "outputs": [],
   "source": [
    "def read_content_title():\n",
    "  import glob\n",
    "\n",
    "  path = r'/home/khinkhant2hlaing/text-generation-research/all' # folder\n",
    "  all_files = glob.glob(path + \"/*.csv\")\n",
    "\n",
    "  list_ = []\n",
    "\n",
    "  for filename in all_files:\n",
    "    try:\n",
    "      #print(filename)\n",
    "      df_t = pd.read_csv(filename, index_col=None, header=None, skiprows=1, encoding='utf-8')\n",
    "      list_.append(df_t)\n",
    "    except:\n",
    "      print(f\"reading error in{filename}\")\n",
    "\n",
    "\n",
    "\n",
    "  frame = pd.concat(list_, axis=0, ignore_index=True)\n",
    "  print(f\"length of data frame: {len(frame)}\")\n",
    "  return frame"
   ]
  },
  {
   "cell_type": "code",
   "execution_count": 4,
   "metadata": {
    "executionInfo": {
     "elapsed": 500,
     "status": "ok",
     "timestamp": 1669013296390,
     "user": {
      "displayName": "KHIN KHANT KHANT HLAING",
      "userId": "10342000142729790877"
     },
     "user_tz": -390
    },
    "id": "yUfT0J7_YAcC"
   },
   "outputs": [],
   "source": [
    "# Data load function\n",
    "def load_beauty_dataset(tokenizer, random_seed = 1):\n",
    "    # load dataset and sample.\n",
    "    #df = pd.read_csv(file_path, encoding='ISO-8859-1', header=None)\n",
    "    df = read_content_title()\n",
    "    df = df[[0, 1]]\n",
    "    df.columns = ['content', 'title']\n",
    "    #df = df.sample(20000, random_state=1)\n",
    "    \n",
    "    max_length = max([len(tokenizer.encode(description)) for description in df['content']])\n",
    "    print(\"Max length: {}\".format(max_length))\n",
    "\n",
    "    dataset = BeautyDataset(df['content'].tolist(), df['title'].tolist(), tokenizer, max_length=512)\n",
    "    dataset.__getitem__(5)\n",
    "\n",
    "    \n",
    "    train_size = int(0.9 * len(dataset))\n",
    "    train_dataset, val_dataset = random_split(dataset, [train_size, len(dataset) - train_size])\n",
    "    print(len(dataset))\n",
    "\n",
    "    # return\n",
    "    return train_dataset, val_dataset"
   ]
  },
  {
   "cell_type": "code",
   "execution_count": 5,
   "metadata": {
    "colab": {
     "base_uri": "https://localhost:8080/"
    },
    "executionInfo": {
     "elapsed": 8493,
     "status": "ok",
     "timestamp": 1669013308209,
     "user": {
      "displayName": "KHIN KHANT KHANT HLAING",
      "userId": "10342000142729790877"
     },
     "user_tz": -390
    },
    "id": "Ypo_dRLADD-t",
    "outputId": "8da99e71-bd0b-4889-ad3d-f565656295a1"
   },
   "outputs": [
    {
     "name": "stderr",
     "output_type": "stream",
     "text": [
      "Special tokens have been added in the vocabulary, make sure the associated word embeddings are fine-tuned or trained.\n"
     ]
    }
   ],
   "source": [
    "from transformers import T5Tokenizer, AutoModelForCausalLM, GPT2LMHeadModel\n",
    "  \n",
    "tokenizer = T5Tokenizer.from_pretrained(\"rinna/japanese-gpt2-medium\", bos_token='<s>', eos_token='</s>', pad_token='<pad>')\n",
    "\n",
    "\n",
    "model = AutoModelForCausalLM.from_pretrained(\"rinna/japanese-gpt2-medium\").cuda()"
   ]
  },
  {
   "cell_type": "code",
   "execution_count": 6,
   "metadata": {
    "colab": {
     "base_uri": "https://localhost:8080/"
    },
    "executionInfo": {
     "elapsed": 1771,
     "status": "ok",
     "timestamp": 1669013317030,
     "user": {
      "displayName": "KHIN KHANT KHANT HLAING",
      "userId": "10342000142729790877"
     },
     "user_tz": -390
    },
    "id": "T4veFbFBxz54",
    "outputId": "799d9792-cdd9-431b-b2fd-4373ed3aa93c"
   },
   "outputs": [
    {
     "data": {
      "text/plain": [
       "Embedding(32001, 1024)"
      ]
     },
     "execution_count": 6,
     "metadata": {},
     "output_type": "execute_result"
    }
   ],
   "source": [
    "model.resize_token_embeddings(len(tokenizer))"
   ]
  },
  {
   "cell_type": "code",
   "execution_count": 7,
   "metadata": {
    "colab": {
     "base_uri": "https://localhost:8080/"
    },
    "executionInfo": {
     "elapsed": 46129,
     "status": "ok",
     "timestamp": 1669013365818,
     "user": {
      "displayName": "KHIN KHANT KHANT HLAING",
      "userId": "10342000142729790877"
     },
     "user_tz": -390
    },
    "id": "vsCoyVnJV--E",
    "outputId": "f0ab8a40-acb8-4f85-f600-6c89d8eab1ba"
   },
   "outputs": [
    {
     "name": "stdout",
     "output_type": "stream",
     "text": [
      "Loading dataset...\n",
      "reading error in/home/khinkhant2hlaing/text-generation-research/all/beauty_796718.csv\n",
      "reading error in/home/khinkhant2hlaing/text-generation-research/all/beauty_427210.csv\n",
      "reading error in/home/khinkhant2hlaing/text-generation-research/all/beauty_959723.csv\n",
      "reading error in/home/khinkhant2hlaing/text-generation-research/all/beauty_410930.csv\n",
      "reading error in/home/khinkhant2hlaing/text-generation-research/all/beauty_899707.csv\n",
      "reading error in/home/khinkhant2hlaing/text-generation-research/all/beauty_927244.csv\n",
      "reading error in/home/khinkhant2hlaing/text-generation-research/all/beauty_667202.csv\n",
      "reading error in/home/khinkhant2hlaing/text-generation-research/all/beauty_687498.csv\n",
      "reading error in/home/khinkhant2hlaing/text-generation-research/all/beauty_761047.csv\n",
      "reading error in/home/khinkhant2hlaing/text-generation-research/all/beauty_464814.csv\n",
      "reading error in/home/khinkhant2hlaing/text-generation-research/all/beauty_308484.csv\n",
      "reading error in/home/khinkhant2hlaing/text-generation-research/all/beauty_642477.csv\n",
      "reading error in/home/khinkhant2hlaing/text-generation-research/all/beauty_594887.csv\n",
      "reading error in/home/khinkhant2hlaing/text-generation-research/all/beauty_530634.csv\n",
      "reading error in/home/khinkhant2hlaing/text-generation-research/all/beauty_901881.csv\n",
      "reading error in/home/khinkhant2hlaing/text-generation-research/all/beauty_420139.csv\n",
      "reading error in/home/khinkhant2hlaing/text-generation-research/all/beauty_511990.csv\n",
      "reading error in/home/khinkhant2hlaing/text-generation-research/all/beauty_805978.csv\n",
      "reading error in/home/khinkhant2hlaing/text-generation-research/all/beauty_781170.csv\n",
      "reading error in/home/khinkhant2hlaing/text-generation-research/all/beauty_790470.csv\n",
      "reading error in/home/khinkhant2hlaing/text-generation-research/all/beauty_895076.csv\n",
      "reading error in/home/khinkhant2hlaing/text-generation-research/all/beauty_982092.csv\n",
      "reading error in/home/khinkhant2hlaing/text-generation-research/all/beauty_387699.csv\n",
      "reading error in/home/khinkhant2hlaing/text-generation-research/all/beauty_994525.csv\n",
      "reading error in/home/khinkhant2hlaing/text-generation-research/all/beauty_965237.csv\n",
      "reading error in/home/khinkhant2hlaing/text-generation-research/all/beauty_557586.csv\n",
      "reading error in/home/khinkhant2hlaing/text-generation-research/all/beauty_514378.csv\n",
      "reading error in/home/khinkhant2hlaing/text-generation-research/all/beauty_644005.csv\n",
      "reading error in/home/khinkhant2hlaing/text-generation-research/all/beauty_923866.csv\n",
      "reading error in/home/khinkhant2hlaing/text-generation-research/all/beauty_488574.csv\n",
      "reading error in/home/khinkhant2hlaing/text-generation-research/all/beauty_742365.csv\n",
      "reading error in/home/khinkhant2hlaing/text-generation-research/all/beauty_958664.csv\n",
      "reading error in/home/khinkhant2hlaing/text-generation-research/all/beauty_548637.csv\n",
      "reading error in/home/khinkhant2hlaing/text-generation-research/all/beauty_420269.csv\n",
      "reading error in/home/khinkhant2hlaing/text-generation-research/all/beauty_935435.csv\n",
      "reading error in/home/khinkhant2hlaing/text-generation-research/all/beauty_630634.csv\n",
      "reading error in/home/khinkhant2hlaing/text-generation-research/all/beauty_532939.csv\n",
      "reading error in/home/khinkhant2hlaing/text-generation-research/all/beauty_714031.csv\n",
      "reading error in/home/khinkhant2hlaing/text-generation-research/all/beauty_499127.csv\n",
      "reading error in/home/khinkhant2hlaing/text-generation-research/all/beauty_559009.csv\n",
      "reading error in/home/khinkhant2hlaing/text-generation-research/all/beauty_468037.csv\n",
      "reading error in/home/khinkhant2hlaing/text-generation-research/all/beauty_778964.csv\n",
      "reading error in/home/khinkhant2hlaing/text-generation-research/all/beauty_662112.csv\n",
      "reading error in/home/khinkhant2hlaing/text-generation-research/all/beauty_884209.csv\n",
      "reading error in/home/khinkhant2hlaing/text-generation-research/all/beauty_996211.csv\n",
      "reading error in/home/khinkhant2hlaing/text-generation-research/all/beauty_431313.csv\n",
      "reading error in/home/khinkhant2hlaing/text-generation-research/all/beauty_607478.csv\n",
      "reading error in/home/khinkhant2hlaing/text-generation-research/all/beauty_738199.csv\n",
      "reading error in/home/khinkhant2hlaing/text-generation-research/all/beauty_454334.csv\n",
      "reading error in/home/khinkhant2hlaing/text-generation-research/all/beauty_827106.csv\n",
      "reading error in/home/khinkhant2hlaing/text-generation-research/all/beauty_589392.csv\n",
      "reading error in/home/khinkhant2hlaing/text-generation-research/all/beauty_607174.csv\n",
      "reading error in/home/khinkhant2hlaing/text-generation-research/all/beauty_847448.csv\n",
      "reading error in/home/khinkhant2hlaing/text-generation-research/all/beauty_863328.csv\n",
      "reading error in/home/khinkhant2hlaing/text-generation-research/all/beauty_806855.csv\n",
      "reading error in/home/khinkhant2hlaing/text-generation-research/all/beauty_641183.csv\n",
      "reading error in/home/khinkhant2hlaing/text-generation-research/all/beauty_523613.csv\n",
      "reading error in/home/khinkhant2hlaing/text-generation-research/all/beauty_735246.csv\n",
      "reading error in/home/khinkhant2hlaing/text-generation-research/all/beauty_505580.csv\n",
      "reading error in/home/khinkhant2hlaing/text-generation-research/all/beauty_475268.csv\n",
      "reading error in/home/khinkhant2hlaing/text-generation-research/all/beauty_442040.csv\n",
      "reading error in/home/khinkhant2hlaing/text-generation-research/all/beauty_684051.csv\n",
      "reading error in/home/khinkhant2hlaing/text-generation-research/all/beauty_512871.csv\n",
      "reading error in/home/khinkhant2hlaing/text-generation-research/all/beauty_641895.csv\n",
      "reading error in/home/khinkhant2hlaing/text-generation-research/all/beauty_735412.csv\n",
      "reading error in/home/khinkhant2hlaing/text-generation-research/all/beauty_564078.csv\n",
      "reading error in/home/khinkhant2hlaing/text-generation-research/all/beauty_861117.csv\n",
      "reading error in/home/khinkhant2hlaing/text-generation-research/all/beauty_605091.csv\n",
      "reading error in/home/khinkhant2hlaing/text-generation-research/all/beauty_730122.csv\n",
      "reading error in/home/khinkhant2hlaing/text-generation-research/all/beauty_771235.csv\n",
      "reading error in/home/khinkhant2hlaing/text-generation-research/all/beauty_493322.csv\n",
      "reading error in/home/khinkhant2hlaing/text-generation-research/all/beauty_556756.csv\n",
      "reading error in/home/khinkhant2hlaing/text-generation-research/all/beauty_601935.csv\n",
      "reading error in/home/khinkhant2hlaing/text-generation-research/all/beauty_225760.csv\n",
      "reading error in/home/khinkhant2hlaing/text-generation-research/all/beauty_152467.csv\n",
      "reading error in/home/khinkhant2hlaing/text-generation-research/all/beauty_780899.csv\n",
      "reading error in/home/khinkhant2hlaing/text-generation-research/all/beauty_654257.csv\n",
      "reading error in/home/khinkhant2hlaing/text-generation-research/all/beauty_779154.csv\n",
      "reading error in/home/khinkhant2hlaing/text-generation-research/all/beauty_591882.csv\n",
      "reading error in/home/khinkhant2hlaing/text-generation-research/all/beauty_926755.csv\n",
      "reading error in/home/khinkhant2hlaing/text-generation-research/all/beauty_745114.csv\n",
      "reading error in/home/khinkhant2hlaing/text-generation-research/all/beauty_726531.csv\n",
      "reading error in/home/khinkhant2hlaing/text-generation-research/all/beauty_415177.csv\n",
      "reading error in/home/khinkhant2hlaing/text-generation-research/all/beauty_684960.csv\n",
      "reading error in/home/khinkhant2hlaing/text-generation-research/all/beauty_431604.csv\n",
      "reading error in/home/khinkhant2hlaing/text-generation-research/all/beauty_415746.csv\n",
      "reading error in/home/khinkhant2hlaing/text-generation-research/all/beauty_275924.csv\n",
      "reading error in/home/khinkhant2hlaing/text-generation-research/all/beauty_413393.csv\n",
      "reading error in/home/khinkhant2hlaing/text-generation-research/all/beauty_606184.csv\n",
      "reading error in/home/khinkhant2hlaing/text-generation-research/all/beauty_860474.csv\n",
      "reading error in/home/khinkhant2hlaing/text-generation-research/all/beauty_987190.csv\n",
      "reading error in/home/khinkhant2hlaing/text-generation-research/all/beauty_873329.csv\n",
      "reading error in/home/khinkhant2hlaing/text-generation-research/all/beauty_490820.csv\n",
      "reading error in/home/khinkhant2hlaing/text-generation-research/all/beauty_648161.csv\n",
      "reading error in/home/khinkhant2hlaing/text-generation-research/all/beauty_674425.csv\n",
      "reading error in/home/khinkhant2hlaing/text-generation-research/all/beauty_810498.csv\n",
      "reading error in/home/khinkhant2hlaing/text-generation-research/all/beauty_412047.csv\n",
      "reading error in/home/khinkhant2hlaing/text-generation-research/all/beauty_492622.csv\n",
      "reading error in/home/khinkhant2hlaing/text-generation-research/all/beauty_869554.csv\n",
      "reading error in/home/khinkhant2hlaing/text-generation-research/all/beauty_523588.csv\n",
      "reading error in/home/khinkhant2hlaing/text-generation-research/all/beauty_444940.csv\n",
      "reading error in/home/khinkhant2hlaing/text-generation-research/all/beauty_461512.csv\n",
      "reading error in/home/khinkhant2hlaing/text-generation-research/all/beauty_462342.csv\n",
      "reading error in/home/khinkhant2hlaing/text-generation-research/all/beauty_829853.csv\n",
      "reading error in/home/khinkhant2hlaing/text-generation-research/all/beauty_660506.csv\n",
      "reading error in/home/khinkhant2hlaing/text-generation-research/all/beauty_773540.csv\n",
      "reading error in/home/khinkhant2hlaing/text-generation-research/all/beauty_855647.csv\n",
      "reading error in/home/khinkhant2hlaing/text-generation-research/all/beauty_685066.csv\n",
      "reading error in/home/khinkhant2hlaing/text-generation-research/all/beauty_778811.csv\n",
      "reading error in/home/khinkhant2hlaing/text-generation-research/all/beauty_608148.csv\n",
      "reading error in/home/khinkhant2hlaing/text-generation-research/all/beauty_451525.csv\n",
      "reading error in/home/khinkhant2hlaing/text-generation-research/all/beauty_735801.csv\n",
      "reading error in/home/khinkhant2hlaing/text-generation-research/all/beauty_723492.csv\n"
     ]
    },
    {
     "name": "stdout",
     "output_type": "stream",
     "text": [
      "reading error in/home/khinkhant2hlaing/text-generation-research/all/beauty_833496.csv\n",
      "reading error in/home/khinkhant2hlaing/text-generation-research/all/beauty_580047.csv\n",
      "reading error in/home/khinkhant2hlaing/text-generation-research/all/beauty_962220.csv\n",
      "reading error in/home/khinkhant2hlaing/text-generation-research/all/beauty_484913.csv\n",
      "reading error in/home/khinkhant2hlaing/text-generation-research/all/beauty_759824.csv\n",
      "reading error in/home/khinkhant2hlaing/text-generation-research/all/beauty_657314.csv\n",
      "reading error in/home/khinkhant2hlaing/text-generation-research/all/beauty_776394.csv\n",
      "reading error in/home/khinkhant2hlaing/text-generation-research/all/beauty_912263.csv\n",
      "reading error in/home/khinkhant2hlaing/text-generation-research/all/beauty_857602.csv\n",
      "reading error in/home/khinkhant2hlaing/text-generation-research/all/beauty_541467.csv\n",
      "reading error in/home/khinkhant2hlaing/text-generation-research/all/beauty_450957.csv\n",
      "reading error in/home/khinkhant2hlaing/text-generation-research/all/beauty_442761.csv\n",
      "reading error in/home/khinkhant2hlaing/text-generation-research/all/beauty_309495.csv\n",
      "reading error in/home/khinkhant2hlaing/text-generation-research/all/beauty_644965.csv\n",
      "reading error in/home/khinkhant2hlaing/text-generation-research/all/beauty_542275.csv\n",
      "reading error in/home/khinkhant2hlaing/text-generation-research/all/beauty_941030.csv\n",
      "reading error in/home/khinkhant2hlaing/text-generation-research/all/beauty_947137.csv\n",
      "reading error in/home/khinkhant2hlaing/text-generation-research/all/beauty_990012.csv\n",
      "reading error in/home/khinkhant2hlaing/text-generation-research/all/beauty_838409.csv\n",
      "reading error in/home/khinkhant2hlaing/text-generation-research/all/beauty_804681.csv\n",
      "reading error in/home/khinkhant2hlaing/text-generation-research/all/beauty_564800.csv\n",
      "reading error in/home/khinkhant2hlaing/text-generation-research/all/beauty_466093.csv\n",
      "reading error in/home/khinkhant2hlaing/text-generation-research/all/beauty_669074.csv\n",
      "reading error in/home/khinkhant2hlaing/text-generation-research/all/beauty_446248.csv\n",
      "reading error in/home/khinkhant2hlaing/text-generation-research/all/beauty_455838.csv\n",
      "reading error in/home/khinkhant2hlaing/text-generation-research/all/beauty_970113.csv\n",
      "reading error in/home/khinkhant2hlaing/text-generation-research/all/beauty_779632.csv\n",
      "reading error in/home/khinkhant2hlaing/text-generation-research/all/beauty_508860.csv\n",
      "reading error in/home/khinkhant2hlaing/text-generation-research/all/beauty_906946.csv\n",
      "reading error in/home/khinkhant2hlaing/text-generation-research/all/beauty_853225.csv\n",
      "reading error in/home/khinkhant2hlaing/text-generation-research/all/beauty_513726.csv\n",
      "reading error in/home/khinkhant2hlaing/text-generation-research/all/beauty_693263.csv\n",
      "reading error in/home/khinkhant2hlaing/text-generation-research/all/beauty_740750.csv\n",
      "reading error in/home/khinkhant2hlaing/text-generation-research/all/beauty_531022.csv\n",
      "reading error in/home/khinkhant2hlaing/text-generation-research/all/beauty_499713.csv\n",
      "reading error in/home/khinkhant2hlaing/text-generation-research/all/beauty_592512.csv\n",
      "reading error in/home/khinkhant2hlaing/text-generation-research/all/beauty_948326.csv\n",
      "reading error in/home/khinkhant2hlaing/text-generation-research/all/beauty_937438.csv\n",
      "reading error in/home/khinkhant2hlaing/text-generation-research/all/beauty_820232.csv\n",
      "reading error in/home/khinkhant2hlaing/text-generation-research/all/beauty_551268.csv\n",
      "reading error in/home/khinkhant2hlaing/text-generation-research/all/beauty_695976.csv\n",
      "reading error in/home/khinkhant2hlaing/text-generation-research/all/beauty_615497.csv\n",
      "reading error in/home/khinkhant2hlaing/text-generation-research/all/beauty_918435.csv\n",
      "reading error in/home/khinkhant2hlaing/text-generation-research/all/beauty_727131.csv\n",
      "reading error in/home/khinkhant2hlaing/text-generation-research/all/beauty_766218.csv\n",
      "reading error in/home/khinkhant2hlaing/text-generation-research/all/beauty_852585.csv\n",
      "reading error in/home/khinkhant2hlaing/text-generation-research/all/beauty_584894.csv\n",
      "reading error in/home/khinkhant2hlaing/text-generation-research/all/beauty_929685.csv\n",
      "reading error in/home/khinkhant2hlaing/text-generation-research/all/beauty_531370.csv\n",
      "reading error in/home/khinkhant2hlaing/text-generation-research/all/beauty_778694.csv\n",
      "reading error in/home/khinkhant2hlaing/text-generation-research/all/beauty_735475.csv\n",
      "reading error in/home/khinkhant2hlaing/text-generation-research/all/beauty_511568.csv\n",
      "reading error in/home/khinkhant2hlaing/text-generation-research/all/beauty_557780.csv\n",
      "reading error in/home/khinkhant2hlaing/text-generation-research/all/beauty_601453.csv\n",
      "reading error in/home/khinkhant2hlaing/text-generation-research/all/beauty_679932.csv\n",
      "reading error in/home/khinkhant2hlaing/text-generation-research/all/beauty_518621.csv\n",
      "reading error in/home/khinkhant2hlaing/text-generation-research/all/beauty_876569.csv\n",
      "reading error in/home/khinkhant2hlaing/text-generation-research/all/beauty_510331.csv\n",
      "reading error in/home/khinkhant2hlaing/text-generation-research/all/beauty_988224.csv\n",
      "reading error in/home/khinkhant2hlaing/text-generation-research/all/beauty_532755.csv\n",
      "reading error in/home/khinkhant2hlaing/text-generation-research/all/beauty_515389.csv\n",
      "reading error in/home/khinkhant2hlaing/text-generation-research/all/beauty_875082.csv\n",
      "reading error in/home/khinkhant2hlaing/text-generation-research/all/beauty_740006.csv\n",
      "reading error in/home/khinkhant2hlaing/text-generation-research/all/beauty_730628.csv\n",
      "reading error in/home/khinkhant2hlaing/text-generation-research/all/beauty_921106.csv\n",
      "reading error in/home/khinkhant2hlaing/text-generation-research/all/beauty_895475.csv\n",
      "reading error in/home/khinkhant2hlaing/text-generation-research/all/beauty_886132.csv\n",
      "reading error in/home/khinkhant2hlaing/text-generation-research/all/beauty_536252.csv\n",
      "reading error in/home/khinkhant2hlaing/text-generation-research/all/beauty_549730.csv\n",
      "reading error in/home/khinkhant2hlaing/text-generation-research/all/beauty_491710.csv\n",
      "reading error in/home/khinkhant2hlaing/text-generation-research/all/beauty_745713.csv\n",
      "reading error in/home/khinkhant2hlaing/text-generation-research/all/beauty_543839.csv\n",
      "reading error in/home/khinkhant2hlaing/text-generation-research/all/beauty_804534.csv\n",
      "reading error in/home/khinkhant2hlaing/text-generation-research/all/beauty_441897.csv\n",
      "reading error in/home/khinkhant2hlaing/text-generation-research/all/beauty_958399.csv\n",
      "reading error in/home/khinkhant2hlaing/text-generation-research/all/beauty_421405.csv\n",
      "reading error in/home/khinkhant2hlaing/text-generation-research/all/beauty_875375.csv\n",
      "reading error in/home/khinkhant2hlaing/text-generation-research/all/beauty_496290.csv\n",
      "reading error in/home/khinkhant2hlaing/text-generation-research/all/beauty_423145.csv\n",
      "reading error in/home/khinkhant2hlaing/text-generation-research/all/beauty_938797.csv\n",
      "reading error in/home/khinkhant2hlaing/text-generation-research/all/beauty_653723.csv\n",
      "reading error in/home/khinkhant2hlaing/text-generation-research/all/beauty_916501.csv\n",
      "reading error in/home/khinkhant2hlaing/text-generation-research/all/beauty_477392.csv\n",
      "reading error in/home/khinkhant2hlaing/text-generation-research/all/beauty_947569.csv\n",
      "reading error in/home/khinkhant2hlaing/text-generation-research/all/beauty_831453.csv\n",
      "reading error in/home/khinkhant2hlaing/text-generation-research/all/beauty_835044.csv\n",
      "reading error in/home/khinkhant2hlaing/text-generation-research/all/beauty_909931.csv\n",
      "reading error in/home/khinkhant2hlaing/text-generation-research/all/beauty_976671.csv\n",
      "reading error in/home/khinkhant2hlaing/text-generation-research/all/beauty_874495.csv\n",
      "reading error in/home/khinkhant2hlaing/text-generation-research/all/beauty_915098.csv\n",
      "reading error in/home/khinkhant2hlaing/text-generation-research/all/beauty_737907.csv\n",
      "reading error in/home/khinkhant2hlaing/text-generation-research/all/beauty_846990.csv\n",
      "reading error in/home/khinkhant2hlaing/text-generation-research/all/beauty_509634.csv\n",
      "reading error in/home/khinkhant2hlaing/text-generation-research/all/beauty_971833.csv\n",
      "reading error in/home/khinkhant2hlaing/text-generation-research/all/beauty_527698.csv\n",
      "reading error in/home/khinkhant2hlaing/text-generation-research/all/beauty_783953.csv\n",
      "reading error in/home/khinkhant2hlaing/text-generation-research/all/beauty_084130.csv\n",
      "reading error in/home/khinkhant2hlaing/text-generation-research/all/beauty_638314.csv\n",
      "reading error in/home/khinkhant2hlaing/text-generation-research/all/beauty_959645.csv\n",
      "reading error in/home/khinkhant2hlaing/text-generation-research/all/beauty_485962.csv\n",
      "reading error in/home/khinkhant2hlaing/text-generation-research/all/beauty_892661.csv\n",
      "reading error in/home/khinkhant2hlaing/text-generation-research/all/beauty_504636.csv\n",
      "reading error in/home/khinkhant2hlaing/text-generation-research/all/beauty_811997.csv\n"
     ]
    },
    {
     "name": "stdout",
     "output_type": "stream",
     "text": [
      "reading error in/home/khinkhant2hlaing/text-generation-research/all/beauty_997207.csv\n",
      "reading error in/home/khinkhant2hlaing/text-generation-research/all/beauty_426099.csv\n",
      "reading error in/home/khinkhant2hlaing/text-generation-research/all/beauty_885282.csv\n",
      "reading error in/home/khinkhant2hlaing/text-generation-research/all/beauty_742658.csv\n",
      "reading error in/home/khinkhant2hlaing/text-generation-research/all/beauty_654533.csv\n",
      "reading error in/home/khinkhant2hlaing/text-generation-research/all/beauty_489494.csv\n",
      "reading error in/home/khinkhant2hlaing/text-generation-research/all/beauty_866750.csv\n",
      "reading error in/home/khinkhant2hlaing/text-generation-research/all/beauty_472777.csv\n",
      "reading error in/home/khinkhant2hlaing/text-generation-research/all/beauty_516918.csv\n",
      "reading error in/home/khinkhant2hlaing/text-generation-research/all/beauty_866299.csv\n",
      "reading error in/home/khinkhant2hlaing/text-generation-research/all/beauty_897646.csv\n",
      "reading error in/home/khinkhant2hlaing/text-generation-research/all/beauty_659033.csv\n",
      "reading error in/home/khinkhant2hlaing/text-generation-research/all/beauty_602246.csv\n",
      "reading error in/home/khinkhant2hlaing/text-generation-research/all/beauty_888724.csv\n",
      "reading error in/home/khinkhant2hlaing/text-generation-research/all/beauty_582911.csv\n",
      "reading error in/home/khinkhant2hlaing/text-generation-research/all/beauty_449118.csv\n",
      "reading error in/home/khinkhant2hlaing/text-generation-research/all/beauty_488569.csv\n",
      "reading error in/home/khinkhant2hlaing/text-generation-research/all/beauty_645071.csv\n",
      "reading error in/home/khinkhant2hlaing/text-generation-research/all/beauty_665064.csv\n",
      "reading error in/home/khinkhant2hlaing/text-generation-research/all/beauty_943521.csv\n",
      "reading error in/home/khinkhant2hlaing/text-generation-research/all/beauty_628404.csv\n",
      "reading error in/home/khinkhant2hlaing/text-generation-research/all/beauty_565287.csv\n",
      "reading error in/home/khinkhant2hlaing/text-generation-research/all/beauty_860607.csv\n",
      "reading error in/home/khinkhant2hlaing/text-generation-research/all/beauty_704258.csv\n",
      "reading error in/home/khinkhant2hlaing/text-generation-research/all/beauty_699062.csv\n",
      "reading error in/home/khinkhant2hlaing/text-generation-research/all/beauty_549087.csv\n",
      "reading error in/home/khinkhant2hlaing/text-generation-research/all/beauty_517214.csv\n",
      "reading error in/home/khinkhant2hlaing/text-generation-research/all/beauty_853435.csv\n",
      "reading error in/home/khinkhant2hlaing/text-generation-research/all/beauty_709051.csv\n",
      "reading error in/home/khinkhant2hlaing/text-generation-research/all/beauty_977275.csv\n",
      "reading error in/home/khinkhant2hlaing/text-generation-research/all/beauty_883612.csv\n",
      "reading error in/home/khinkhant2hlaing/text-generation-research/all/beauty_977560.csv\n",
      "reading error in/home/khinkhant2hlaing/text-generation-research/all/beauty_789064.csv\n",
      "reading error in/home/khinkhant2hlaing/text-generation-research/all/beauty_636773.csv\n",
      "reading error in/home/khinkhant2hlaing/text-generation-research/all/beauty_988639.csv\n",
      "reading error in/home/khinkhant2hlaing/text-generation-research/all/beauty_598555.csv\n",
      "reading error in/home/khinkhant2hlaing/text-generation-research/all/beauty_841558.csv\n",
      "reading error in/home/khinkhant2hlaing/text-generation-research/all/beauty_768433.csv\n",
      "reading error in/home/khinkhant2hlaing/text-generation-research/all/beauty_522015.csv\n",
      "reading error in/home/khinkhant2hlaing/text-generation-research/all/beauty_672107.csv\n",
      "reading error in/home/khinkhant2hlaing/text-generation-research/all/beauty_440584.csv\n",
      "reading error in/home/khinkhant2hlaing/text-generation-research/all/beauty_492060.csv\n",
      "reading error in/home/khinkhant2hlaing/text-generation-research/all/beauty_859680.csv\n",
      "reading error in/home/khinkhant2hlaing/text-generation-research/all/beauty_630123.csv\n",
      "reading error in/home/khinkhant2hlaing/text-generation-research/all/beauty_563603.csv\n",
      "reading error in/home/khinkhant2hlaing/text-generation-research/all/beauty_609733.csv\n",
      "reading error in/home/khinkhant2hlaing/text-generation-research/all/beauty_504042.csv\n",
      "reading error in/home/khinkhant2hlaing/text-generation-research/all/beauty_548137.csv\n",
      "reading error in/home/khinkhant2hlaing/text-generation-research/all/beauty_962354.csv\n",
      "reading error in/home/khinkhant2hlaing/text-generation-research/all/beauty_706262.csv\n",
      "reading error in/home/khinkhant2hlaing/text-generation-research/all/beauty_948818.csv\n",
      "reading error in/home/khinkhant2hlaing/text-generation-research/all/beauty_944755.csv\n",
      "reading error in/home/khinkhant2hlaing/text-generation-research/all/beauty_945640.csv\n",
      "reading error in/home/khinkhant2hlaing/text-generation-research/all/beauty_990820.csv\n",
      "reading error in/home/khinkhant2hlaing/text-generation-research/all/beauty_955713.csv\n",
      "reading error in/home/khinkhant2hlaing/text-generation-research/all/beauty_748814.csv\n",
      "reading error in/home/khinkhant2hlaing/text-generation-research/all/beauty_655856.csv\n",
      "reading error in/home/khinkhant2hlaing/text-generation-research/all/beauty_855799.csv\n",
      "reading error in/home/khinkhant2hlaing/text-generation-research/all/beauty_828671.csv\n",
      "reading error in/home/khinkhant2hlaing/text-generation-research/all/beauty_367175.csv\n",
      "reading error in/home/khinkhant2hlaing/text-generation-research/all/beauty_810039.csv\n",
      "reading error in/home/khinkhant2hlaing/text-generation-research/all/beauty_711975.csv\n",
      "reading error in/home/khinkhant2hlaing/text-generation-research/all/beauty_207670.csv\n",
      "reading error in/home/khinkhant2hlaing/text-generation-research/all/beauty_434544.csv\n",
      "reading error in/home/khinkhant2hlaing/text-generation-research/all/beauty_879335.csv\n",
      "reading error in/home/khinkhant2hlaing/text-generation-research/all/beauty_289909.csv\n",
      "reading error in/home/khinkhant2hlaing/text-generation-research/all/beauty_863778.csv\n",
      "reading error in/home/khinkhant2hlaing/text-generation-research/all/beauty_953049.csv\n",
      "reading error in/home/khinkhant2hlaing/text-generation-research/all/beauty_436393.csv\n",
      "reading error in/home/khinkhant2hlaing/text-generation-research/all/beauty_545471.csv\n",
      "reading error in/home/khinkhant2hlaing/text-generation-research/all/beauty_854254.csv\n",
      "reading error in/home/khinkhant2hlaing/text-generation-research/all/beauty_628038.csv\n",
      "reading error in/home/khinkhant2hlaing/text-generation-research/all/beauty_657232.csv\n",
      "reading error in/home/khinkhant2hlaing/text-generation-research/all/beauty_711638.csv\n",
      "reading error in/home/khinkhant2hlaing/text-generation-research/all/beauty_783861.csv\n",
      "reading error in/home/khinkhant2hlaing/text-generation-research/all/beauty_745367.csv\n",
      "reading error in/home/khinkhant2hlaing/text-generation-research/all/beauty_597257.csv\n",
      "reading error in/home/khinkhant2hlaing/text-generation-research/all/beauty_851124.csv\n",
      "reading error in/home/khinkhant2hlaing/text-generation-research/all/beauty_473927.csv\n",
      "reading error in/home/khinkhant2hlaing/text-generation-research/all/beauty_436634.csv\n",
      "reading error in/home/khinkhant2hlaing/text-generation-research/all/beauty_863001.csv\n",
      "reading error in/home/khinkhant2hlaing/text-generation-research/all/beauty_870678.csv\n",
      "reading error in/home/khinkhant2hlaing/text-generation-research/all/beauty_984165.csv\n",
      "reading error in/home/khinkhant2hlaing/text-generation-research/all/beauty_991280.csv\n",
      "reading error in/home/khinkhant2hlaing/text-generation-research/all/beauty_423789.csv\n",
      "reading error in/home/khinkhant2hlaing/text-generation-research/all/beauty_986754.csv\n",
      "reading error in/home/khinkhant2hlaing/text-generation-research/all/beauty_723753.csv\n",
      "reading error in/home/khinkhant2hlaing/text-generation-research/all/beauty_972733.csv\n",
      "reading error in/home/khinkhant2hlaing/text-generation-research/all/beauty_426296.csv\n",
      "reading error in/home/khinkhant2hlaing/text-generation-research/all/beauty_970695.csv\n",
      "reading error in/home/khinkhant2hlaing/text-generation-research/all/beauty_663880.csv\n",
      "reading error in/home/khinkhant2hlaing/text-generation-research/all/beauty_650311.csv\n",
      "reading error in/home/khinkhant2hlaing/text-generation-research/all/beauty_887422.csv\n",
      "reading error in/home/khinkhant2hlaing/text-generation-research/all/beauty_650365.csv\n",
      "reading error in/home/khinkhant2hlaing/text-generation-research/all/beauty_766454.csv\n",
      "reading error in/home/khinkhant2hlaing/text-generation-research/all/beauty_566080.csv\n",
      "reading error in/home/khinkhant2hlaing/text-generation-research/all/beauty_631197.csv\n",
      "reading error in/home/khinkhant2hlaing/text-generation-research/all/beauty_430404.csv\n",
      "reading error in/home/khinkhant2hlaing/text-generation-research/all/beauty_504880.csv\n",
      "reading error in/home/khinkhant2hlaing/text-generation-research/all/beauty_927863.csv\n",
      "reading error in/home/khinkhant2hlaing/text-generation-research/all/beauty_875494.csv\n",
      "reading error in/home/khinkhant2hlaing/text-generation-research/all/beauty_684990.csv\n",
      "reading error in/home/khinkhant2hlaing/text-generation-research/all/beauty_711011.csv\n",
      "reading error in/home/khinkhant2hlaing/text-generation-research/all/beauty_661482.csv\n",
      "reading error in/home/khinkhant2hlaing/text-generation-research/all/beauty_704916.csv\n",
      "reading error in/home/khinkhant2hlaing/text-generation-research/all/beauty_838887.csv\n",
      "reading error in/home/khinkhant2hlaing/text-generation-research/all/beauty_676631.csv\n",
      "reading error in/home/khinkhant2hlaing/text-generation-research/all/beauty_504323.csv\n"
     ]
    },
    {
     "name": "stdout",
     "output_type": "stream",
     "text": [
      "reading error in/home/khinkhant2hlaing/text-generation-research/all/beauty_698902.csv\n",
      "reading error in/home/khinkhant2hlaing/text-generation-research/all/beauty_558784.csv\n",
      "reading error in/home/khinkhant2hlaing/text-generation-research/all/beauty_820667.csv\n",
      "reading error in/home/khinkhant2hlaing/text-generation-research/all/beauty_828239.csv\n",
      "reading error in/home/khinkhant2hlaing/text-generation-research/all/beauty_572339.csv\n",
      "reading error in/home/khinkhant2hlaing/text-generation-research/all/beauty_947894.csv\n",
      "reading error in/home/khinkhant2hlaing/text-generation-research/all/beauty_523099.csv\n",
      "reading error in/home/khinkhant2hlaing/text-generation-research/all/beauty_550979.csv\n",
      "reading error in/home/khinkhant2hlaing/text-generation-research/all/beauty_891784.csv\n",
      "reading error in/home/khinkhant2hlaing/text-generation-research/all/beauty_978668.csv\n",
      "reading error in/home/khinkhant2hlaing/text-generation-research/all/beauty_477400.csv\n",
      "reading error in/home/khinkhant2hlaing/text-generation-research/all/beauty_986764.csv\n",
      "reading error in/home/khinkhant2hlaing/text-generation-research/all/beauty_931295.csv\n",
      "reading error in/home/khinkhant2hlaing/text-generation-research/all/beauty_692476.csv\n",
      "reading error in/home/khinkhant2hlaing/text-generation-research/all/beauty_523490.csv\n",
      "reading error in/home/khinkhant2hlaing/text-generation-research/all/beauty_478740.csv\n",
      "reading error in/home/khinkhant2hlaing/text-generation-research/all/beauty_022481.csv\n",
      "reading error in/home/khinkhant2hlaing/text-generation-research/all/beauty_586435.csv\n",
      "reading error in/home/khinkhant2hlaing/text-generation-research/all/beauty_951976.csv\n",
      "reading error in/home/khinkhant2hlaing/text-generation-research/all/beauty_462095.csv\n",
      "reading error in/home/khinkhant2hlaing/text-generation-research/all/beauty_471948.csv\n",
      "reading error in/home/khinkhant2hlaing/text-generation-research/all/beauty_485270.csv\n",
      "reading error in/home/khinkhant2hlaing/text-generation-research/all/beauty_864671.csv\n",
      "reading error in/home/khinkhant2hlaing/text-generation-research/all/beauty_891566.csv\n",
      "reading error in/home/khinkhant2hlaing/text-generation-research/all/beauty_655096.csv\n",
      "reading error in/home/khinkhant2hlaing/text-generation-research/all/beauty_917679.csv\n",
      "reading error in/home/khinkhant2hlaing/text-generation-research/all/beauty_566882.csv\n",
      "reading error in/home/khinkhant2hlaing/text-generation-research/all/beauty_989591.csv\n",
      "reading error in/home/khinkhant2hlaing/text-generation-research/all/beauty_537040.csv\n",
      "reading error in/home/khinkhant2hlaing/text-generation-research/all/beauty_558963.csv\n",
      "reading error in/home/khinkhant2hlaing/text-generation-research/all/beauty_606357.csv\n",
      "reading error in/home/khinkhant2hlaing/text-generation-research/all/beauty_550704.csv\n",
      "reading error in/home/khinkhant2hlaing/text-generation-research/all/beauty_783535.csv\n",
      "reading error in/home/khinkhant2hlaing/text-generation-research/all/beauty_416592.csv\n",
      "reading error in/home/khinkhant2hlaing/text-generation-research/all/beauty_830257.csv\n",
      "reading error in/home/khinkhant2hlaing/text-generation-research/all/beauty_668823.csv\n",
      "reading error in/home/khinkhant2hlaing/text-generation-research/all/beauty_572614.csv\n",
      "reading error in/home/khinkhant2hlaing/text-generation-research/all/beauty_544785.csv\n",
      "reading error in/home/khinkhant2hlaing/text-generation-research/all/beauty_533999.csv\n",
      "reading error in/home/khinkhant2hlaing/text-generation-research/all/beauty_720435.csv\n",
      "reading error in/home/khinkhant2hlaing/text-generation-research/all/beauty_894319.csv\n",
      "reading error in/home/khinkhant2hlaing/text-generation-research/all/beauty_718402.csv\n",
      "reading error in/home/khinkhant2hlaing/text-generation-research/all/beauty_506600.csv\n",
      "reading error in/home/khinkhant2hlaing/text-generation-research/all/beauty_733449.csv\n",
      "reading error in/home/khinkhant2hlaing/text-generation-research/all/beauty_564981.csv\n",
      "reading error in/home/khinkhant2hlaing/text-generation-research/all/beauty_548097.csv\n",
      "reading error in/home/khinkhant2hlaing/text-generation-research/all/beauty_943370.csv\n",
      "reading error in/home/khinkhant2hlaing/text-generation-research/all/beauty_601170.csv\n",
      "reading error in/home/khinkhant2hlaing/text-generation-research/all/beauty_945284.csv\n",
      "reading error in/home/khinkhant2hlaing/text-generation-research/all/beauty_700544.csv\n",
      "reading error in/home/khinkhant2hlaing/text-generation-research/all/beauty_437656.csv\n",
      "reading error in/home/khinkhant2hlaing/text-generation-research/all/beauty_665417.csv\n",
      "reading error in/home/khinkhant2hlaing/text-generation-research/all/beauty_962749.csv\n",
      "reading error in/home/khinkhant2hlaing/text-generation-research/all/beauty_848555.csv\n",
      "reading error in/home/khinkhant2hlaing/text-generation-research/all/beauty_566120.csv\n",
      "reading error in/home/khinkhant2hlaing/text-generation-research/all/beauty_433631.csv\n",
      "reading error in/home/khinkhant2hlaing/text-generation-research/all/beauty_807504.csv\n",
      "reading error in/home/khinkhant2hlaing/text-generation-research/all/beauty_604327.csv\n",
      "reading error in/home/khinkhant2hlaing/text-generation-research/all/beauty_425431.csv\n",
      "reading error in/home/khinkhant2hlaing/text-generation-research/all/beauty_700448.csv\n",
      "reading error in/home/khinkhant2hlaing/text-generation-research/all/beauty_628059.csv\n",
      "reading error in/home/khinkhant2hlaing/text-generation-research/all/beauty_746807.csv\n",
      "reading error in/home/khinkhant2hlaing/text-generation-research/all/beauty_415140.csv\n",
      "reading error in/home/khinkhant2hlaing/text-generation-research/all/beauty_832871.csv\n",
      "reading error in/home/khinkhant2hlaing/text-generation-research/all/beauty_922942.csv\n",
      "reading error in/home/khinkhant2hlaing/text-generation-research/all/beauty_985851.csv\n",
      "reading error in/home/khinkhant2hlaing/text-generation-research/all/beauty_747274.csv\n",
      "reading error in/home/khinkhant2hlaing/text-generation-research/all/beauty_836206.csv\n",
      "reading error in/home/khinkhant2hlaing/text-generation-research/all/beauty_711390.csv\n",
      "reading error in/home/khinkhant2hlaing/text-generation-research/all/beauty_971075.csv\n",
      "reading error in/home/khinkhant2hlaing/text-generation-research/all/beauty_570869.csv\n",
      "reading error in/home/khinkhant2hlaing/text-generation-research/all/beauty_611969.csv\n",
      "reading error in/home/khinkhant2hlaing/text-generation-research/all/beauty_733460.csv\n",
      "reading error in/home/khinkhant2hlaing/text-generation-research/all/beauty_480912.csv\n",
      "reading error in/home/khinkhant2hlaing/text-generation-research/all/beauty_925802.csv\n",
      "reading error in/home/khinkhant2hlaing/text-generation-research/all/beauty_975009.csv\n",
      "reading error in/home/khinkhant2hlaing/text-generation-research/all/beauty_735038.csv\n",
      "reading error in/home/khinkhant2hlaing/text-generation-research/all/beauty_489830.csv\n",
      "reading error in/home/khinkhant2hlaing/text-generation-research/all/beauty_672264.csv\n",
      "reading error in/home/khinkhant2hlaing/text-generation-research/all/beauty_820989.csv\n",
      "reading error in/home/khinkhant2hlaing/text-generation-research/all/beauty_701271.csv\n",
      "reading error in/home/khinkhant2hlaing/text-generation-research/all/beauty_693538.csv\n",
      "reading error in/home/khinkhant2hlaing/text-generation-research/all/beauty_856853.csv\n",
      "reading error in/home/khinkhant2hlaing/text-generation-research/all/beauty_795017.csv\n",
      "reading error in/home/khinkhant2hlaing/text-generation-research/all/beauty_788665.csv\n",
      "reading error in/home/khinkhant2hlaing/text-generation-research/all/beauty_670461.csv\n",
      "reading error in/home/khinkhant2hlaing/text-generation-research/all/beauty_891439.csv\n",
      "reading error in/home/khinkhant2hlaing/text-generation-research/all/beauty_441922.csv\n",
      "reading error in/home/khinkhant2hlaing/text-generation-research/all/beauty_995642.csv\n",
      "reading error in/home/khinkhant2hlaing/text-generation-research/all/beauty_946259.csv\n",
      "reading error in/home/khinkhant2hlaing/text-generation-research/all/beauty_072981.csv\n",
      "reading error in/home/khinkhant2hlaing/text-generation-research/all/beauty_671302.csv\n",
      "reading error in/home/khinkhant2hlaing/text-generation-research/all/beauty_768901.csv\n",
      "reading error in/home/khinkhant2hlaing/text-generation-research/all/beauty_902306.csv\n",
      "reading error in/home/khinkhant2hlaing/text-generation-research/all/beauty_594485.csv\n",
      "reading error in/home/khinkhant2hlaing/text-generation-research/all/beauty_827832.csv\n",
      "reading error in/home/khinkhant2hlaing/text-generation-research/all/beauty_810296.csv\n",
      "reading error in/home/khinkhant2hlaing/text-generation-research/all/beauty_803291.csv\n",
      "reading error in/home/khinkhant2hlaing/text-generation-research/all/beauty_685595.csv\n",
      "reading error in/home/khinkhant2hlaing/text-generation-research/all/beauty_466105.csv\n",
      "reading error in/home/khinkhant2hlaing/text-generation-research/all/beauty_453131.csv\n",
      "reading error in/home/khinkhant2hlaing/text-generation-research/all/beauty_853380.csv\n"
     ]
    },
    {
     "name": "stdout",
     "output_type": "stream",
     "text": [
      "reading error in/home/khinkhant2hlaing/text-generation-research/all/beauty_814048.csv\n",
      "reading error in/home/khinkhant2hlaing/text-generation-research/all/beauty_740942.csv\n",
      "reading error in/home/khinkhant2hlaing/text-generation-research/all/beauty_432373.csv\n",
      "reading error in/home/khinkhant2hlaing/text-generation-research/all/beauty_871044.csv\n",
      "reading error in/home/khinkhant2hlaing/text-generation-research/all/beauty_917361.csv\n",
      "reading error in/home/khinkhant2hlaing/text-generation-research/all/beauty_432091.csv\n",
      "reading error in/home/khinkhant2hlaing/text-generation-research/all/beauty_809322.csv\n",
      "reading error in/home/khinkhant2hlaing/text-generation-research/all/beauty_687553.csv\n",
      "reading error in/home/khinkhant2hlaing/text-generation-research/all/beauty_914840.csv\n",
      "reading error in/home/khinkhant2hlaing/text-generation-research/all/beauty_327371.csv\n",
      "reading error in/home/khinkhant2hlaing/text-generation-research/all/beauty_726665.csv\n",
      "reading error in/home/khinkhant2hlaing/text-generation-research/all/beauty_658235.csv\n",
      "reading error in/home/khinkhant2hlaing/text-generation-research/all/beauty_489743.csv\n",
      "reading error in/home/khinkhant2hlaing/text-generation-research/all/beauty_773465.csv\n",
      "reading error in/home/khinkhant2hlaing/text-generation-research/all/beauty_790702.csv\n",
      "reading error in/home/khinkhant2hlaing/text-generation-research/all/beauty_946696.csv\n",
      "reading error in/home/khinkhant2hlaing/text-generation-research/all/beauty_432938.csv\n",
      "reading error in/home/khinkhant2hlaing/text-generation-research/all/beauty_872483.csv\n",
      "reading error in/home/khinkhant2hlaing/text-generation-research/all/beauty_862710.csv\n",
      "reading error in/home/khinkhant2hlaing/text-generation-research/all/beauty_900883.csv\n",
      "reading error in/home/khinkhant2hlaing/text-generation-research/all/beauty_889864.csv\n",
      "reading error in/home/khinkhant2hlaing/text-generation-research/all/beauty_742967.csv\n",
      "reading error in/home/khinkhant2hlaing/text-generation-research/all/beauty_518650.csv\n",
      "reading error in/home/khinkhant2hlaing/text-generation-research/all/beauty_804042.csv\n",
      "reading error in/home/khinkhant2hlaing/text-generation-research/all/beauty_587151.csv\n",
      "reading error in/home/khinkhant2hlaing/text-generation-research/all/beauty_431816.csv\n",
      "reading error in/home/khinkhant2hlaing/text-generation-research/all/beauty_605427.csv\n",
      "reading error in/home/khinkhant2hlaing/text-generation-research/all/beauty_706242.csv\n",
      "reading error in/home/khinkhant2hlaing/text-generation-research/all/beauty_573315.csv\n",
      "reading error in/home/khinkhant2hlaing/text-generation-research/all/beauty_557648.csv\n",
      "reading error in/home/khinkhant2hlaing/text-generation-research/all/beauty_853171.csv\n",
      "reading error in/home/khinkhant2hlaing/text-generation-research/all/beauty_552564.csv\n",
      "reading error in/home/khinkhant2hlaing/text-generation-research/all/beauty_411749.csv\n",
      "reading error in/home/khinkhant2hlaing/text-generation-research/all/beauty_846681.csv\n",
      "reading error in/home/khinkhant2hlaing/text-generation-research/all/beauty_859029.csv\n",
      "reading error in/home/khinkhant2hlaing/text-generation-research/all/beauty_879043.csv\n",
      "reading error in/home/khinkhant2hlaing/text-generation-research/all/beauty_749796.csv\n",
      "reading error in/home/khinkhant2hlaing/text-generation-research/all/beauty_952414.csv\n",
      "reading error in/home/khinkhant2hlaing/text-generation-research/all/beauty_663022.csv\n",
      "reading error in/home/khinkhant2hlaing/text-generation-research/all/beauty_554617.csv\n",
      "reading error in/home/khinkhant2hlaing/text-generation-research/all/beauty_685999.csv\n",
      "reading error in/home/khinkhant2hlaing/text-generation-research/all/beauty_473739.csv\n",
      "reading error in/home/khinkhant2hlaing/text-generation-research/all/beauty_917677.csv\n",
      "reading error in/home/khinkhant2hlaing/text-generation-research/all/beauty_461402.csv\n",
      "reading error in/home/khinkhant2hlaing/text-generation-research/all/beauty_537797.csv\n",
      "reading error in/home/khinkhant2hlaing/text-generation-research/all/beauty_506219.csv\n",
      "reading error in/home/khinkhant2hlaing/text-generation-research/all/beauty_119386.csv\n",
      "reading error in/home/khinkhant2hlaing/text-generation-research/all/beauty_870078.csv\n",
      "reading error in/home/khinkhant2hlaing/text-generation-research/all/beauty_417252.csv\n",
      "reading error in/home/khinkhant2hlaing/text-generation-research/all/beauty_815155.csv\n",
      "reading error in/home/khinkhant2hlaing/text-generation-research/all/beauty_901821.csv\n",
      "reading error in/home/khinkhant2hlaing/text-generation-research/all/beauty_924225.csv\n",
      "reading error in/home/khinkhant2hlaing/text-generation-research/all/beauty_981447.csv\n",
      "reading error in/home/khinkhant2hlaing/text-generation-research/all/beauty_435656.csv\n",
      "reading error in/home/khinkhant2hlaing/text-generation-research/all/beauty_855302.csv\n",
      "reading error in/home/khinkhant2hlaing/text-generation-research/all/beauty_896288.csv\n",
      "reading error in/home/khinkhant2hlaing/text-generation-research/all/beauty_801679.csv\n",
      "reading error in/home/khinkhant2hlaing/text-generation-research/all/beauty_667566.csv\n",
      "reading error in/home/khinkhant2hlaing/text-generation-research/all/beauty_596820.csv\n",
      "reading error in/home/khinkhant2hlaing/text-generation-research/all/beauty_856990.csv\n",
      "reading error in/home/khinkhant2hlaing/text-generation-research/all/beauty_918667.csv\n",
      "reading error in/home/khinkhant2hlaing/text-generation-research/all/beauty_742192.csv\n",
      "reading error in/home/khinkhant2hlaing/text-generation-research/all/beauty_452273.csv\n",
      "reading error in/home/khinkhant2hlaing/text-generation-research/all/beauty_976740.csv\n",
      "reading error in/home/khinkhant2hlaing/text-generation-research/all/beauty_699766.csv\n",
      "reading error in/home/khinkhant2hlaing/text-generation-research/all/beauty_842242.csv\n",
      "reading error in/home/khinkhant2hlaing/text-generation-research/all/beauty_671147.csv\n",
      "reading error in/home/khinkhant2hlaing/text-generation-research/all/beauty_778235.csv\n",
      "reading error in/home/khinkhant2hlaing/text-generation-research/all/beauty_237374.csv\n",
      "reading error in/home/khinkhant2hlaing/text-generation-research/all/beauty_444884.csv\n",
      "reading error in/home/khinkhant2hlaing/text-generation-research/all/beauty_676887.csv\n",
      "reading error in/home/khinkhant2hlaing/text-generation-research/all/beauty_916661.csv\n",
      "reading error in/home/khinkhant2hlaing/text-generation-research/all/beauty_267064.csv\n",
      "reading error in/home/khinkhant2hlaing/text-generation-research/all/beauty_493377.csv\n",
      "reading error in/home/khinkhant2hlaing/text-generation-research/all/beauty_534574.csv\n",
      "reading error in/home/khinkhant2hlaing/text-generation-research/all/beauty_507976.csv\n",
      "reading error in/home/khinkhant2hlaing/text-generation-research/all/beauty_899131.csv\n",
      "reading error in/home/khinkhant2hlaing/text-generation-research/all/beauty_776846.csv\n",
      "reading error in/home/khinkhant2hlaing/text-generation-research/all/beauty_174421.csv\n",
      "reading error in/home/khinkhant2hlaing/text-generation-research/all/beauty_881679.csv\n",
      "reading error in/home/khinkhant2hlaing/text-generation-research/all/beauty_973158.csv\n",
      "reading error in/home/khinkhant2hlaing/text-generation-research/all/beauty_757155.csv\n",
      "reading error in/home/khinkhant2hlaing/text-generation-research/all/beauty_911049.csv\n",
      "reading error in/home/khinkhant2hlaing/text-generation-research/all/beauty_774780.csv\n",
      "reading error in/home/khinkhant2hlaing/text-generation-research/all/beauty_425054.csv\n",
      "reading error in/home/khinkhant2hlaing/text-generation-research/all/beauty_643452.csv\n",
      "reading error in/home/khinkhant2hlaing/text-generation-research/all/beauty_994138.csv\n",
      "reading error in/home/khinkhant2hlaing/text-generation-research/all/beauty_776789.csv\n",
      "reading error in/home/khinkhant2hlaing/text-generation-research/all/beauty_699011.csv\n",
      "reading error in/home/khinkhant2hlaing/text-generation-research/all/beauty_696084.csv\n",
      "reading error in/home/khinkhant2hlaing/text-generation-research/all/beauty_514667.csv\n",
      "reading error in/home/khinkhant2hlaing/text-generation-research/all/beauty_605304.csv\n",
      "reading error in/home/khinkhant2hlaing/text-generation-research/all/beauty_897369.csv\n",
      "reading error in/home/khinkhant2hlaing/text-generation-research/all/beauty_498420.csv\n",
      "reading error in/home/khinkhant2hlaing/text-generation-research/all/beauty_465616.csv\n",
      "reading error in/home/khinkhant2hlaing/text-generation-research/all/beauty_903740.csv\n",
      "reading error in/home/khinkhant2hlaing/text-generation-research/all/beauty_989999.csv\n",
      "reading error in/home/khinkhant2hlaing/text-generation-research/all/beauty_644764.csv\n",
      "reading error in/home/khinkhant2hlaing/text-generation-research/all/beauty_905749.csv\n"
     ]
    },
    {
     "name": "stdout",
     "output_type": "stream",
     "text": [
      "reading error in/home/khinkhant2hlaing/text-generation-research/all/beauty_466609.csv\n",
      "reading error in/home/khinkhant2hlaing/text-generation-research/all/beauty_986625.csv\n",
      "reading error in/home/khinkhant2hlaing/text-generation-research/all/beauty_460053.csv\n",
      "reading error in/home/khinkhant2hlaing/text-generation-research/all/beauty_933405.csv\n",
      "reading error in/home/khinkhant2hlaing/text-generation-research/all/beauty_621981.csv\n",
      "reading error in/home/khinkhant2hlaing/text-generation-research/all/beauty_283249.csv\n",
      "reading error in/home/khinkhant2hlaing/text-generation-research/all/beauty_675178.csv\n",
      "reading error in/home/khinkhant2hlaing/text-generation-research/all/beauty_860874.csv\n",
      "length of data frame: 37366\n",
      "Max length: 2404\n",
      "label :  目指すは60年代の海外女優！レトロショートでおしゃれ度UP\n"
     ]
    },
    {
     "name": "stderr",
     "output_type": "stream",
     "text": [
      "/opt/conda/lib/python3.7/site-packages/transformers/models/t5/tokenization_t5.py:220: UserWarning: This sequence already has </s>. In future versions this behavior may lead to duplicated eos tokens being added.\n",
      "  f\"This sequence already has {self.eos_token}. In future versions this behavior may lead to duplicated\"\n"
     ]
    },
    {
     "name": "stdout",
     "output_type": "stream",
     "text": [
      "37366\n"
     ]
    }
   ],
   "source": [
    "for trial_no in range(1):\n",
    "  print(\"Loading dataset...\")\n",
    "  train_dataset, val_dataset = load_beauty_dataset(tokenizer, trial_no)\n",
    "  "
   ]
  },
  {
   "cell_type": "code",
   "execution_count": null,
   "metadata": {
    "colab": {
     "base_uri": "https://localhost:8080/",
     "height": 547
    },
    "id": "D2TEfiLhzYEv",
    "outputId": "f5ac1c7a-2e13-4b00-a81c-5712b2ffad5e"
   },
   "outputs": [
    {
     "name": "stderr",
     "output_type": "stream",
     "text": [
      "/opt/conda/lib/python3.7/site-packages/transformers/optimization.py:310: FutureWarning: This implementation of AdamW is deprecated and will be removed in a future version. Use the PyTorch implementation torch.optim.AdamW instead, or set `no_deprecation_warning=True` to disable this warning\n",
      "  FutureWarning,\n",
      "***** Running training *****\n",
      "  Num examples = 33629\n",
      "  Num Epochs = 6\n",
      "  Instantaneous batch size per device = 12\n",
      "  Total train batch size (w. parallel, distributed & accumulation) = 12\n",
      "  Gradient Accumulation steps = 1\n",
      "  Total optimization steps = 16818\n",
      "  Number of trainable parameters = 336129024\n"
     ]
    },
    {
     "name": "stdout",
     "output_type": "stream",
     "text": [
      "Start training...\n"
     ]
    },
    {
     "data": {
      "text/html": [
       "\n",
       "    <div>\n",
       "      \n",
       "      <progress value='10861' max='16818' style='width:300px; height:20px; vertical-align: middle;'></progress>\n",
       "      [10861/16818 3:15:09 < 1:47:03, 0.93 it/s, Epoch 3.87/6]\n",
       "    </div>\n",
       "    <table border=\"1\" class=\"dataframe\">\n",
       "  <thead>\n",
       " <tr style=\"text-align: left;\">\n",
       "      <th>Step</th>\n",
       "      <th>Training Loss</th>\n",
       "      <th>Validation Loss</th>\n",
       "    </tr>\n",
       "  </thead>\n",
       "  <tbody>\n",
       "    <tr>\n",
       "      <td>5000</td>\n",
       "      <td>0.448500</td>\n",
       "      <td>0.418020</td>\n",
       "    </tr>\n",
       "    <tr>\n",
       "      <td>10000</td>\n",
       "      <td>0.300400</td>\n",
       "      <td>0.448923</td>\n",
       "    </tr>\n",
       "  </tbody>\n",
       "</table><p>"
      ],
      "text/plain": [
       "<IPython.core.display.HTML object>"
      ]
     },
     "metadata": {},
     "output_type": "display_data"
    },
    {
     "name": "stderr",
     "output_type": "stream",
     "text": [
      "***** Running Evaluation *****\n",
      "  Num examples = 3737\n",
      "  Batch size = 12\n",
      "***** Running Evaluation *****\n",
      "  Num examples = 3737\n",
      "  Batch size = 12\n",
      "Saving model checkpoint to /home/khinkhant2hlaing/text-generation-research/gpt-2_finetune/result-content-title/checkpoint-10000\n",
      "Configuration saved in /home/khinkhant2hlaing/text-generation-research/gpt-2_finetune/result-content-title/checkpoint-10000/config.json\n",
      "Model weights saved in /home/khinkhant2hlaing/text-generation-research/gpt-2_finetune/result-content-title/checkpoint-10000/pytorch_model.bin\n"
     ]
    }
   ],
   "source": [
    "print(\"Start training...\")\n",
    "training_args = TrainingArguments(output_dir=r'/home/khinkhant2hlaing/text-generation-research/gpt-2_finetune/result-content-title', \n",
    "                                num_train_epochs=6, \n",
    "                                logging_steps=5000, load_best_model_at_end=True,\n",
    "                                save_strategy='steps',\n",
    "                                evaluation_strategy=\"steps\",\n",
    "                                save_steps=10000,\n",
    "                                per_device_train_batch_size=12, per_device_eval_batch_size=12,\n",
    "                                learning_rate=0.001,\n",
    "                                warmup_steps=1, weight_decay=0.0001, logging_dir='logs')\n",
    "\n",
    "\n",
    "trainer = Trainer(model=model, args=training_args, train_dataset=train_dataset,\n",
    "          eval_dataset=val_dataset, data_collator=lambda data: {'input_ids': torch.stack([f[0] for f in data]),\n",
    "                                                                'attention_mask': torch.stack([f[1] for f in data]),\n",
    "                                                                'labels': torch.stack([f[0] for f in data])})\n",
    "trainer.train()                                                  \n"
   ]
  },
  {
   "cell_type": "code",
   "execution_count": null,
   "metadata": {
    "colab": {
     "base_uri": "https://localhost:8080/"
    },
    "executionInfo": {
     "elapsed": 8611,
     "status": "ok",
     "timestamp": 1668496068433,
     "user": {
      "displayName": "KHIN KHANT KHANT HLAING",
      "userId": "10342000142729790877"
     },
     "user_tz": -390
    },
    "id": "ltybeRh_WdvM",
    "outputId": "19b6d8b8-ba77-4685-d2ec-dfed49fcd7aa"
   },
   "outputs": [],
   "source": [
    "import os\n",
    "\n",
    "output_dir = '/home/khinkhant2hlaing/text-generation-research/gpt-2_finetune/result-content-title/23-11-content-title-jpt2'\n",
    "\n",
    "# Save a trained model, configuration and tokenizer using `save_pretrained()`.\n",
    "# They can then be reloaded using `from_pretrained()`\n",
    "\n",
    "model_to_save = model.module if hasattr(model, 'module') else model\n",
    "model_to_save.save_pretrained(output_dir)\n",
    "tokenizer.save_pretrained(output_dir)"
   ]
  },
  {
   "cell_type": "code",
   "execution_count": null,
   "metadata": {},
   "outputs": [],
   "source": [
    "import shutil\n",
    "model_file = r'/home/khinkhant2hlaing/text-generation-research/gpt-2_finetune/result-content-title/23-11-content-title-jpt2'\n",
    "\n",
    "shutil.make_archive(model_file, 'zip', 'result-content-tilte')"
   ]
  },
  {
   "cell_type": "code",
   "execution_count": null,
   "metadata": {
    "colab": {
     "base_uri": "https://localhost:8080/"
    },
    "executionInfo": {
     "elapsed": 9745,
     "status": "ok",
     "timestamp": 1668496278374,
     "user": {
      "displayName": "KHIN KHANT KHANT HLAING",
      "userId": "10342000142729790877"
     },
     "user_tz": -390
    },
    "id": "tT76TT3DIJB7",
    "outputId": "58b3c030-c610-4c69-860f-7ad838006016"
   },
   "outputs": [],
   "source": [
    "model = AutoModelForCausalLM.from_pretrained(\"/home/khinkhant2hlaing/text-generation-research/gpt-2_finetune/result-content-title/23-11-content-title-jpt2\").cuda()\n"
   ]
  },
  {
   "cell_type": "code",
   "execution_count": null,
   "metadata": {
    "colab": {
     "base_uri": "https://localhost:8080/"
    },
    "executionInfo": {
     "elapsed": 3505,
     "status": "ok",
     "timestamp": 1668496507282,
     "user": {
      "displayName": "KHIN KHANT KHANT HLAING",
      "userId": "10342000142729790877"
     },
     "user_tz": -390
    },
    "id": "Hdl2A1H3gSTf",
    "outputId": "c6f56cf3-5084-4572-c141-956e7070ea20"
   },
   "outputs": [],
   "source": [
    "text = '【ブローチェ　アヴェダ】また、ピンクブラウンにはメリットが多いのも魅力の一つ。自分に似合う髪色が見つからないという方にとって魅力的なメリットがたくさんあります◎【ピンクブラウンのメリット】①光に当たった時の柔らかさと透明感 ②日本人の肌に馴染みのいい色味 ③パーソナルカラーのイエベさんもブルベさんも取り入れやすい色合い ここからはそんなピンクブラウンについて、さまざまな角度からおすすめヘアスタイルを紹介していきます。光に当たった時の柔らかさと透明感日本人の肌に馴染みのいい色味パーソナルカラーのイエベさんもブルベさんも取り入れやすい色合い'\n",
    "prompt = f'Content: {text}[SEP] Title:'\n",
    "generated = tokenizer(f\"<s> {prompt}\", return_tensors=\"pt\").input_ids.cuda()\n",
    "sample_outputs = model.generate(generated, do_sample=False, top_k=50, max_length=256, top_p=0.90, \n",
    "            temperature=0, num_return_sequences=0).cuda()\n",
    "pred_text = tokenizer.decode(sample_outputs[0], skip_special_tokens=True)\n",
    "           "
   ]
  },
  {
   "cell_type": "code",
   "execution_count": null,
   "metadata": {
    "colab": {
     "base_uri": "https://localhost:8080/"
    },
    "executionInfo": {
     "elapsed": 5,
     "status": "ok",
     "timestamp": 1668496507282,
     "user": {
      "displayName": "KHIN KHANT KHANT HLAING",
      "userId": "10342000142729790877"
     },
     "user_tz": -390
    },
    "id": "OW5v8hZlIQYq",
    "outputId": "f050d4d0-c81a-4fff-ce7f-3f3b09a45871"
   },
   "outputs": [],
   "source": [
    "print(pred_text)"
   ]
  },
  {
   "cell_type": "markdown",
   "metadata": {
    "id": "RlUqOSY-fkSL"
   },
   "source": [
    "ref: https://qiita.com/m__k/items/36875fedf8ad1842b729"
   ]
  },
  {
   "cell_type": "code",
   "execution_count": null,
   "metadata": {
    "id": "kLVXKLimflMR"
   },
   "outputs": [],
   "source": []
  }
 ],
 "metadata": {
  "accelerator": "GPU",
  "colab": {
   "authorship_tag": "ABX9TyOsUr504FXHLyYhAxXfRzj2",
   "provenance": []
  },
  "gpuClass": "standard",
  "kernelspec": {
   "display_name": "Python 3 (ipykernel)",
   "language": "python",
   "name": "python3"
  },
  "language_info": {
   "codemirror_mode": {
    "name": "ipython",
    "version": 3
   },
   "file_extension": ".py",
   "mimetype": "text/x-python",
   "name": "python",
   "nbconvert_exporter": "python",
   "pygments_lexer": "ipython3",
   "version": "3.7.12"
  },
  "vscode": {
   "interpreter": {
    "hash": "ffdbdde1c7f3cb0c6e4302d47b8b69bbc9567b6e444b9944e0284485fba4246d"
   }
  }
 },
 "nbformat": 4,
 "nbformat_minor": 1
}
