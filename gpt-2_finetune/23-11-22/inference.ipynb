{
 "cells": [
  {
   "cell_type": "code",
   "execution_count": 1,
   "metadata": {},
   "outputs": [
    {
     "name": "stderr",
     "output_type": "stream",
     "text": [
      "/opt/conda/lib/python3.7/site-packages/tqdm/auto.py:22: TqdmWarning: IProgress not found. Please update jupyter and ipywidgets. See https://ipywidgets.readthedocs.io/en/stable/user_install.html\n",
      "  from .autonotebook import tqdm as notebook_tqdm\n"
     ]
    },
    {
     "data": {
      "text/plain": [
       "'4.25.0.dev0'"
      ]
     },
     "execution_count": 1,
     "metadata": {},
     "output_type": "execute_result"
    }
   ],
   "source": [
    "import transformers\n",
    "transformers.__version__"
   ]
  },
  {
   "cell_type": "code",
   "execution_count": 2,
   "metadata": {},
   "outputs": [],
   "source": [
    "from transformers import T5Tokenizer, AutoModelForCausalLM"
   ]
  },
  {
   "cell_type": "code",
   "execution_count": 3,
   "metadata": {},
   "outputs": [
    {
     "name": "stdout",
     "output_type": "stream",
     "text": [
      "Loading model...\n"
     ]
    },
    {
     "name": "stderr",
     "output_type": "stream",
     "text": [
      "Special tokens have been added in the vocabulary, make sure the associated word embeddings are fine-tuned or trained.\n"
     ]
    }
   ],
   "source": [
    "print(\"Loading model...\")\n",
    "# load tokenizer and model\n",
    "tokenizer = T5Tokenizer.from_pretrained(\"rinna/japanese-gpt2-medium\", bos_token='<s>', eos_token='</s>', pad_token='<pad>')\n",
    "\n",
    "model = AutoModelForCausalLM.from_pretrained(r\"/home/khinkhant2hlaing/text-generation-research/gpt-2_finetune/result-content-title/23-11-content-title-jpt2\").cuda()\n"
   ]
  },
  {
   "cell_type": "code",
   "execution_count": 96,
   "metadata": {},
   "outputs": [],
   "source": [
    "text = \"どんなに髪色が綺麗だとしても、自分の肌色に合わないと、お肌も髪色もくすんで見えてしまい勿体無いことになってしまいます。「人は見た目が100％」というドラマもありましたが、見た目の第一印象はとっても大切です。しかも、その第一印象を判断する要素の中で色は大きく影響してきます！なので、似合わせというのはとても大事なんですね。最近ではパーソナルカラーなどの自分に似合う色を探す診断サイトも多くなってきていますので、かなり注目要素かと思います！\"\n",
    "\n",
    "\n",
    "if len(text)>256:\n",
    "    text = text[:256]\n",
    "    print(text)"
   ]
  },
  {
   "cell_type": "code",
   "execution_count": 97,
   "metadata": {},
   "outputs": [],
   "source": [
    "prompt = f'Content: {text} '\n",
    "import re\n",
    "generated = tokenizer(f\"<s> {prompt}\", return_tensors=\"pt\").input_ids.cuda()\n",
    "\n"
   ]
  },
  {
   "cell_type": "code",
   "execution_count": 98,
   "metadata": {},
   "outputs": [
    {
     "name": "stderr",
     "output_type": "stream",
     "text": [
      "The attention mask and the pad token id were not set. As a consequence, you may observe unexpected behavior. Please pass your input's `attention_mask` to obtain reliable results.\n",
      "Setting `pad_token_id` to `eos_token_id`:2 for open-end generation.\n",
      "A decoder-only architecture is being used, but right-padding was detected! For correct generation results, please set `padding_side='left'` when initializing the tokenizer.\n"
     ]
    }
   ],
   "source": [
    "sample_outputs = model.generate(generated, do_sample=False, top_k=50, max_length=512, top_p=0.90, \n",
    "        temperature=0, num_return_sequences=1)\n",
    "pred_text = tokenizer.decode(sample_outputs[0], skip_special_tokens=True)\n",
    "# extract the predicted sentiment\n",
    "try:\n",
    "    pred_sentiment = re.findall(\"Title: (.*)\", pred_text)[-1]\n",
    "except:\n",
    "    pred_sentiment = \"None\""
   ]
  },
  {
   "cell_type": "code",
   "execution_count": 99,
   "metadata": {},
   "outputs": [
    {
     "name": "stdout",
     "output_type": "stream",
     "text": [
      "Content: どんなに髪色が綺麗だとしても、自分の肌色に合わないと、お肌も髪色もくすんで見えてしまい勿体無いことになってしまいます。「人は見た目が100%」というドラマもありましたが、見た目の第一印象はとっても大切です。しかも、その第一印象を判断する要素の中で色は大きく影響してきます!なので、似合わせというのはとても大事なんですね。最近ではパーソナルカラーなどの自分に似合う色を探す診断サイトも多くなってきていますので、かなり注目要素かと思います! 自分の肌色に合う色をお探し itle: 自分の肌色に合わない色は、お肌を落ち着かせて逆に\n"
     ]
    }
   ],
   "source": [
    "print(pred_text)"
   ]
  },
  {
   "cell_type": "code",
   "execution_count": null,
   "metadata": {},
   "outputs": [],
   "source": []
  }
 ],
 "metadata": {
  "kernelspec": {
   "display_name": "Python 3 (ipykernel)",
   "language": "python",
   "name": "python3"
  },
  "language_info": {
   "codemirror_mode": {
    "name": "ipython",
    "version": 3
   },
   "file_extension": ".py",
   "mimetype": "text/x-python",
   "name": "python",
   "nbconvert_exporter": "python",
   "pygments_lexer": "ipython3",
   "version": "3.7.12"
  },
  "vscode": {
   "interpreter": {
    "hash": "ffdbdde1c7f3cb0c6e4302d47b8b69bbc9567b6e444b9944e0284485fba4246d"
   }
  }
 },
 "nbformat": 4,
 "nbformat_minor": 2
}
