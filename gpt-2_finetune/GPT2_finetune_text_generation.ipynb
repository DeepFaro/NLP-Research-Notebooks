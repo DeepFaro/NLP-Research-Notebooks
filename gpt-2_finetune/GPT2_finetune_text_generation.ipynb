{
 "cells": [
  {
   "cell_type": "code",
   "execution_count": null,
   "metadata": {
    "id": "93r6h-D7mrn9"
   },
   "outputs": [],
   "source": [
    "!pip install -q gpt-2-simple\n",
    "import gpt_2_simple as gpt2\n",
    "from datetime import datetime\n",
    "from google.colab import files"
   ]
  },
  {
   "cell_type": "code",
   "execution_count": null,
   "metadata": {
    "colab": {
     "base_uri": "https://localhost:8080/"
    },
    "id": "HGST6diZ0wHw",
    "outputId": "b4268845-d2df-4b11-fbfe-98b57c842a1a"
   },
   "outputs": [
    {
     "name": "stdout",
     "output_type": "stream",
     "text": [
      "Wed Nov  9 10:09:03 2022       \n",
      "+-----------------------------------------------------------------------------+\n",
      "| NVIDIA-SMI 460.32.03    Driver Version: 460.32.03    CUDA Version: 11.2     |\n",
      "|-------------------------------+----------------------+----------------------+\n",
      "| GPU  Name        Persistence-M| Bus-Id        Disp.A | Volatile Uncorr. ECC |\n",
      "| Fan  Temp  Perf  Pwr:Usage/Cap|         Memory-Usage | GPU-Util  Compute M. |\n",
      "|                               |                      |               MIG M. |\n",
      "|===============================+======================+======================|\n",
      "|   0  Tesla T4            Off  | 00000000:00:04.0 Off |                    0 |\n",
      "| N/A   52C    P8     9W /  70W |      0MiB / 15109MiB |      0%      Default |\n",
      "|                               |                      |                  N/A |\n",
      "+-------------------------------+----------------------+----------------------+\n",
      "                                                                               \n",
      "+-----------------------------------------------------------------------------+\n",
      "| Processes:                                                                  |\n",
      "|  GPU   GI   CI        PID   Type   Process name                  GPU Memory |\n",
      "|        ID   ID                                                   Usage      |\n",
      "|=============================================================================|\n",
      "|  No running processes found                                                 |\n",
      "+-----------------------------------------------------------------------------+\n"
     ]
    }
   ],
   "source": [
    "!nvidia-smi"
   ]
  },
  {
   "cell_type": "code",
   "execution_count": null,
   "metadata": {
    "colab": {
     "base_uri": "https://localhost:8080/"
    },
    "id": "qR0KqG_hfRhW",
    "outputId": "e756813d-2393-4df9-fcb8-959c6f94f3a7"
   },
   "outputs": [
    {
     "name": "stderr",
     "output_type": "stream",
     "text": [
      "Fetching checkpoint: 1.05Mit [00:00, 267Mit/s]                                                      \n",
      "Fetching encoder.json: 1.05Mit [00:01, 549kit/s]\n",
      "Fetching hparams.json: 1.05Mit [00:00, 321Mit/s]                                                    \n",
      "Fetching model.ckpt.data-00000-of-00001: 498Mit [01:22, 6.04Mit/s]                                  \n",
      "Fetching model.ckpt.index: 1.05Mit [00:00, 382Mit/s]                                                \n",
      "Fetching model.ckpt.meta: 1.05Mit [00:01, 844kit/s]\n",
      "Fetching vocab.bpe: 1.05Mit [00:01, 724kit/s]\n"
     ]
    }
   ],
   "source": [
    "gpt2.download_gpt2(model_name=\"124M\")"
   ]
  },
  {
   "cell_type": "code",
   "execution_count": null,
   "metadata": {
    "colab": {
     "base_uri": "https://localhost:8080/"
    },
    "id": "DFyS9UhlfScM",
    "outputId": "382a1f2a-bd80-482e-a22a-b5e60d4f8ed3"
   },
   "outputs": [
    {
     "name": "stdout",
     "output_type": "stream",
     "text": [
      "Drive already mounted at /content/drive; to attempt to forcibly remount, call drive.mount(\"/content/drive\", force_remount=True).\n"
     ]
    }
   ],
   "source": [
    "gpt2.mount_gdrive()"
   ]
  },
  {
   "cell_type": "code",
   "execution_count": null,
   "metadata": {
    "id": "CVGHf5GffSfg"
   },
   "outputs": [],
   "source": [
    "file_name = \"shakespeare.txt\""
   ]
  },
  {
   "cell_type": "code",
   "execution_count": null,
   "metadata": {
    "id": "2juo7hQMfSk-"
   },
   "outputs": [],
   "source": [
    "gpt2.copy_file_from_gdrive(file_name)"
   ]
  },
  {
   "cell_type": "code",
   "execution_count": null,
   "metadata": {
    "colab": {
     "base_uri": "https://localhost:8080/"
    },
    "id": "CIYbB2cd1y-j",
    "outputId": "f411e409-503d-438a-f660-f5fe7a9458c6"
   },
   "outputs": [
    {
     "name": "stdout",
     "output_type": "stream",
     "text": [
      "Loading checkpoint models/124M/model.ckpt\n",
      "Loading dataset...\n"
     ]
    },
    {
     "name": "stderr",
     "output_type": "stream",
     "text": [
      "100%|██████████| 1/1 [00:00<00:00,  5.29it/s]"
     ]
    },
    {
     "name": "stdout",
     "output_type": "stream",
     "text": [
      "dataset has 25284 tokens\n",
      "Training...\n"
     ]
    },
    {
     "name": "stderr",
     "output_type": "stream",
     "text": [
      "\n"
     ]
    },
    {
     "name": "stdout",
     "output_type": "stream",
     "text": [
      "[10 | 24.67] loss=4.17 avg=4.17\n",
      "[20 | 45.82] loss=3.79 avg=3.98\n",
      "[30 | 67.31] loss=3.46 avg=3.80\n",
      "[40 | 89.25] loss=3.36 avg=3.69\n",
      "[50 | 110.92] loss=2.99 avg=3.55\n",
      "[60 | 132.47] loss=2.76 avg=3.41\n",
      "[70 | 154.10] loss=1.83 avg=3.18\n",
      "[80 | 175.83] loss=1.28 avg=2.93\n",
      "[90 | 197.52] loss=1.51 avg=2.77\n",
      "[100 | 219.22] loss=0.77 avg=2.56\n",
      "[110 | 240.87] loss=0.38 avg=2.35\n",
      "[120 | 262.56] loss=0.24 avg=2.17\n",
      "[130 | 284.27] loss=0.18 avg=2.00\n",
      "[140 | 305.98] loss=0.12 avg=1.86\n",
      "[150 | 327.67] loss=0.11 avg=1.74\n",
      "[160 | 349.36] loss=0.08 avg=1.62\n",
      "[170 | 371.04] loss=0.07 avg=1.53\n",
      "[180 | 392.72] loss=0.07 avg=1.44\n",
      "[190 | 414.39] loss=0.07 avg=1.36\n",
      "[200 | 436.06] loss=0.06 avg=1.29\n",
      "======== SAMPLE 1 ========\n",
      " I\n",
      "The painter's invention grafted to such good quality\n",
      "As all perfection doth good hold,\n",
      "That's more than the universe gives.\n",
      "O sure I never saw the old said sun\n",
      "Bearing this imprint of my imperfect star,\n",
      "On such a dimly lit morning:\n",
      "Yet that old sun it needs I cause to shine,\n",
      "In a million splendour's shopcries bidden there,\n",
      "In all the best antique glass stands made:  \n",
      "Here's an antique glass house that looks just as it should,\n",
      "In sobering day's gravity, till his new-blest\n",
      "Light doth take his place, still doth his shade stand.\n",
      "\n",
      "Let me not tounshes the case,\n",
      "That these presenters of a dimly enforced truth\n",
      "Hath imposterized, and wilfully altered the subject,\n",
      "Let those who can, now be scanted for true knowledge.\n",
      "The world may well be a store wheret there is purchase\n",
      "And buying, and knowing, and ablecap, and ablecapcapcapcap\n",
      "Of some high birth, or some brief period since before,\n",
      "The object is well within the soul's reach,\n",
      "But being surly, and uncertain, some pure store,\n",
      "With or without prayers doth appear,\n",
      "But in the things in store doth remain,\n",
      "And in these they will be compiled, and the greater number spent.\n",
      "And for this purpose, my loving Rosary be added\n",
      "Shall beauteous messengers call, from a holy fart.\n",
      "Rosary answered, that you might well be kind,\n",
      "For you by what you see doth other be learned.\n",
      "  \n",
      "I acknowledge that we living in this present-absence\n",
      "Have used our ages to seek external store,\n",
      "But in vain have given up the thought of seeking,\n",
      "Your kind, which in this age was confined\n",
      "To this very night, and endless cold.\n",
      "O that you were your self, your own soul\n",
      "Could in looks this way and that, living in this past,\n",
      "Dost hold together garments for support,\n",
      "But in feeling them in years to come,\n",
      "You going through this large phase of old,\n",
      "Were it not besetting with grief,\n",
      "That you should your self come into being\n",
      "As a spirit going through a state of disuse\n",
      "Sets youBILGED in your changes, and you\n",
      "By your experience do your self good of my.  \n",
      "Who lets so fair a fool go though painted over\n",
      "With Anastasia's Niggard Beauty,\n",
      "And wear it up in such sort of doting,\n",
      "That her satire on beauty doth imitate,\n",
      "Her self odourmost, even in her controlling her tongue.\n",
      "Such was the autumnal flavour\n",
      "Of thy self, so did I sweet-cook with sweet-potato,\n",
      "As weathered withsrier the winter's eve,\n",
      "Sometime hot and sometimes cold, and with varying seasons\n",
      "Washes away the canopy of the green,\n",
      "And doth it roast with cumin, and doth it beseeche;\n",
      "And-in-good measure-fried-from-scratch,\n",
      "Thy rose exultant crowds lead the way,\n",
      "As early as the morning, even to the sun,\n",
      "Doing saluted with a show of lords.\n",
      "But by this time the sun is dimmed,\n",
      "And saluted with a thousand stars doth appear,\n",
      "And all them but the one for thee,\n",
      "The other for them self, was not in attendance.\n",
      "For thee, all men are once gods,\n",
      "And for this be not small profit, then I plague thee,\n",
      "This is thy entire sum, then thy sum's end,\n",
      "Thou hast written a lie, my false slander am I,\n",
      "All that thou didst say, was said by thee,\n",
      "And this to annoy thy name from lasting lasting memory.  \n",
      "I grant (my denial) thou wert not married to my name,\n",
      "And therefore the matter is settled, me aressayed.\n",
      "But do not so, for love and love must live side by side,\n",
      "And twain the same, though one love die.\n",
      "  \n",
      "\n",
      "Inertia! what a wretched day's labour I did!\n",
      "A wretched painful silence did I have,\n",
      "Looking on the world in such dreadful perplexity,\n",
      "Looking on the world as a leaf, thinking on thine,\n",
      "A sun doth beseeched to go where thou hapns,\n",
      "To the beauty of thy setting, and of thy bent:\n",
      "But in thy busyday work dost thou spend,\n",
      "Making of niggard beauty another doth imitate,\n",
      "Making of perfect had doth shake the rules,\n",
      "Making of had amode some other strange\n",
      "Making of rest some other part Americans have abandoned,\n",
      "Making of rest some other part Abyssinians have\n",
      "\n",
      "[210 | 470.06] loss=0.05 avg=1.22\n",
      "[220 | 491.79] loss=0.09 avg=1.16\n",
      "[230 | 513.49] loss=0.06 avg=1.11\n",
      "[240 | 535.18] loss=0.05 avg=1.06\n",
      "[250 | 556.90] loss=0.05 avg=1.02\n",
      "[260 | 578.62] loss=0.04 avg=0.97\n",
      "[270 | 600.34] loss=0.06 avg=0.94\n",
      "[280 | 622.08] loss=0.04 avg=0.90\n",
      "[290 | 643.80] loss=0.05 avg=0.87\n",
      "[300 | 665.51] loss=0.04 avg=0.83\n",
      "[310 | 687.21] loss=0.05 avg=0.80\n",
      "[320 | 708.92] loss=0.06 avg=0.78\n",
      "[330 | 730.62] loss=0.04 avg=0.75\n",
      "[340 | 752.34] loss=0.04 avg=0.73\n",
      "[350 | 774.03] loss=0.03 avg=0.70\n",
      "[360 | 795.74] loss=0.04 avg=0.68\n",
      "[370 | 817.44] loss=0.04 avg=0.66\n",
      "[380 | 839.15] loss=0.03 avg=0.64\n",
      "[390 | 860.85] loss=0.04 avg=0.62\n",
      "[400 | 882.56] loss=0.04 avg=0.60\n",
      "======== SAMPLE 1 ========\n",
      " my eyes have no possession,\n",
      "So far from beauty being made hideous,\n",
      "How strangely they think, what they see,\n",
      "By shifting the true image of their true face.  \n",
      "This seeming alteration in appearance makes it seem worse,\n",
      "More hideous is the change, that is so strangely made,\n",
      "Since every tongue says to say 'Now t' rehearse,\n",
      "It is so, but faster ye speak it woos' steel,\n",
      "More rude, more cruel, is he made of,\n",
      "Without thee, 'tis so.\n",
      "He that tells the world he hateth a warrior,\n",
      "He wears armor, and his skill is in him.\n",
      "Then do thy office, and thou shalt be true,\n",
      "When all the world needs is told how thou do'st do,\n",
      "To do what thou doest do, thou shalt be true.\n",
      "\n",
      "When all the world is told how to do thee right,\n",
      "By thy deeds done, and all things met that needed\n",
      "Were this thy epitaph, when all the world could see\n",
      "How thou dost live, when thou art all done?\n",
      "O that perfect beauty that seduces,\n",
      "By thy looks, and looks with thee,\n",
      "There's beauty in every thing, and beauty in thine.\n",
      "How can thy looks be motherfodites?\n",
      "If thou dost among us seek, we shall find\n",
      "That unGod Mode beauty on our side,\n",
      "Because thou hast that, and we all want it.  \n",
      "How can thy might be the life of us,\n",
      "If thou art the might of thine?\n",
      "If through evil find of that, and us thrice off,\n",
      "How can thy might live for love, if it find'st\n",
      "Thy look in love with thine eyes be\n",
      "Against my will, and against my will be?\n",
      "O that thou mightst, how can thy might live for love,\n",
      "If against my will thou thy mightest not abide\n",
      "In having these eyes, against my will shalt thou forfeit?\n",
      "O that thou mightst, how can thy might live for love,\n",
      "If in love thou art so bent that thou canst withstand\n",
      "Thy looks, and thy might live for love in me?\n",
      "O that thou mightst, how can thy might live for love,\n",
      "If in love thou art so bent that thou canst withstand\n",
      "Thy looks, and thy might be huge?\n",
      "If in love thou art so bent that thou mayst endure\n",
      "Thy looks, and thy might be large?\n",
      "If in love thou art so bent that thou mayst endure\n",
      "Till all be eyes and eyes are found,\n",
      "Both eyes and eyes are full of wonder,\n",
      "And many looks have been done on this sad day,\n",
      "But no one doth question the beauty of this sight:\n",
      "Our blessed saint says so, and well,\n",
      "And well, so much better than any another.\n",
      "  \n",
      "So is it not with me as with that muse,\n",
      "Who in their sums exceeds all the sum of hours,\n",
      "Of lines, of shapes, of sizes, of minutes,\n",
      "And with their words alone is shown what an instant is.\n",
      "This is my love, and this is my view,\n",
      "Of the stars, minutes, and even of the day:\n",
      "And each his own day his own above average,\n",
      "So do mine and all my suns, with their attendant beauties,\n",
      "Find where the stars are, and what they contain,\n",
      "Where every fair jewel is, but my sun\n",
      "Doth rather show the former date,\n",
      "Than the second, and better explains his beauty:  \n",
      "Even so my sun in the full sunless night\n",
      "(As before) made the clear sea turn a little:\n",
      "And in the bright water where he used to lie,\n",
      "A commoner shade, where he did call some place:\n",
      "Then spring's colour, or bilchief more bright,\n",
      "Than less short circuit, than his full sun,\n",
      "Of days untold, can make the impression:\n",
      "He is the eye of love, not the heart,\n",
      "Who the painter did, not the heart to paint,\n",
      "The heart to perfect picture, did his part,\n",
      "Making beautiful the engravings on the walls,\n",
      "And in the clear water where he used to find,\n",
      "A commoner look, which he did with his tears,\n",
      "And in the fresh water where he used to find,\n",
      "An eye more bright, than his would be,\n",
      "If he could show the number of his loves:\n",
      "Or if he did, and the tears were so heavy,\n",
      "A cup of warm water made of white,\n",
      "To make love sweeter, cold white would be a cup,\n",
      "Of better reason than water beefed new face,\n",
      "Within his soft fingers, and under his fingers hard:  \n",
      "O let him drink, father of my love,\n",
      "But let him pray, that his love's\n",
      "\n",
      "[410 | 915.96] loss=0.04 avg=0.59\n",
      "[420 | 937.70] loss=0.05 avg=0.57\n",
      "[430 | 959.42] loss=0.03 avg=0.56\n",
      "[440 | 981.12] loss=0.04 avg=0.54\n",
      "[450 | 1002.82] loss=0.04 avg=0.53\n",
      "[460 | 1024.52] loss=0.03 avg=0.52\n",
      "[470 | 1046.26] loss=0.04 avg=0.50\n",
      "[480 | 1067.99] loss=0.03 avg=0.49\n",
      "[490 | 1089.72] loss=0.04 avg=0.48\n",
      "[500 | 1111.43] loss=0.05 avg=0.47\n",
      "Saving checkpoint/run1/model-500\n"
     ]
    }
   ],
   "source": [
    "sess = gpt2.start_tf_sess()\n",
    "\n",
    "gpt2.finetune(sess,\n",
    "              dataset=file_name,\n",
    "              model_name='124M',\n",
    "              steps=500,\n",
    "              restore_from='fresh',\n",
    "              run_name='run1',\n",
    "              print_every=10,\n",
    "              sample_every=200,\n",
    "              save_every=500\n",
    "              )"
   ]
  },
  {
   "cell_type": "code",
   "execution_count": null,
   "metadata": {
    "id": "NsVU8gHr2-Cc"
   },
   "outputs": [],
   "source": [
    "gpt2.copy_checkpoint_to_gdrive(run_name='run1')"
   ]
  },
  {
   "cell_type": "code",
   "execution_count": null,
   "metadata": {
    "id": "3I9qK-HZ26uA"
   },
   "outputs": [],
   "source": [
    "gpt2.copy_checkpoint_from_gdrive(run_name='run1')"
   ]
  },
  {
   "cell_type": "code",
   "execution_count": null,
   "metadata": {
    "colab": {
     "base_uri": "https://localhost:8080/",
     "height": 1000
    },
    "id": "FdZaGbB6261E",
    "outputId": "a6aa64b4-f425-41cd-a3ec-a6a6a63613f3"
   },
   "outputs": [],
   "source": [
    "sess = gpt2.start_tf_sess()\n",
    "gpt2.load_gpt2(sess, run_name='run1', reuse=True)"
   ]
  },
  {
   "cell_type": "code",
   "execution_count": null,
   "metadata": {
    "colab": {
     "base_uri": "https://localhost:8080/",
     "height": 1000
    },
    "id": "ADjDi7xh2633",
    "outputId": "16415e54-c3d1-4cdf-9544-f5df0eca6938"
   },
   "outputs": [],
   "source": [
    "gpt2.generate(sess, run_name='run1')"
   ]
  },
  {
   "cell_type": "code",
   "execution_count": null,
   "metadata": {
    "id": "ZGorIk_R266c"
   },
   "outputs": [],
   "source": [
    "gpt2.generate(sess,\n",
    "              length=250,\n",
    "              temperature=0.7,\n",
    "              prefix=\"LORD\",\n",
    "              nsamples=5,\n",
    "              batch_size=5\n",
    "              )"
   ]
  },
  {
   "cell_type": "code",
   "execution_count": null,
   "metadata": {
    "id": "G15SRH1b269B"
   },
   "outputs": [],
   "source": [
    "import gpt_2_simple as gpt2\n",
    "model_name = \"124M\"\n",
    "# model is saved into current directory under /models/124M/\n",
    "gpt2.download_gpt2(model_name=model_name) #need to run only once. comment out once done.\n",
    "sess = gpt2.start_tf_sess()\n",
    "gpt2.load_gpt2(sess)\n",
    "gpt2.generate(sess)\n",
    "gpt2.generate(sess, length=39, include_prefix=False, temperature=0.1, top_k=1, top_p=0.9,\n",
    "              run_name='run1', prefix=\"Is there Earth No.2?\", return_as_list=True)"
   ]
  }
 ],
 "metadata": {
  "accelerator": "GPU",
  "colab": {
   "collapsed_sections": [],
   "provenance": []
  },
  "gpuClass": "standard",
  "kernelspec": {
   "display_name": "Python 3 (ipykernel)",
   "language": "python",
   "name": "python3"
  },
  "language_info": {
   "codemirror_mode": {
    "name": "ipython",
    "version": 3
   },
   "file_extension": ".py",
   "mimetype": "text/x-python",
   "name": "python",
   "nbconvert_exporter": "python",
   "pygments_lexer": "ipython3",
   "version": "3.8.15"
  }
 },
 "nbformat": 4,
 "nbformat_minor": 1
}
