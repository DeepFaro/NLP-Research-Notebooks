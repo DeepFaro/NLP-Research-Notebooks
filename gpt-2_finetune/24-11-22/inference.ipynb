{
 "cells": [
  {
   "cell_type": "code",
   "execution_count": 1,
   "metadata": {},
   "outputs": [],
   "source": [
    "from transformers import T5Tokenizer,AutoModelForCausalLM"
   ]
  },
  {
   "cell_type": "code",
   "execution_count": 3,
   "metadata": {},
   "outputs": [],
   "source": [
    "tokenizer = T5Tokenizer.from_pretrained(r\"C:\\Users\\Admin\\Documents\\GitHub\\text-generation-research\\gpt-2_finetune\\title_content_model\", bos_token='<s>', eos_token='</s>', pad_token='<pad>')"
   ]
  },
  {
   "cell_type": "code",
   "execution_count": 4,
   "metadata": {},
   "outputs": [],
   "source": [
    "model = AutoModelForCausalLM.from_pretrained(r\"C:\\Users\\Admin\\Documents\\GitHub\\text-generation-research\\gpt-2_finetune\\title_content_model\")"
   ]
  },
  {
   "cell_type": "code",
   "execution_count": 5,
   "metadata": {},
   "outputs": [
    {
     "name": "stderr",
     "output_type": "stream",
     "text": [
      "Setting `pad_token_id` to `eos_token_id`:2 for open-end generation.\n"
     ]
    }
   ],
   "source": [
    "text = '【ブローチェ　アヴェダ】また、ピンクブラウンにはメリットが多いのも魅力の一つ。'\n",
    "prompt = f' Title: {text}\\n Content:'\n",
    "generated = tokenizer(f\"<s> {prompt}\", return_tensors=\"pt\").input_ids\n",
    "sample_outputs = model.generate(generated, do_sample=False, top_k=50, max_length=512, top_p=0.90, \n",
    "            temperature=0, num_return_sequences=1)\n",
    "pred_text = tokenizer.decode(sample_outputs[0], skip_special_tokens=True)\n",
    "           "
   ]
  },
  {
   "cell_type": "code",
   "execution_count": 6,
   "metadata": {},
   "outputs": [
    {
     "data": {
      "text/plain": [
       "'itle: 【ブローチェ アヴェダ】また、ピンクブラウンにはメリットが多いのも魅力の一つ。 Content:さんは、ボブヘアにピンクブラウンのカラーがぴったりハマっています。ピンクブラウンは、その名の通り乙女な雰囲気のカラー。とはいえ、ピンクとブラウンを混ぜると、色落ちが早まるのでおすすめできません。アッシュブラウンは、他のカラーと合わせることで、よりおしゃれに見えます。'"
      ]
     },
     "execution_count": 6,
     "metadata": {},
     "output_type": "execute_result"
    }
   ],
   "source": [
    "pred_text"
   ]
  }
 ],
 "metadata": {
  "kernelspec": {
   "display_name": "Python 3.8.12 ('venv')",
   "language": "python",
   "name": "python3"
  },
  "language_info": {
   "codemirror_mode": {
    "name": "ipython",
    "version": 3
   },
   "file_extension": ".py",
   "mimetype": "text/x-python",
   "name": "python",
   "nbconvert_exporter": "python",
   "pygments_lexer": "ipython3",
   "version": "3.8.12"
  },
  "orig_nbformat": 4,
  "vscode": {
   "interpreter": {
    "hash": "7bf549bcfbdd48dc6f984b1394fe292226f9ee0fe2edfef41a38f63dca90de25"
   }
  }
 },
 "nbformat": 4,
 "nbformat_minor": 2
}
