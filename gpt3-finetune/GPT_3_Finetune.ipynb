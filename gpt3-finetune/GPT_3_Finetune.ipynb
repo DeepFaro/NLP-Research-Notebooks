{
  "cells": [
    {
      "cell_type": "code",
      "execution_count": null,
      "metadata": {
        "id": "0xLy6u0kl6lM"
      },
      "outputs": [],
      "source": [
        "!pip install -Uq openai wandb"
      ]
    },
    {
      "cell_type": "code",
      "execution_count": null,
      "metadata": {
        "id": "cgJOFlQ5l6ns"
      },
      "outputs": [],
      "source": [
        "import openai\n",
        "import wandb\n",
        "from pathlib import Path\n",
        "import pandas as pd\n",
        "import numpy as np\n",
        "import json\n",
        "from tqdm import tqdm"
      ]
    },
    {
      "cell_type": "code",
      "execution_count": null,
      "metadata": {
        "colab": {
          "base_uri": "https://localhost:8080/"
        },
        "id": "oZGBakSbDCG_",
        "outputId": "ba82f272-004f-44ad-de3b-b5ce5447f445"
      },
      "outputs": [],
      "source": [
        "import os\n",
        "os.environ[\"WANDB_API_KEY\"] = \"\"\n",
        "!wandb login"
      ]
    },
    {
      "cell_type": "code",
      "execution_count": null,
      "metadata": {
        "colab": {
          "base_uri": "https://localhost:8080/"
        },
        "id": "Rv71q396l6qN",
        "outputId": "29dae066-176d-48a6-c211-a7739cf9b98b"
      },
      "outputs": [],
      "source": [
        "# create a job for splitting dataset\n",
        "run = wandb.init(project='GPT-3', job_type='finetune')"
      ]
    },
    {
      "cell_type": "code",
      "execution_count": null,
      "metadata": {
        "id": "FSMpuLrDl6sc"
      },
      "outputs": [],
      "source": [
        "# download full dataset\n",
        "artifact = run.use_artifact('borisd13/GPT-3/wiki-dataset:latest', type='dataset')\n",
        "dataset_path = artifact.get_path('wiki_title_description.jsonl').download()"
      ]
    },
    {
      "cell_type": "code",
      "execution_count": null,
      "metadata": {
        "colab": {
          "base_uri": "https://localhost:8080/"
        },
        "id": "QM2ol5vzl6xc",
        "outputId": "9e95c6f0-223e-44f0-9537-c89872e86364"
      },
      "outputs": [],
      "source": [
        "!head $dataset_path"
      ]
    },
    {
      "cell_type": "code",
      "execution_count": null,
      "metadata": {
        "colab": {
          "base_uri": "https://localhost:8080/"
        },
        "id": "NRR2rwMCl60F",
        "outputId": "45653707-015c-4663-a8c0-99f9cdab92d5"
      },
      "outputs": [],
      "source": [
        "!openai tools fine_tunes.prepare_data -f $dataset_path"
      ]
    },
    {
      "cell_type": "code",
      "execution_count": null,
      "metadata": {
        "colab": {
          "base_uri": "https://localhost:8080/"
        },
        "id": "JjjdcOG9EUwV",
        "outputId": "7a44e0ab-94c7-488e-dd3b-fd09890ffd33"
      },
      "outputs": [],
      "source": [
        "# check number of samples\n",
        "!wc -l $dataset_path"
      ]
    },
    {
      "cell_type": "code",
      "execution_count": null,
      "metadata": {
        "id": "yegvalb2EVG7"
      },
      "outputs": [],
      "source": [
        "# n_train = 50_000\n",
        "# n_valid = 10_000\n",
        "\n",
        "n_train = 500\n",
        "n_valid = 50"
      ]
    },
    {
      "cell_type": "code",
      "execution_count": null,
      "metadata": {
        "id": "pi7RlXbFE6YV"
      },
      "outputs": [],
      "source": [
        "wandb.config.update({'n_train': n_train,\n",
        "                     'n_valid': n_valid})"
      ]
    },
    {
      "cell_type": "code",
      "execution_count": null,
      "metadata": {
        "id": "vCfywIuXE7p8"
      },
      "outputs": [],
      "source": [
        "!head -n $n_train $dataset_path > wiki_train.jsonl\n",
        "!tail -n $n_valid $dataset_path > wiki_valid.jsonl"
      ]
    },
    {
      "cell_type": "code",
      "execution_count": null,
      "metadata": {
        "id": "V6SJ2tVmE8Ln"
      },
      "outputs": [],
      "source": [
        "# Create tables for better visualization (optional)\n",
        "df_train = pd.read_json('wiki_train.jsonl', orient='records', lines=True)\n",
        "df_valid = pd.read_json('wiki_valid.jsonl', orient='records', lines=True)\n",
        "table_train = wandb.Table(dataframe=df_train)\n",
        "table_valid = wandb.Table(dataframe=df_valid)"
      ]
    },
    {
      "cell_type": "code",
      "execution_count": null,
      "metadata": {
        "colab": {
          "base_uri": "https://localhost:8080/"
        },
        "id": "W6vbvrl7E8eu",
        "outputId": "210e9a66-4a61-4775-d2bf-666b6121e7e7"
      },
      "outputs": [],
      "source": [
        "# Create artifacts\n",
        "artifact_train = wandb.Artifact('train-wiki_train.jsonl', type='training_files', metadata={'samples': n_train})\n",
        "artifact_train.add_file('wiki_train.jsonl')\n",
        "artifact_train.add(table_train, 'wiki_train')\n",
        "\n",
        "artifact_valid = wandb.Artifact('valid-wiki_valid.jsonl', type='validation_files', metadata={'samples': n_valid})\n",
        "artifact_valid.add_file('wiki_valid.jsonl')\n",
        "artifact_valid.add(table_valid, 'wiki_valid')\n",
        "\n",
        "# Log files\n",
        "run.log_artifact(artifact_train)\n",
        "run.log_artifact(artifact_valid)"
      ]
    },
    {
      "cell_type": "code",
      "execution_count": null,
      "metadata": {
        "id": "gp0lL6zUFEa8"
      },
      "outputs": [],
      "source": [
        "# keep entity (typically your wandb username) for reference of artifact later in this demo\n",
        "entity = wandb.run.entity"
      ]
    },
    {
      "cell_type": "code",
      "execution_count": null,
      "metadata": {
        "id": "bc-VzEJXhvre"
      },
      "outputs": [],
      "source": [
        "# wandb.finish()"
      ]
    },
    {
      "cell_type": "code",
      "execution_count": null,
      "metadata": {
        "id": "vMwiQB96FIkc"
      },
      "outputs": [],
      "source": [
        "artifact_train = run.use_artifact(f'{entity}/GPT-3/train-wiki_train.jsonl:v0', type='training_files')\n",
        "train_file = artifact_train.get_path('wiki_train.jsonl').download()\n",
        "\n",
        "artifact_valid = run.use_artifact(f'{entity}/GPT-3/valid-wiki_valid.jsonl:v0', type='validation_files')\n",
        "valid_file = artifact_valid.get_path('wiki_valid.jsonl').download()"
      ]
    },
    {
      "cell_type": "code",
      "execution_count": null,
      "metadata": {
        "colab": {
          "base_uri": "https://localhost:8080/"
        },
        "id": "L3_5qNDaGMbm",
        "outputId": "78311c4e-142f-4398-9793-341a60d43f37"
      },
      "outputs": [],
      "source": [
        "# Enter credentials\n",
        "%env OPENAI_API_KEY= \"\""
      ]
    },
    {
      "cell_type": "code",
      "execution_count": null,
      "metadata": {
        "id": "wukpwgVWIDMg"
      },
      "outputs": [],
      "source": [
        "import os\n",
        "os.environ[\"OPENAI_API_KEY\"] = \"\""
      ]
    },
    {
      "cell_type": "code",
      "execution_count": null,
      "metadata": {
        "id": "RaXDv3j-FImf"
      },
      "outputs": [],
      "source": [
        "model = 'ada'  # can be ada, babbage or curie\n",
        "n_epochs = 1\n",
        "batch_size = 16\n",
        "learning_rate_multiplier = 0.1\n",
        "prompt_loss_weight = 0.1"
      ]
    },
    {
      "cell_type": "code",
      "execution_count": null,
      "metadata": {
        "colab": {
          "base_uri": "https://localhost:8080/"
        },
        "id": "dnTuLt25cCzc",
        "outputId": "0bb9730f-120d-4844-e76f-a33cd8b2823e"
      },
      "outputs": [],
      "source": [
        "!openai api fine_tunes.create \\\n",
        "    -t $train_file \\\n",
        "    -v $valid_file \\\n",
        "    -m $model \\\n",
        "    --n_epochs $n_epochs \\\n",
        "    --batch_size $batch_size \\\n",
        "    --learning_rate_multiplier $learning_rate_multiplier \\\n",
        "    --prompt_loss_weight $prompt_loss_weight"
      ]
    },
    {
      "cell_type": "code",
      "execution_count": null,
      "metadata": {
        "colab": {
          "base_uri": "https://localhost:8080/"
        },
        "id": "NmR8qBf5fZJG",
        "outputId": "a541410f-3747-4532-c671-9390f0d5eae0"
      },
      "outputs": [],
      "source": [
        "!openai api fine_tunes.follow -i ft-JIkbRhS6oIFJHlYzZKSyzcaF"
      ]
    },
    {
      "cell_type": "code",
      "execution_count": null,
      "metadata": {
        "id": "pxcBqptwVUBq"
      },
      "outputs": [],
      "source": [
        "!openai api fine_tunes.get -i ft-JIkbRhS6oIFJHlYzZKSyzcaF"
      ]
    },
    {
      "cell_type": "code",
      "execution_count": null,
      "metadata": {
        "colab": {
          "base_uri": "https://localhost:8080/"
        },
        "id": "p9fVZjBnVKVj",
        "outputId": "1148036e-34cc-420c-a318-d04acbe3bb67"
      },
      "outputs": [],
      "source": [
        "!openai api completions.create -m ada:ft-personal-2022-12-05-09-49-23 -p \"The Death of Germanicus\\n\\n###\\n\\n\""
      ]
    },
    {
      "cell_type": "markdown",
      "metadata": {
        "id": "9Mu4942tgLHU"
      },
      "source": [
        "**Train with GoogleWIT Data**"
      ]
    },
    {
      "cell_type": "code",
      "execution_count": null,
      "metadata": {
        "id": "8HYtUjwRg8Aj"
      },
      "outputs": [],
      "source": [
        "df_train = pd.read_json('Wikipedia_Japanese_All_train_prepared.jsonl', orient='records', lines=True)\n",
        "df_valid = pd.read_json('Wikipedia_Japanese_All_valid_prepared.jsonl', orient='records', lines=True)\n",
        "table_train = wandb.Table(dataframe=df_train)\n",
        "table_valid = wandb.Table(dataframe=df_valid)"
      ]
    },
    {
      "cell_type": "code",
      "execution_count": null,
      "metadata": {
        "colab": {
          "base_uri": "https://localhost:8080/"
        },
        "id": "fWeW0guug8C4",
        "outputId": "1d8d60d0-c0b2-4ea2-f686-091d8ec915b9"
      },
      "outputs": [],
      "source": [
        "# Create artifacts\n",
        "artifact_train = wandb.Artifact('train-Wikipedia_Japanese_All_train_prepared.jsonl', type='training_files')\n",
        "artifact_train.add_file('Wikipedia_Japanese_All_train_prepared.jsonl')\n",
        "artifact_train.add(table_train, 'Wikipedia_Japanese_All_train_prepared')\n",
        "\n",
        "artifact_valid = wandb.Artifact('valid-Wikipedia_Japanese_All_valid_prepared.jsonl', type='validation_files')\n",
        "artifact_valid.add_file('Wikipedia_Japanese_All_valid_prepared.jsonl')\n",
        "artifact_valid.add(table_valid, 'Wikipedia_Japanese_All_valid_prepared')\n",
        "\n",
        "# Log files\n",
        "run.log_artifact(artifact_train)\n",
        "run.log_artifact(artifact_valid)"
      ]
    },
    {
      "cell_type": "code",
      "execution_count": null,
      "metadata": {
        "id": "nDhNsUHZg8FF"
      },
      "outputs": [],
      "source": [
        "# keep entity (typically your wandb username) for reference of artifact later in this demo\n",
        "entity = wandb.run.entity"
      ]
    },
    {
      "cell_type": "code",
      "execution_count": null,
      "metadata": {
        "id": "wSZK1N2ng8Hb"
      },
      "outputs": [],
      "source": [
        "artifact_train = run.use_artifact(f'{entity}/GPT-3/train-Wikipedia_Japanese_All_train_prepared.jsonl:v0', type='training_files')\n",
        "train_file = artifact_train.get_path('Wikipedia_Japanese_All_train_prepared.jsonl').download()"
      ]
    },
    {
      "cell_type": "code",
      "execution_count": null,
      "metadata": {
        "id": "jC7cUeKTiKe0"
      },
      "outputs": [],
      "source": [
        "artifact_valid = run.use_artifact(f'{entity}/GPT-3/valid-Wikipedia_Japanese_All_valid_prepared.jsonl:v0', type='validation_files')\n",
        "valid_file = artifact_valid.get_path('Wikipedia_Japanese_All_valid_prepared.jsonl').download()"
      ]
    },
    {
      "cell_type": "code",
      "execution_count": null,
      "metadata": {
        "colab": {
          "base_uri": "https://localhost:8080/"
        },
        "id": "Ni-Kssadg8Jr",
        "outputId": "f7ea92b5-3b7f-42c1-ee81-1be52b000fa9"
      },
      "outputs": [],
      "source": [
        "# Enter credentials\n",
        "%env OPENAI_API_KEY= \"\""
      ]
    },
    {
      "cell_type": "code",
      "execution_count": null,
      "metadata": {
        "id": "Sb0A4te5hNRt"
      },
      "outputs": [],
      "source": [
        "import os\n",
        "os.environ[\"OPENAI_API_KEY\"] = \"\""
      ]
    },
    {
      "cell_type": "code",
      "execution_count": null,
      "metadata": {
        "id": "lZYeiSY6hNUZ"
      },
      "outputs": [],
      "source": [
        "model = 'ada'  # can be ada, babbage or curie\n",
        "n_epochs = 1\n",
        "batch_size = 16\n",
        "learning_rate_multiplier = 0.1\n",
        "prompt_loss_weight = 0.1"
      ]
    },
    {
      "cell_type": "code",
      "execution_count": null,
      "metadata": {
        "colab": {
          "base_uri": "https://localhost:8080/"
        },
        "id": "1D3Iz9gEhNdh",
        "outputId": "85ae5e0d-d62a-4235-9a68-6ff596709293"
      },
      "outputs": [],
      "source": [
        "!openai api fine_tunes.create \\\n",
        "    -t $train_file \\\n",
        "    -v $valid_file \\\n",
        "    -m $model \\\n",
        "    --n_epochs $n_epochs \\\n",
        "    --batch_size $batch_size \\\n",
        "    --learning_rate_multiplier $learning_rate_multiplier \\\n",
        "    --prompt_loss_weight $prompt_loss_weight"
      ]
    },
    {
      "cell_type": "code",
      "execution_count": null,
      "metadata": {
        "id": "tlYyLOHYwPAT"
      },
      "outputs": [],
      "source": [
        "import openai\n",
        "openai.api_key = \"\""
      ]
    },
    {
      "cell_type": "code",
      "execution_count": null,
      "metadata": {
        "id": "-pMuxX4FwAvu"
      },
      "outputs": [],
      "source": [
        "# create a completion\n",
        "completion = openai.Completion.create(engine=\"ada:ft-personal-2022-12-05-09-49-23\", prompt=\"Hello world\")"
      ]
    },
    {
      "cell_type": "code",
      "execution_count": null,
      "metadata": {
        "colab": {
          "base_uri": "https://localhost:8080/"
        },
        "id": "t4GOGDB5wU_8",
        "outputId": "9c34adc8-5161-42ab-d11d-34d65bbc32d0"
      },
      "outputs": [],
      "source": [
        "completion"
      ]
    },
    {
      "cell_type": "code",
      "execution_count": null,
      "metadata": {
        "colab": {
          "base_uri": "https://localhost:8080/"
        },
        "id": "IVfh1__twJd0",
        "outputId": "540ff3f2-dc08-4f70-a02a-09668bc3a0ac"
      },
      "outputs": [],
      "source": [
        "# print the completion\n",
        "print(completion.choices[0].text)"
      ]
    },
    {
      "cell_type": "code",
      "execution_count": null,
      "metadata": {
        "id": "1a7RxgNCwOWz"
      },
      "outputs": [],
      "source": [
        "# create a completion\n",
        "completion = openai.Completion.create(engine=\"ada\", prompt=\"Khawaja Muhammad Zaman of Luari\\n\\n###\\n\\n\", max_tokens = 2036)"
      ]
    },
    {
      "cell_type": "code",
      "execution_count": null,
      "metadata": {
        "id": "H7-7z7tfwOZW"
      },
      "outputs": [],
      "source": [
        "# print the completion\n",
        "print(completion)"
      ]
    },
    {
      "cell_type": "code",
      "execution_count": null,
      "metadata": {
        "id": "TE2ZE8M46P3v"
      },
      "outputs": [],
      "source": []
    },
    {
      "cell_type": "code",
      "execution_count": null,
      "metadata": {
        "id": "N3BAiplK6P6N"
      },
      "outputs": [],
      "source": []
    },
    {
      "cell_type": "code",
      "execution_count": null,
      "metadata": {
        "id": "EE4rJHHW6P8m"
      },
      "outputs": [],
      "source": []
    },
    {
      "cell_type": "code",
      "execution_count": null,
      "metadata": {
        "id": "4s2Z5dy86P_W"
      },
      "outputs": [],
      "source": []
    },
    {
      "cell_type": "code",
      "execution_count": null,
      "metadata": {
        "id": "usJ8FjlvwOcC"
      },
      "outputs": [],
      "source": []
    },
    {
      "cell_type": "code",
      "execution_count": null,
      "metadata": {
        "id": "Uje11fNkwOea"
      },
      "outputs": [],
      "source": []
    },
    {
      "cell_type": "code",
      "execution_count": null,
      "metadata": {
        "id": "aqBTU9bnwJhW"
      },
      "outputs": [],
      "source": []
    },
    {
      "cell_type": "code",
      "execution_count": null,
      "metadata": {
        "id": "gwvoW7TLFIok"
      },
      "outputs": [],
      "source": [
        "# !openai api fine_tunes.create \\\n",
        "#     -t /content/wiki_data_train_prepared.jsonl \\\n",
        "#     -v /content/wiki_data_valid_prepared.jsonl \\\n",
        "#     -m $model \\\n",
        "#     --n_epochs $n_epochs \\\n",
        "#     --batch_size $batch_size \\\n",
        "#     --learning_rate_multiplier $learning_rate_multiplier \\\n",
        "#     --prompt_loss_weight $prompt_loss_weight"
      ]
    }
  ],
  "metadata": {
    "accelerator": "GPU",
    "colab": {
      "provenance": []
    },
    "gpuClass": "standard",
    "kernelspec": {
      "display_name": "Python 3",
      "name": "python3"
    },
    "language_info": {
      "name": "python"
    }
  },
  "nbformat": 4,
  "nbformat_minor": 0
}
